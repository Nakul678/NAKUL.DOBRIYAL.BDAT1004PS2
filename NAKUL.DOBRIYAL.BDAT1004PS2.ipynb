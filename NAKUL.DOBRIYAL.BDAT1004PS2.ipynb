{
  "nbformat": 4,
  "nbformat_minor": 0,
  "metadata": {
    "colab": {
      "provenance": []
    },
    "kernelspec": {
      "name": "python3",
      "display_name": "Python 3"
    },
    "language_info": {
      "name": "python"
    }
  },
  "cells": [
    {
      "cell_type": "markdown",
      "source": [
        "###**Question 1**\n",
        "Consider the following Python module:\n",
        "\n",
        "\n",
        "\n",
        "```\n",
        "a = 0\n",
        "def b():\n",
        " global a\n",
        " a = c(a)\n",
        "def c(a):\n",
        " return a + 2\n",
        "```\n",
        "\n",
        "\n",
        "After importing the module into the interpreter, you execute:\n",
        "\n",
        "\n",
        "```\n",
        ">>> b()\n",
        ">>> b()\n",
        ">>> b()\n",
        ">>> a\n",
        "?\n",
        "```\n",
        "\n",
        "\n",
        "What value is displayed when the last expression (a) is evaluated? Explain your\n",
        "answer by indicating what happens in every executed statement\n",
        "\n",
        "\n"
      ],
      "metadata": {
        "id": "TTicr1EKsMgL"
      }
    },
    {
      "cell_type": "markdown",
      "source": [
        "### **Answer 1:**\n",
        "Upon importing the module, we initialize a variable a to 0.\n",
        "\n",
        "* The module defines a function b(), which takes no arguments. Inside this function, it refers to a as a global variable. The function b() changes the value of a by calling another function, c(a).\n",
        "\n",
        "* The function c(a) takes one argument and returns the value of that argument plus 2.\n",
        "\n",
        "* When we run b(), it calls c(a) with a being 0 (the initial value of a). The function c(a) adds 2 to a and returns 2. The result 2 is then assigned to the global variable a. Thus, after the first call of b(), a becomes 2.\n",
        "\n",
        "* Now, when we run b() again, it calls c(a) with the updated value of a, which is 2. The function c(a) adds 2 to a and returns 4. This value 4 is assigned to the global variable a. Therefore, after the second call of b(), a turns into 4.\n",
        "\n",
        "* On the third call to b(), it calls c(a) with a being 4 this time. The function c(a) adds 2 to a and returns 6. This value 6 is again assigned to the global variable a. Consequently, after the third call to b(), a is 6.\n",
        "\n",
        "* In conclusion, after three calls to b(), the global variable a's value is updated to 6. So, when we evaluate a after these calls, it returns 6.\n",
        "\n",
        "\n",
        "\n",
        "\n"
      ],
      "metadata": {
        "id": "vjY6q5thtrAP"
      }
    },
    {
      "cell_type": "markdown",
      "source": [
        "## **Question 2**\n",
        "Function fileLength(), given to you, takes the name of a file as input and returns\n",
        "the length of the file:\n",
        "\n",
        "```\n",
        ">>> fileLength('midterm.py')\n",
        "284\n",
        ">>> fileLength('idterm.py')\n",
        "Traceback (most recent call last):\n",
        "File \"<pyshell#34>\", line 1, in <module>\n",
        " fileLength('idterm.py')\n",
        "File \"/Users/me/midterm.py\", line 3, in fileLength\n",
        " infile = open(filename)\n",
        "FileNotFoundError: [Errno 2] No such file or directory:\n",
        "'idterm.py'\n",
        "```\n",
        "As shown above, if the file cannot be found by the interpreter or if it cannot be read\n",
        "as a text file, an exception will be raised. Modify function fileLength() so that a\n",
        "friendly message is printed instead:\n",
        "```\n",
        ">>> fileLength('midterm.py')\n",
        "358\n",
        ">>> fileLength('idterm.py')\n",
        "File idterm.py not found.\n",
        "```\n",
        "\n",
        "\n"
      ],
      "metadata": {
        "id": "61Xs-xaRu1lY"
      }
    },
    {
      "cell_type": "markdown",
      "source": [
        "###**Answer 2:**\n",
        "\n",
        "In Python, we can handle exceptions by using try and except blocks. The try block lets you test a block of code for errors, while the except block lets you handle the error.\n",
        "\n",
        "Here's how you can modify the fileLength() function:"
      ],
      "metadata": {
        "id": "RUOnUQokwAUg"
      }
    },
    {
      "cell_type": "code",
      "source": [
        "def file_length(file_name):\n",
        "    try:\n",
        "        file = open(file_name)\n",
        "        contents = file.read()\n",
        "        file.close()\n",
        "        print(len(contents))\n",
        "    except FileNotFoundError:\n",
        "        print(f'File {file_name} not found.')\n",
        "file_length('Mid_term.txt')\n",
        "file_length('idterm.py')"
      ],
      "metadata": {
        "colab": {
          "base_uri": "https://localhost:8080/"
        },
        "id": "rr2Q6xe41j5s",
        "outputId": "f8128285-626b-4ab1-e14c-34d252eb51f2"
      },
      "execution_count": 5,
      "outputs": [
        {
          "output_type": "stream",
          "name": "stdout",
          "text": [
            "125\n",
            "File idterm.py not found.\n"
          ]
        }
      ]
    },
    {
      "cell_type": "markdown",
      "source": [
        "## ***Question 3***\n",
        "Write a class named Marsupial that can be used as shown below:\n",
        "\n",
        "\n",
        "\n",
        "```\n",
        "\n",
        ">>> m = Marsupial()\n",
        ">>> m.put_in_pouch('doll')\n",
        ">>> m.put_in_pouch('firetruck')\n",
        ">>> m.put_in_pouch('kitten')\n",
        ">>> m.pouch_contents()\n",
        "['doll', 'firetruck', 'kitten']\n",
        "```\n",
        "\n",
        "\n",
        "Now write a class named Kangaroo as a subclass of Marsupial that inherits all the\n",
        "attributes of Marsupial and also:\n",
        "a. extends the Marsupial _init_ constructor to take, as input, the\n",
        "coordinates x and y of the Kangaroo object,\n",
        "b. supports method jump that takes number values dx and dy as input and\n",
        "moves the kangaroo by dx units along the x-axis and by dy units along the y-axis, and\n",
        "c. overloads the _str_ operator so it behaves as shown below.\n",
        "\n",
        "\n",
        "\n",
        "```\n",
        ">>> k = Kangaroo(0,0)\n",
        ">>> print(k)\n",
        "I am a Kangaroo located at coordinates (0,0)\n",
        ">>> k.put_in_pouch('doll')\n",
        ">>> k.put_in_pouch('firetruck')\n",
        ">>> k.put_in_pouch('kitten')\n",
        ">>> k.pouch_contents()\n",
        "['doll', 'firetruck', 'kitten']\n",
        ">>> k.jump(1,0)\n",
        ">>> k.jump(1,0)\n",
        ">>> k.jump(1,0)\n",
        ">>> print(k)\n",
        "I am a Kangaroo located at coordinates (3,0)\n",
        "```\n",
        "\n",
        "\n",
        "\n"
      ],
      "metadata": {
        "id": "yOQYv0D5_pbv"
      }
    },
    {
      "cell_type": "markdown",
      "source": [
        "###**Answer 3**\n",
        "\n",
        "Here is the code that accomplishes the requested functionality:"
      ],
      "metadata": {
        "id": "7BOaMH2dAm5i"
      }
    },
    {
      "cell_type": "code",
      "source": [
        "class Marsupial:\n",
        "    def __init__(self):\n",
        "        self.pouch = []\n",
        "\n",
        "    def put_in_pouch(self, item):\n",
        "        self.pouch.append(item)\n",
        "\n",
        "    def pouch_contents(self):\n",
        "        return self.pouch\n",
        "\n",
        "class Kangaroo(Marsupial):\n",
        "    def __init__(self, x, y):\n",
        "        Marsupial.__init__(self)\n",
        "        self.x = x\n",
        "        self.y = y\n",
        "\n",
        "    def jump(self, dx, dy):\n",
        "        self.x += dx\n",
        "        self.y += dy\n",
        "\n",
        "    def __str__(self):\n",
        "        return f\"I am a Kangaroo located at coordinates ({self.x},{self.y})\"\n",
        "\n",
        "\n",
        "m = Marsupial()\n",
        "m.put_in_pouch('doll')\n",
        "m.put_in_pouch('firetruck')\n",
        "m.put_in_pouch('kitten')\n",
        "print(m.pouch_contents())\n",
        "\n",
        "k = Kangaroo(0,0)\n",
        "print(k)\n",
        "k.put_in_pouch('doll')\n",
        "k.put_in_pouch('firetruck')\n",
        "k.put_in_pouch('kitten')\n",
        "print(k.pouch_contents())\n",
        "k.jump(1,0)\n",
        "k.jump(1,0)\n",
        "k.jump(1,0)\n",
        "print(k)"
      ],
      "metadata": {
        "colab": {
          "base_uri": "https://localhost:8080/"
        },
        "id": "poL6F1bsA-aA",
        "outputId": "ef09bb1d-a861-4473-faab-303cee25ba3e"
      },
      "execution_count": 11,
      "outputs": [
        {
          "output_type": "stream",
          "name": "stdout",
          "text": [
            "['doll', 'firetruck', 'kitten']\n",
            "I am a Kangaroo located at coordinates (0,0)\n",
            "['doll', 'firetruck', 'kitten']\n",
            "I am a Kangaroo located at coordinates (3,0)\n"
          ]
        }
      ]
    },
    {
      "cell_type": "markdown",
      "source": [
        "###**Question 4**\n",
        "\n",
        "Write function collatz() that takes a positive integer x as input and prints the\n",
        "Collatz sequence starting at x. A Collatz sequence is obtained by repeatedly applying\n",
        "this rule to the previous number x in the sequence:\n",
        "\n",
        "\n",
        "```\n",
        "x = {\n",
        "𝑥/2 𝑖𝑓 𝑥 𝑖𝑠 𝑒𝑣𝑒𝑛\n",
        "3𝑥 + 1 𝑖𝑓 𝑥 𝑖𝑠 𝑜𝑑𝑑 }\n",
        "```\n",
        "\n",
        "\n",
        "\n",
        "\n",
        "Your function should stop when the sequence gets to number 1. Your\n",
        "implementation must be recursive, without any loops.\n",
        "\n",
        "\n",
        "\n",
        "```\n",
        ">>> collatz(1)\n",
        "1\n",
        ">>> collatz(10)\n",
        "10\n",
        "5\n",
        "16\n",
        "8\n",
        "4\n",
        "2\n",
        "1\n",
        "```\n",
        "\n",
        "\n",
        "\n"
      ],
      "metadata": {
        "id": "FiO5Pl57CdPX"
      }
    },
    {
      "cell_type": "markdown",
      "source": [
        "###**Answer 4**\n",
        "\n",
        "\n",
        "The Collatz sequence is a sequence of numbers where each next number in the sequence is obtained from the previous number using the following rules:\n",
        "\n",
        "If the previous number is even, the next number is one half of the previous number.\n",
        "If the previous number is odd, the next number is 3 times the previous number plus 1.\n",
        "The sequence ends when it reaches 1.\n",
        "\n",
        "Here's a Python function collatz() that generates a Collatz sequence using recursion, as you specified. The function prints each number in the sequence, and makes a recursive call with the next number in the sequence until it reaches 1."
      ],
      "metadata": {
        "id": "b4wjDEIRD3nW"
      }
    },
    {
      "cell_type": "code",
      "source": [
        "def collatz(x):\n",
        "    print(x)\n",
        "    # base case: if x is 1, we're done\n",
        "    if x == 1:\n",
        "        return\n",
        "    # recursive case: if x is even, divide it by 2\n",
        "    elif x % 2 == 0:\n",
        "        collatz(x // 2)\n",
        "    # recursive case: if x is odd, multiply it by 3 and add 1\n",
        "    else:\n",
        "        collatz(3*x + 1)\n",
        "\n",
        "collatz(1)\n",
        "collatz(10)"
      ],
      "metadata": {
        "colab": {
          "base_uri": "https://localhost:8080/"
        },
        "id": "p491zA_oH05i",
        "outputId": "6f5f1a80-3e14-4481-9bc7-7e95a2a239d6"
      },
      "execution_count": 18,
      "outputs": [
        {
          "output_type": "stream",
          "name": "stdout",
          "text": [
            "1\n",
            "10\n",
            "5\n",
            "16\n",
            "8\n",
            "4\n",
            "2\n",
            "1\n"
          ]
        }
      ]
    },
    {
      "cell_type": "markdown",
      "source": [
        "###**Question 5**\n",
        "\n",
        "Write a recursive method binary() that takes a non-negative\n",
        "integer n and prints the binary representation of integer n.\n",
        "\n",
        "\n",
        "\n",
        "```\n",
        ">>> binary(0)\n",
        "0\n",
        ">>> binary(1)\n",
        "1\n",
        ">>> binary(3)\n",
        "11\n",
        ">>> binary(9)\n",
        "1001\n",
        "```\n",
        "\n",
        "\n"
      ],
      "metadata": {
        "id": "rNMsi2JGFpo0"
      }
    },
    {
      "cell_type": "markdown",
      "source": [
        "###**Answer 5**\n",
        "The binary representation of an integer can be found using a recursive method. The binary representation of a non-negative integer n is:\n",
        "\n",
        "'0' if n is 0 '1' if n is 1 The binary representation of n // 2 followed by n % 2 if n > 1 Here is the recursive function binary() in Python:"
      ],
      "metadata": {
        "id": "Xa2_EJUtGVQt"
      }
    },
    {
      "cell_type": "code",
      "source": [
        "def binary(n):\n",
        "    if n == 0:\n",
        "        return '0'\n",
        "    elif n == 1:\n",
        "        return '1'\n",
        "    else:\n",
        "        return binary(n // 2) + str(n % 2)\n",
        "        print(binary(n))\n",
        "        print(binary(0))  # prints '0'\n",
        "print(binary(1))  # prints '1'\n",
        "print(binary(3))  # prints '11'\n",
        "print(binary(9))  # prints '1001'"
      ],
      "metadata": {
        "colab": {
          "base_uri": "https://localhost:8080/"
        },
        "id": "zHuso_ADGgoG",
        "outputId": "8f741908-2ce6-492d-e61a-0403974e0278"
      },
      "execution_count": 20,
      "outputs": [
        {
          "output_type": "stream",
          "name": "stdout",
          "text": [
            "1\n",
            "11\n",
            "1001\n"
          ]
        }
      ]
    },
    {
      "cell_type": "markdown",
      "source": [
        "This function first checks whether the given number n is 0 or 1, in which case it returns a string representation of the number. Otherwise, it performs a recursive call to compute the binary representation of the integer division of n by 2, and then appends the result of n modulo 2."
      ],
      "metadata": {
        "id": "5IWCuy4FGtl4"
      }
    },
    {
      "cell_type": "markdown",
      "source": [
        "###**Question 6**\n",
        "\n",
        "Implement a class named HeadingParser that can be used to parse an HTML\n",
        "document, and retrieve and print all the headings in the document. You should\n",
        "implement your class as a subclass of HTMLParser, defined in Standard Library\n",
        "module html.parser. When fed a string containing HTML code, your class should\n",
        "print the headings, one per line and in the order in which they appear in the\n",
        "document. Each heading should be indented as follows: an h1 heading should have indentation 0, and h2 heading should have indentation 1, etc. Test your\n",
        "implementation using w3c.html.\n",
        "\n",
        "\n",
        "\n",
        "```\n",
        ">>> infile = open('w3c.html')\n",
        ">>> content = infile.read()\n",
        ">>> infile.close()\n",
        ">>> hp = HeadingParser()\n",
        ">>> hp.feed(content)\n",
        "W3C Mission\n",
        "Principles\n",
        "```\n",
        "\n",
        "\n"
      ],
      "metadata": {
        "id": "cxP_vasbKKMD"
      }
    },
    {
      "cell_type": "markdown",
      "source": [
        "###**Answer 6**\n",
        "\n",
        "First, ensure that you have the HTMLParser module installed. This module provides classes for parsing HTML text. We can create a custom parser by subclassing HTMLParser and overriding its methods.\n",
        "\n",
        "The starttag method is called for each start tag in the input text. By checking if the tag is one of the heading tags, we can extract the heading level and store it for later use.\n",
        "\n",
        "The handle_data method is called for each chunk of text data in the input text. When we are in a heading, this will be the text of the heading, so we print it with appropriate indentation.\n",
        "\n",
        "Here's the code that accomplishes the task:"
      ],
      "metadata": {
        "id": "plO_Du_tK6rQ"
      }
    },
    {
      "cell_type": "code",
      "source": [
        "from html.parser import HTMLParser\n",
        "\n",
        "class HeadingParser(HTMLParser):\n",
        "    def __init__(self):\n",
        "        super().__init__()\n",
        "        self.in_heading = False\n",
        "        self.indent = 0\n",
        "\n",
        "    def handle_starttag(self, tag, attrs):\n",
        "        if tag in ['h1', 'h2', 'h3', 'h4', 'h5', 'h6']:\n",
        "            self.in_heading = True\n",
        "            self.indent = int(tag[1]) - 1\n",
        "\n",
        "    def handle_endtag(self, tag):\n",
        "        if tag in ['h1', 'h2', 'h3', 'h4', 'h5', 'h6']:\n",
        "            self.in_heading = False\n",
        "\n",
        "    def handle_data(self, data):\n",
        "        if self.in_heading:\n",
        "            print(' ' * self.indent + data)\n",
        "\n",
        "# read file content\n",
        "with open('w3c.html', 'r') as f:\n",
        "    content = f.read()\n",
        "\n",
        "hp = HeadingParser()\n",
        "hp.feed(content)\n"
      ],
      "metadata": {
        "colab": {
          "base_uri": "https://localhost:8080/"
        },
        "id": "6GLhVOsVLGoL",
        "outputId": "2b05dad2-002c-4134-d774-7d27100b6e97"
      },
      "execution_count": 23,
      "outputs": [
        {
          "output_type": "stream",
          "name": "stdout",
          "text": [
            "W3C Mission\n",
            " Principles\n"
          ]
        }
      ]
    },
    {
      "cell_type": "markdown",
      "source": [
        "###**Question 7**\n",
        "\n",
        "Implement recursive function webdir() that takes as input: a URL (as a string) and\n",
        "non-negative integers depth and indent. Your function should visit every web\n",
        "page reachable from the starting URL web page in depth clicks or less, and print\n",
        "each web page's URL. As shown below, indentation, specified by indent, should\n",
        "be used to indicate the depth of a URL.\n",
        "\n",
        "\n",
        "```\n",
        "\n",
        ">>>\n",
        "webdir('http://reed.cs.depaul.edu/lperkovic/csc242/test1.html'\n",
        ", 2, 0)\n",
        "http://reed.cs.depaul.edu/lperkovic/csc242/test1.html\n",
        " http://reed.cs.depaul.edu/lperkovic/csc242/test2.html\n",
        " http://reed.cs.depaul.edu/lperkovic/csc242/test4.html\n",
        " http://reed.cs.depaul.edu/lperkovic/csc242/test3.html\n",
        " http://reed.cs.depaul.edu/lperkovic/csc242/test4.html\n",
        "\n",
        "```\n",
        "\n",
        "\n"
      ],
      "metadata": {
        "id": "0Ik45jb1N4u5"
      }
    },
    {
      "cell_type": "markdown",
      "source": [
        "###**Answer 7**\n",
        "\n",
        "\n",
        "Here's a Python script implementing the webdir() function as per your requirements. This script uses the requests library to make HTTP requests, the BeautifulSoup library to parse HTML responses, and the urljoin function to resolve relative URLs.\n",
        "\n",
        "It's important to note that this function might generate a lot of traffic for websites and could potentially lead to your IP being blocked. You should respect the website's robots.txt and terms of service while running such functions."
      ],
      "metadata": {
        "id": "mc6g7xz1OThI"
      }
    },
    {
      "cell_type": "code",
      "source": [
        "import requests\n",
        "from bs4 import BeautifulSoup\n",
        "from urllib.parse import urljoin\n",
        "\n",
        "# Recursive function to visit and print web pages' URLs\n",
        "def webdir(url, depth, indent):\n",
        "    # Base case: if depth is less than 0, we stop\n",
        "    if depth < 0:\n",
        "        return\n",
        "\n",
        "    # Indent and print the URL\n",
        "    print(' ' * indent, url)\n",
        "\n",
        "    try:\n",
        "        # Send a GET request to the URL\n",
        "        response = requests.get(url)\n",
        "        # Parse the HTML response\n",
        "        soup = BeautifulSoup(response.text, 'html.parser')\n",
        "\n",
        "        # For each <a> tag with an href attribute in the parsed HTML\n",
        "        for a_tag in soup.find_all('a', href=True):\n",
        "            href = a_tag['href']\n",
        "\n",
        "            # If the href is an absolute URL\n",
        "            if href.startswith('http'):\n",
        "                # Recursively call webdir() with the new URL, decreased depth and increased indent\n",
        "                webdir(href, depth-1, indent+1)\n",
        "            else:\n",
        "                # If the href is a relative URL, join it with the base URL\n",
        "                next_url = urljoin(url, href)\n",
        "                # Recursively call webdir() with the new URL, decreased depth and increased indent\n",
        "                webdir(next_url, depth-1, indent+1)\n",
        "\n",
        "    except Exception as e:\n",
        "        # In case of exceptions, print an error message\n",
        "        print(' ' * indent, 'Error:', e)\n",
        "\n",
        "# Call the function with the initial URL, depth and indent\n",
        "webdir('http://reed.cs.depaul.edu/lperkovic/csc242/test1.html', 2, 0)"
      ],
      "metadata": {
        "colab": {
          "base_uri": "https://localhost:8080/"
        },
        "id": "Gg0fqZtfO9AK",
        "outputId": "0c7fe702-c97b-4c2a-a6d0-7639dd8e152c"
      },
      "execution_count": 24,
      "outputs": [
        {
          "output_type": "stream",
          "name": "stdout",
          "text": [
            " http://reed.cs.depaul.edu/lperkovic/csc242/test1.html\n"
          ]
        }
      ]
    },
    {
      "cell_type": "markdown",
      "source": [
        "###**Question 8**\n",
        "\n",
        "Write SQL queries on the below database table that return:\n",
        "\n",
        "a) All the temperature data.\n",
        "\n",
        "b) All the cities, but without repetition.\n",
        "\n",
        "c) All the records for India.\n",
        "\n",
        "d) All the Fall records.\n",
        "\n",
        "e) The city, country, and season for which the average rainfall is between 200 and 400 millimeters.\n",
        "\n",
        "f) The city and country for which the average Fall temperature is above 20 degrees, in increasing temperature order.\n",
        "\n",
        "\n",
        "g) The total annual rainfall for Cairo.\n",
        "\n",
        "h) The total rainfall for each season\n",
        "\n",
        "\n",
        "![Table.png](data:image/png;base64,iVBORw0KGgoAAAANSUhEUgAAAgEAAAHvCAYAAADNQAwOAAAIQmlDQ1BJQ0MgUHJvZmlsZQAASIntl3s81Pkax5/f3GeMcRk0rg1FjVsu5ZJLGEpCrrlmYwaNjMsYISKVVlspJSodeYmiTVJWWkXJKmKlDt2VHJdtK2FRjGZ/w9nTObuvc87r/Hu2Z16/1/c9z+/3+36fmed5PZ/vF0DGOjQuLhojC8CPEQq81jgw/QMCmcRXQAE8yKAffCgnIc7ew8MVUPtt/Feb7AFEMj4wkMz1x/v/0Wjc8AQOAKKPciw3gcNH+STKjpw4gRDllygvShLGoYzBoawgQANEmSHhyHmWvKsQNs92c8/4eLFR9kEvatgc4zZJOHKOCdES3sqJROckJaPPG8VweTEol6P3bDmbQ7loWMOoX5/Pj0VZRgHlpfNxzpkiOzY6VsB0ZTsy2aHRvDBBqDCc+z/+7v9q/OjE39aT/LvU8Bhfb0kc6KUGbIiFaPQSABNc0W+O6MiGUNTHgzDUGwpCCAeuMDxZKJmAHRuXIuBFbhYy7dEMhTPXxnAM9ZkmRsYWAJJ8zy8z7jW3EqLU+dnHyQIwfw9Anv7s448DXKQAMN0++7RDABgEgPJBTqJg6+ewQRY0wRjswWsurl1wBE5DDTTDX2EAJhACwkBWIN5IAnIUqUOeY7AYfcwGTCamCtOLlcE6YJOwldhBHBMXjCvEPcWr4Tfhy/BvCWaETMKPRHUin9hIopN4pJtkFXIi+T7FlFJAEUlxpDqoltRyaYb0fhqGlkqbkkmUmZTdJofIfSOvJF9Kt6DfU4hSJCqWKTkpDS7IZugx7ikLVZRVGlS5alJql9QDNbAalQuDmIrMLs2DWusXyS16sLhAO0hHU2dwyfmlCayVuohuq16ufpCBtsF7w/vLrhmdMT5skm7KW+69YqXZQnPE/KXFNcu8lVFWNtY062c2FbbCVavsSHZd9pcdathXHL93alh9a02rc+faHpfedUOuo24z60keSp46Xhberj4c37QNx/wa/IcD6UH2wXEbS0K6N1FC7cNSOXXcqQiLyNTNN6MoW3yjS/kTsc5xRfEjCdbCfYm9ScuTD6WMpvqltaTbZDRkrtvZv3vvHpts2Nu17+KBkwcP5zofweb9kJ97LPwE+6R+kVaxdsnyUvcz8eWF5+5WQpV5tfvlgO82X0m7erT+0vX7jZNNGs3OLcI7xW0/ts92GnRtfJDTfeMR/QnnWWXvmz61fosBuyHjn2ivH77Jebds5Oao81jzLyYTJyanP3h+LJseFa2czfh0Qyz+XS0ggAUCUIEO6mgdm8Fq8Ac+ZMEpqIcnMItoIS5IIlKK9GCkMI5oFTRhSVhP7CnsGM4FdxZPxgvwLwg+aObdid0kDukjOZ9iSRmQOk61oz6TTqUxaa0ySbK6sv1yp+TD6Cz6lMJtxSKl1AVBDDtlPRWGqpQaRk2kPq0hYoImUUt+kfpiQ20bHa8lkUt3sI7rfqfXpf/eUHaZiZGfcbpJqWnn8hkzlnmAxWHL+1YK1gE2pbYjdjb2BxxeOJo67Vvd52y9Nt9lzNXDrXI91SPas81b12ef72s/F/9zgeQgXvDtEJ2vsjYNhLE5Z8KxEdzIWzydqD1bhvmuMVVxivHJgpdCx8QLSYzk9JSfU/3RnJllnM1U3pmzG5eVtmcsO3Bv9Tfi/T4HzuZMH/LOvXCEksc72lKgd2z/8ZFCv5PXi3RO5RaLSrin28uszpwtl6vYdm7wvHfltSqdiwerJy+H1LTUGlw5VPf+e8/6C9cpDRGNDTflm8Jv1f6Aa/G4XXinv411l9d+pqOvU+WeZ1fW/ZoHr7opPUYPvR4JHuc8qXh661n388He0ReiPuQVsZ/wN8IADEwPvh3qHe74qe51yc/Zb2Leur3TGyGOvHhfN7p3LHCcNT72y7WJnZOOU4Sp5g8ZH60+jk6XzQSKKKLaWc4n6U+XxAF/qAUS2hkYaNdaCkZgjlaCH0RBOuTBt2hv6IUPCB0xQtyRGOQQchl5jAEMC+OD2YmpxrzCKmFdsbuxjdgZnA1uF64dz8BH4GsJZEIIoZYoS4wm3iXpkw6SJsjB5BaKIaVACisVL9VH9aW2SbOlG2jWtOsy9jJ3ZD1le+X4cmL5PLohvUMhRlFesU4pdIHUgjpGhLKS8m2VFFV91T61AvX1GiSNpoU7mA6aBM0OrfxFoYsNF4u023WKlsQvdWKpssZ02/RO62cYBBlaLWMZMYzJxiKTEdP+5Q9XtJnVm5+3OGH59UqBVZA120bXVtZ2YtUTuwb7Kodq9mXHK071qxvXNDu3rb3n8nDdC9cht1H3GQ+Sp5LXEm9LHzdf7obtfif8rwY8CZwN1troEiL8qnhTZxjCMePGhFdEDG7W4UVFVW+Z5q+JyY8djrcWbE9oTMRtdU0qSB7cZpmakzaU7pRRnknbmbJrKCtgz71sl7239znvb8/xOvgyN+OIRt6N/IhjtON1hdy/0ItaireXmJ0eK6s+m1hh/S3hfPeFsotpl4JrzGppV/qv1tTvuu7eyLjR11TRLGixvkNs7blb0bGjM7jL9oF2t1zPnUe+jweebnuu0HvppU+fqL98IGBIZrj1dfabde9kRx6OFo9HTZhNYT50TheKIj+ZisXz2vv3YkD+SeX+Dc/rs8QIZgBHvwaQaKFXBcD+8wBLUgAWoHrkIQ3gYwkYzTWATDQB4mIDWPRlzNwcOHRHI+k7umABzhCAKmUmFEAVtEI/2nm+qND/sQr9I//yaP5ZX7rNn63bfNl5/Ll3HgAJEaYm81pCdQDA94rF4zoAxMMAs7li8UyJWDx7GgD7DOBG9PyZb05r0FNxsaqEui6+/fD789mvGHqbfg7BVWYAAABWZVhJZk1NACoAAAAIAAGHaQAEAAAAAQAAABoAAAAAAAOShgAHAAAAEgAAAESgAgAEAAAAAQAAAgGgAwAEAAAAAQAAAe8AAAAAQVNDSUkAAABTY3JlZW5zaG90vBGzIgAAAdZpVFh0WE1MOmNvbS5hZG9iZS54bXAAAAAAADx4OnhtcG1ldGEgeG1sbnM6eD0iYWRvYmU6bnM6bWV0YS8iIHg6eG1wdGs9IlhNUCBDb3JlIDYuMC4wIj4KICAgPHJkZjpSREYgeG1sbnM6cmRmPSJodHRwOi8vd3d3LnczLm9yZy8xOTk5LzAyLzIyLXJkZi1zeW50YXgtbnMjIj4KICAgICAgPHJkZjpEZXNjcmlwdGlvbiByZGY6YWJvdXQ9IiIKICAgICAgICAgICAgeG1sbnM6ZXhpZj0iaHR0cDovL25zLmFkb2JlLmNvbS9leGlmLzEuMC8iPgogICAgICAgICA8ZXhpZjpQaXhlbFlEaW1lbnNpb24+NDk1PC9leGlmOlBpeGVsWURpbWVuc2lvbj4KICAgICAgICAgPGV4aWY6UGl4ZWxYRGltZW5zaW9uPjUxMzwvZXhpZjpQaXhlbFhEaW1lbnNpb24+CiAgICAgICAgIDxleGlmOlVzZXJDb21tZW50PlNjcmVlbnNob3Q8L2V4aWY6VXNlckNvbW1lbnQ+CiAgICAgIDwvcmRmOkRlc2NyaXB0aW9uPgogICA8L3JkZjpSREY+CjwveDp4bXBtZXRhPgqHFBl1AABAAElEQVR4AexdB3xURRMfegepUpWO9N47UqVLkSK9SC+iYEEFCyIIfIBK74I0EUGkCAgiBBCkqvTee+/wvvlP2MfdcXe5hCSXkNn8cm/f9v3v7nuzM7PzolmPLIvUKQKKgCKgCCgCikCUQyDmxs0BUa7T2mFFQBFQBBQBRSAqI1CiWEnpfkz8ps0TeBOVAQnPvp/aHaCYhyfgkaQunRfBHyjFLPiYRaYcOr5hM1rA1bjoxqNXRUARUAQUAUVAEYhaCCgRELXGW3urCCgCioAioAjYCCgRYEOhHkVAEVAEFAFF4NkQePQocunai07As3VZcysCioAiEPEQOLBnD/Xu2MJu2KOHDyl6jBj2vfHUa9SM2nXvbW6fq+v5s+co5Yupnqs+OXZm0ugRtGLJz3Tr1k0Jjhk9cHwTJEpELyRNRq83b0WVqr3mmMWr/6cfvqdP3+tNNeo1oEEjx3pN6xh57+49GjviK/p780ba+fdflDlrdpqxeCXFixfXMZnt37BmNQ377CO6d/8epUv/Mg2fOIO6tmhIF86fkzSjp86mjJmz2OnD0qOcgLBEV8tWBBQBvyFw6+ZN+mf7DmrQpAVNnP0zvfBCUn5Ab5H/H5b8ToNGjae7d+7QyePH/NbGsKz42JEj1Kp+tbCswu9lg3irVK2mPa7N2neir8dPo9z5C9HiBXOpTYM6NPzzT3xu58Z1a+jSxQu0Zf06n/Mg4fRx39Cwzz+mbDlyUrqXXmZiYDMd2PufxzJKVahEadKll3Yf2vcfxY8fjxq92dbux51btzzmDe0IJQJCG1EtTxFQBCIMAhWrVaPWXXrQi2nTUrToTx53ceLEobwFCtKHg4ZFmLaGZkNuMgHUq20zunH9WmgWGyHLSvliaqd2Zcmeg97//CvKwC9jooc0Z9pEevjwkVMaTze93h9AnXv3o0GjJ3hK4jZ83sypEg5O0w+/rKaAPUdkfrlN/DjwhWTJnaKTp/APx0bFAU7DoDeKgCLwvCCQLVdu+nz4GK/dKV+5KqWXlwURXpxjhg2mf3duo6zZc1KP9z+hhIkS0uRv/kfnz52VcqrUrEsrf11E+/7bTcVLl6cOPfvQglkzaPkvCykt7+y6vtufUqRKSVsCNtCqpYslz4tp0gpretminyhbzlzUokNXSpX6RbtdYEH/xizt2HHjUvsuvSlPoUJ07sxZmvLd/+w0vT8cSCO/HEjHjxySFxTatXrZEq7jFzp98jjlyluAGrdqTy9lzEhnT5+hdo1q0q7tf1OKlKnoq4/fp7wFi9Dh/Xvpxo3rUmbztp24zoV07uwZuX/t9cby0gJ73bCk6zRqSgf37uEd9Rxq17U3FStdxiNGdkP94IkWLZrbWl/KlIWOHztK58+epwvnztGLaQKJBU+4bd0YIGOL8nZu3UxFSpai1ct/pb8ecwWA4bWrl+l3xj1brjzUo99HFDtObJ4zX9GlC4Fs/K0b19P6NauoWp160iZPdbltsJ8ClQjwE/BarSKgCIQtApDHxsuQPshKsHO8c+cuvV6pJF2/dpUmzV1MrV+vQVv4gb5g9QbKmTc/DaxZScqZ9/0UKl2+Eq35bSX99utiWr74J4oRMyadPHaEli1awC+bszR62mzKU7Awfdn/XdqyaQPFi5uAChYrxi+QK7R00Y/0x8rlXG4AxYgRnb54/x0aP3oYjZo0k5b+vICa16lMP/2+kTJny86714c0buRQqffE0cO06Mc54m/apiMFMNt65OBPacyM+fTPjr9p9NAvaMlP82jpxp105MB+ih07jqTFCy1mrFgUk9uYJn0G1pFoKeHlXq1KeQsVpQZVSst9xixZhQgoVrYC1SpTSMKOHT7IbVpIDx/dp6TJk1O+wkU9YiQZItDPyaPHmFD7R1pUqXp1mwCAaMATbnl5zL765D3atP4PysEv+bbdelHREmWof6/OIjJKmDAxFShSlP7dtYOWMdEH987Hn1F05jA9esxpiM54x2LCAM5bXXHjBo6PJPTzzxP+mJ8botUrAoqAIuAvBMb/bwjt+WcXFSxSnF/6+SjbK7loK1tTXbd6peyiTbvadOpBI6fM4pd0oNIWxApzlq2hV2vUliT79/4rVzzkM2fLIf4UqVLQtJ+W0YQffub7GLSdd5k/z5lJB/ftpRkTxlJSZgvXatiEylSsTFeuXCa0BS5j5qxyxQ9Yx2O//5HadelFhUuUFoID4aeOH6UKVQMV3w4d2EdHD+6n4mXLUuHipRBN8RMkoD4ffUpVa9elPAUCX+4SwT/5ChUxXvuKfhv3z87ttPD3AGr9VjfhXnjDyOTx9/XHmdNYD6AmvV65pHBvSpWrSB9+OdxuFgg1OHe4YVefJccrdlp4EiVJTC++mEbC8hcuQjN/WUn5CxeT+x1bNsn1rd7vUmLWN4ErwFb4jCKit7okcQT5UU5ABBkIbYYioAj4D4GtvGOHO7h/D3Vv1YSO8MsU7j9+ERYsWkL8+MFuGi5evPhyTcmsfrj4CRLK9ca1JzJ4w6ZOwlrqeMGkfSkDpXoxBbPgz/LufRvdu3eXbt+5SQkSxhf5/akTx6WM/XsCFcpMfgQ2a/uWECc16r0uaaDL8PuyXyhHnnw0avBACcPPvfv3bb+rJ1o05z2fY/muaXFfvc7rvPsvLP+4H8K7ZDh3GJWtVFni/P1TtFRZ+nnuTDpz+hQ3JQa1ZqItE3M5jAsKN3eYGF2SlKkCRThx48aT4u7evWuKdXsNqi63mfwQ6Dwr/NAArVIRUAQUAX8jcO3yZWnCC0mT00dfjWR2/Sb668AZerNj12A1LajPscWNE/gCuco7/ksXLkjZN2/cot79mbU/c4HUOXHuoqfqzJLdeYdamHecN65fpx5tmjLXIredPloonlGHiMDRhRZGjmWGtv+lTJlpyLeTKFYs4PyQPu7TVfQrTD2hgZs7QsGU73gNjbocywsrf4iIANeJHtmMI4QVmGFdruIe1ghHnvId54Kuv2cft/xFAlm82KHHixdPFPfASj/Binih6cx5drDdS7D8HQ7cgC0Bf0qdUBg8cvCAhDv+gJPg6D55pztBI70lEylQ4HN17l5Ucbhfxj18FLS2vNErMHnCCyNTX0ivJcpVoLZdukl2cATeeStQDwIBQeEW0jrd5QvPutzV72uYz0TAmZMnWTv1U2pW81Uq+FJyKp83KyvPvEajv/qcWtevTlDEgOvRuikVzvQi/faLMzULoxXqgo/ApnXr6OO3u1GNkgWoQIZkVL1EPurZphlNG/sNawDXCn6BoZBDxzIUQAxBEdAY79y8ERXPnp6qFc9L9SuUoG+HDKL3u3UIQWlRL8ud27ftTt+8ccP2w1OucuB5+musGNj5zQa0dOEC6tm2KVlMbcHegHEm38OHDyTozq3AMm8/NlZz9+4dk9S+njtzmo4cOkjbNm+iCxfOU+JESViOX4MKFC3O4oFAFvM3Q76gHyZPYJb7BxSwdrXkhSKhcY5H3B7cf0ArHium/bn6Nxr8cT+TjP5cs1I0+OMnDBRP3GRuAU4QoOzUj0UXSPwvEztff9rfznfrMR5XH3NEEPHgcR9NIm8YmTT+uEKZ07gbVwP9fQcMsnUe1q5aQeNGDCVfcDPjeddhrpgxNfPgzp1bUt3t24FX3Dx8EDgf7t4JnA8+1fW4jjtsqwLu1u2n55lEhPFPjPbt2w1IlCpQzuWpLhidaMbasUtZqaJIydI0dMwU6vLuh6wVGY1mTRkvCjQ4QpL4hSQ04N2ecuwkdZp0vLCqSpHI375xLWrerpOnKqJU+PVzJygozAEIjh51Z6Jq37+7qWPPd2jwNxPptbqNWN51kr77+kuKw7Kppm3C9wWgYxl2U9XbvMDO/83alekAGxZZFrCD50Mfyp4zD33xYR/W3E5BtRu8EXYNi8Ale8PMNBtH5oDTn6zkd58ttMH9yxr1KVKlppczByr4ZcySndnz52n39u105PAB2Zm3ZSW8Mizr/rRvL9rNL0240yePsXw/Li2a+wPdZZn+tSuXmHOQQM6iX2d9ALwoEiZIxMp7pfgI3iL6h48bgqPw64J5kiZe/Pj0dv+BVPm12oTdOtj8639fSadPnaTNf/7BWuxpqf/gYXys7Rx9/v7bdJHbJPWyvkDVWnXFH51PFezlZ8L+//bwMyAOdenzPj8jdrGRm8uUOHFi4Qxgbvy5egUdPXKUDh/YQ30HDqYEfKwQBMmubVtZ4fE3Sp/hJdrD5cCdPXOS51BTkfubvp49dUK4FTgZAOcNI0kQBj9BjS9e7rMmjaVLly5K7cePHuIxuEXFy5STI5yL5s0iEH9/s5LnbTbAk4KJLk+4pUiRkiZ9O0KOUV6/doMSMiF17PAhWshKnJD/X792RU5dLJ73A1sovEUw6PNSpqw0d9okWvf77/To0QM5HZI6bXp6JU8er2ME2wYT+FQIRDpXr1yjOHyCYza/S08z5nA4mVG/aUt5x0pAKP8A1/TpAt/70QI2brC8fUr4BE+iZrUq8WQ6RGVZe3X6zyucGrb777+p3qtlaO32PZTu5ZdEmxaUbFsmCnBeFmdvW9SuwmdPz9Ifuw6GclciZ3G+fB4TBMAHPToLq/CzYd9Qy7ecZZODP3qPAv74nX5euyncQNCxDFuovc2L/3btpOol81MuVgRbvG4rH/uKKY35buiXTIRvoEnzAs+kh20LI17p3jALSWtvXLvOx8GO8nn+3E7PuZCU1bdzO5ozYzLlyV+Qfl6zmU8D7KGXs2Qj1+Nh2OXjZMLLGTNTwsSJfK7qFnMhYGnOuOtXr4k2u7nH1TUNwsCVAOFizs0jLDguNDEKqt7QHl/U54qJO9yCapev8eFZl69tQjrgWoL1SuACnyTidf8zZcxIIQAQ2657n6cWBgxbtGzfkWLGjs0U2Xg6zudZ4fazMY2HD3O6NVqxf88/Qp1JQv4BJbuaNV2xEGLzkZveHw4wUVH2OnrI50IAgF3oSgAAFBgyuczmLY0Dq3Hu95PpImseFytdjhq+2YaPFSWlQ3xmeN70yZIsYcJE1KzdWzR+5Ndyj53Iu8w2O338OM2Y+J2ExeJxfLV6LZrGZjBjxIjBO853+YGY06MBktMnjrk1LlK9dn37nC4KhonMNzt0oaEDPpB68hQoTDVfbyh+/QkagYfMAob7d/dOalmvGn067FvK+sor1Lb72/Rw5EOnAtwZn0ECsCi/n/AdbeMjandv3+FdXnl6s31nm6AAQY95ABZ4cjYyA+3w/HwuGm4O73bAesYuuCIfSavVsLGE+2JMRRJGkh+8hHPkzhMqrQWOxoFo81Qu7AXkzpffJPX56kgAIBOOs7k61zSIf1ab9KGJkWt7w+PeFRN3uIVWO8KzrpC2OUgiYNP6tXbZ+Qo+fa4UkR8PDbRsVaFKDSqXPwez3G4zsRCd/2O6NVoB28p93mot5b7Roq1M3ops//nTfr3oy2Caa5RCnrOfw6wYhDO/cGDBuXOYXF99N1Gifl+xjHUxmsjZ5v58Jrb9G3XoZ2aDzV62Vs4aH+IdCIxbpE3PFs36fsDsshs0lV/ycLBEliZDBmFD/TT7ewmDRTQYKgFRtmv7FlrmxQCJJ+MisNOOM8/mrOz0hcuFgMzOO6wRgz4RTpFUpj8+IZC7YCHZKYIjt545bbXKFBEiqt+nX1H3fk9ku96MzzSsUoauXL5E30yfSx+zAZRP3u0hu9PPRnxL0PlpWLUc1W/WnI3hVKaP3u7CL6aCQgR82LMzfc8s1+59+1OSJC9Q19ZvCJu736df+mRMxacOPmeJrly6bBPBMCAEjmr6jC8/Z73U7jwPCHhVDMRE/nfnLuknzkgmT5nCa5/NOViTyJPRiob8ZafiJctIMnM+Fy+Ml9nMI4xaRHW3dsVSG4IML2ey/Z48sEwGhaZqvPsuVLyEGAXZyXK/b1nZCHobWfijFo7uldz5HG9ZNkmU/fExI1jFmr5wBbXr1lvS/Ld7l7DPPI2lJ+MiLTt1pwF81Arlwa3nXSTcCbas1rR1x+f6y2bS0VD+wRh9N/NHSp02nZQMjfL5s6axwmg+WrtyhYR5Mz5zaP8+2sbGTQ4fPEQvpk4rFu2QCdbR4Jb9/KNwnv7kssC16c46P1BUghjihymTJA3M3bZgwzFw3w0fTHt4bvhiTEUyRLEfcOEgqjt6w6JN+08qARDFxj8yddcrEZCQP8eY+IVAGdX5cxfoNrMQg3R4Wvng2rDOANwB3qVCe3Xx3FnUiLkC6kgUlgwO0KXw5i6evyAKKEiTNEUgkZaAFZPgjEUrcGUcHRSLXJ1JEyt2TNHliM8yQ+PuPdZeNfeersa4yMBho4W9mYZNtlasWl2SgzOBz22uY5OpMHuqLvgI5MlfQJQCm7ZubxNXsPP+fvcOzMIn+mvDOnmRx+Dxxsdjfpo9QyqB8RmYoe33ySB656MBrH2+itb+tkziHj42LlO0THm5P8ZEWou6VdmQzT1q3KKNKK3BbCxcilSpRJ4N7Xa4zY8JiJAaU5FC9EcRUAT8isDTbwOH5kCOlYc/yRjoHtIh/gBFaLnqdV+Xby6jvCnfjZQPN9Rt8mZoFR+py4Fdb9gbhzsVxGdOLzoQCXFZXgv3yAo8A3zV4YiRRITwx3pcXlDZXY2LIH171iOBw3ldcCySpXxRdBUkUH98RgDfH5/Luh3Q1B78zQRWDvyLyrANezh8ChcfLQnK+EzF6jXlaNnoIZ+x9rIzNwgy6bd6vMOlxWBl3hv0JR87gx7A5cda1wnYIh5k13APHwXqIJg4CXT4cXdG3SFavYqAIhCBEPBKBKCdVWsFfg0J/uljR+PylJv3/dSnwkyApwcCGAZN+KtXcOv4iEwmtrPtqkRhyohqVxy1LFS8uHR7/959NrvXEYcb12/QisU/s85ANsIDGg5HluT6eOdeqlzgSyIOf50M7lmNyngaSymcf1yNiyC8QNFiBMtZcJPHjOIvnbUVv/4ED4E7fP54/owpdibs7KexnkWOx7be7/H5dG/GZ8DFg10JiIkm8Ady0mVwlk//vWkj1W7cjL6bPptwVApuKYsIMmcPtH9/8+Zt+RwrlAtBJMBVemwvX270RxFQBCIlAkESAdBM78ra+3Dzvp9Oi+fNtl8m+PLWBz07yQ7F9P6uMXzw+EHhzmiFSQu7AckfP3CURWxQCbyOZROihfhjJjB9OYCtg0HL37ijfHb1jerl6OihA6ytHZtq1G0gUYdZ7gt36sQxuVZlHQE4871tHO35Z+cOmjV5vITjxxg/MYYvwLLHkSUnwxVMcMC5G0tvxkUkE/+0eixHxhEoaJarCxkCm9iqHIzJODqcfc7IujQly7/q1fjMCrbxcZLPmsON+vJTVtj8UfwYZ3AZ8JW6D3p0JHDovhg5TuJgXOa1+o2ZYHiJ7x/SgT3/iiIhIjGWeQsUlHS+GFORhBH8x0GZX1rqeh/Bm6/NUwRChECQRABK7TtwECt5/Y8K8MckPmSt4uLZ+OFQqiBVLJCVEsRPSLOXrpHKvx7Y3z4utpINZeDY2pvtu/C3rvOzpaxL9L9BA6hGvYaSFj84avIa3+dgjfGipUrb4eohMbw0Y/FKwukJyOsrFshJlQvnolcL5aQ2/JnTXu8PkG+ZA6sBQ0fxy7UGzZk+iXd7teXI33tsHATfw4aryQ/ybKwceOPGNWr2WkWR7UoE/wz//CNOf4IWz/9BgrDLG8vfVJ/++PQAAv/35QCJczeWwz97opk+Y/y3LDIKJEQkw+MffCHtJVZwrMnfLPdRZcQxu/ofI5CJuT5rVy6j2uWKUp+OrcVq4AssHhg/eyGf+44rSqAwKIWdPE4RDPrwXTrDRmi6vPs+G72pyoq3mcWm+vmzp8VWfVL+sM1tNqyCY70JWP/n+JHDPL9eoVFffcofXcnGpwE+lnK/mTpHxq9Xu+b0Nn+KFmM5cvIsadXC2TPFoAputm/dRFPHjOZvsf8lcUf5lMuSBfPF7+8fKDnD8ubkbwJPMqE94IzNnjqRurV8g0rlfJmKZU1DDV4tTZ/06U54lo3hddCpWUMRiyhB4O8RDLr+HVv+Yiu2NZ02TEHnerYUk0aPkPly9fIT647PVmL45w7SWJBrk+7fu89Wtf6m5Hxa4KWMGV2jPd67Gk3AosILYebEcfKd7c59+nnM+7xFhMQAxuWLF+nA3j3ynWuIC9w5KAmeO3OKsvILP1bsWE5JgPd+/r52Bt414oXxLM51LL2VhQctTii0ql+DvhgxVrWkvYDlbV7gJYZjmzihAxPdx44cZONcmdyuQU/GZzAHwPlJyJbj4MDJw/fPwU2CeAmmTx+xvB+EA3QGXAk2Q+BBFBFRnDfMTBvxgG5UrSyVf7Uaf1b2awnGvOze6g365ad5sqY++OJrKlPhVbYst5EJmZG0ZOF86vvxF2Lb4o0a5ahk2Yr0ydCRpki9hhMCvowvmoITMr3bv0njf1hob37CqYnMqe1BG/9cQ/OW/+nWVkN4tSM49QBXn40FuRaMl0vBYoHyatc4b/eO8v4JI4fRt8MG0cQ5i+nXn+bK17O85dU41vznHV9Q3BK8IDwd48QDPXuu3KECpeNYeiuwEZ87hynWKQuWUpzYcZQA8AZWEHE4cmYcLHPi35PzZHwGc8AQAMjraLnOMdyYiXUtPyK9/F3b5u0edjOusn2Etz/+XJKBGOryZiM2g/6j2O4f98NP9udmi5UuIyZ/D5YqIGmTJH2BOvXqRz35BQP9m1adunmrSuP8gACIUxAAZVmh2nA/w7MZfT76nMrnz0pvNatPs5asCs+qQ6WumKFSSjALwbGmy5cu0bud2zCrupGwvoNZhCaPBAjAoiGOgHZsUoe++ibwrHkkaLY28TlCAB8y28xHJ1vx1/YMB2zX31uFAEA3y71a3SYATLdBRIEzcILFI3B1WGFyyMAPaOz/vpLjra5f9DP59OofBEYO/lS+sdCCRc9w+O7CZP4GgHF1efwmf/s/MZLWrO1blJ8/3DSGv72y959dVLJcRWrbrZckhajoPBt2gqtSs66cWNvHlm+Lly4voleYcl8Oo2tsR6Pru/3lKDXSwlYGvuvwA4uW1vy2nCpUqYbgSOP8QgT0Yit12XLmYhll1iB3t5EGSW3oUwhMW7CMVi5dxHogjeQzqU8l0ABFIIwRmPxdoA5AngLmqDPR6uW/2LVCX8mdK//442eIgzgLli5/ZyNe8/iERvP2b7nLomF+QAAv/JVLFouuS56ChaUFKV9MxdZKL9kK0Gt+W0pJkyUXS5v43kq6lzLK6ZgVvy6hFWwdNU36l/gZ9Trl5LkwkD+UBzfv+ylsObMSv9RX0m+/Lqbli3+iGDFj0km2owErqLACOXrabEmLn4JFSwgRMGn0sEhHBPikGGj3NJQ8oMhhNTAo9nYoVafF+AkBsKzBPsU30tUpAv5AAB/tgcOD3rhNf641Xj6a7Jt+g7HUuPPvQKVHuwD1+BUBfKURCs/JUyR1Em+9kiuv3a6JsxeJ8jQC8ClnvHvGzJzHJ1xeljQoAy6vg1n8Np160Mgps9jIVuBXJuPwN23mLFtDrz4+Frt/77+Sx/yAsIDbx3pXkc35hQiIbCBpexUBRSDyIXDtylX+RO5pabixpYEb7AqNO3vqlPF6vcaLF1/icZRSXcRB4Mjjb6wYWyimZdGjxzBe0Z8xVlQRmFaOvEInJlBB+spjg1iOmrBp0meQ/GbcU/JxWbj4j22y3ODPRjs6M79gFA1HsSOTUyIgMo2WtlURUAR8RuDhwwd2WmMWGwGl2KaCcYcPPrG/YcLcXaNFC3xU4rvy6iIOAo/4xAxc9Mfj46llbg2dPT7+4vi1R0/5XcOhXOroHMu/ffu2Y1SE9ysREOGHSBuoCCgCIUEApxxS8CeR4W7fumkXgU9lG24APpx08+aTOJNo59at8oEkc2+MZ+ELqOoiDgIvZ8kqjbl7z4fv2oRhs/FlVrhkyVNEuo+jKREQhhNDi1YEFAH/IgDLhnCwfWAcPmw1buZPtlGlj3t3JYgOjPvlx3nUrVVjMdJlwi5fuCDebDlymSC9RgAEcubOTzGix+Lxu0YwaW2cI9EHIu/u/SccnNuPiT6Y4oaD1U24Ww7EoLGkarhJd26ZtIEEo7GSKRn55/zZM+L15auvJk9EufrldEBE6by2QxFQBJ5vBJp36Exb/9ooBs7qN33ygTJ8Gnsif0Nh5OCB9Ofvv1GJHOn5k9uv0EU+vgxriT8sYS1yB1sMh/njaUmTJaOmfMRMXcRBAJ+vr1itGp9C+oU/e7+D8rFV2wvnztN81u43btiAD+kynxYwbvzIoXT65Ak2lX1cggLWraZd27fR92zx1LiZk8dQHFZgP3rwoARt3fQnzRg/Rj7AhQAcJYS9mw49+0j8f7t3yrVZ245yjUw/wbYYGJk6F1Hb6qsVrIjafm1X2CCg8yL4uAaFGSwDVi+WhzXIr9PanQefsqRpasS3Oe6yLDcbf5AJX091dDB/Xq9SCWrXpRd9POTJ+XPHNOoPGwSCGl/UivFpXrsy1WKz5EPGhL89EswxmNuG3smKv/6xv7YZNoiETqnA1VgMVHFA6GCqpSgCikAERABn/MfPXcSf17Z4J/dkp+fa1MxZs/E58XxPEQB4wI8Y9Amf/a7OJoeHuWbT+wiAACzYfvTlcFqxZCEbeDoa7i36gT/Idot1TibwPDOf2w73RjxDhUoEPAN4mlURUAQiPgIZM2ehGQtXsJGgJU5fPPWl5b3aNhPxwNhZbCyGLQmqi5gING3bgT75aiR1b/1GuBICP86azp/cnk/Tf1pGICQjo3Pme0XGHmibFQFFQBEIAoFsOXPS94t/c1IADCKLRA8c9o18t8OXtJrGvwhA56MGm6F/cO9euDWkUrWa1KBZy3CrLywqUiIgLFDVMhUBRSBCIuDpC5yeGuvpY0qe0mu4fxGQj2LFjRNujXge5ofyt8JtumhFioAioAgoAopAxEJAiYCINR7aGkVAEVAEFAFFINwQUCIg3KDWihQBRUARUAQUgYiFgBIBEWs8tDWKgCKgCCgCikC4IaBEQLhBrRUpAoqAIqAIKAIRCwElAiLWeGhrFAFFQBFQBBSBcENAiYBwg1orUgQUAUVAEVAEIhYCSgRErPHQ1igCioAioAgoAuGGgBIB4Qa1VqQIKAKKgCKgCEQsBJQIiFjjoa1RBBQBRUARUATCDQElAsINaq1IEVAEFAFFQBGIWAgoERCxxkNbowgoAoqAIqAIhBsCSgSEG9RakSKgCCgCioAiELEQiBawcYMVsZqkrVEEFAFFQBFQBBSBsESgRLGSUrx8StjchGWFWvYTBDZuDiDF/Ake6gtEQOdF8GeCYhZ8zCJTDh3fsBkt4GqcigMMEnpVBBQBRUARUASiGAJKBESxAdfuKgKKgCKgCCgCBgElAgwSelUEFAFFQBFQBKIYApGWCDh85DBduXrlmYbrwMEDz5Q/smS+eOkiHT9x3Km5UaXvTp3WG8JcwL86RUARUASAgFciYNv2bdSkaRNq0LCB/G/ZusUjavcf3KfmzZtLuoaNGtLMWTM9pn2WiOUrllPFShUpW7ZstH79+hAXNWXqFClj3PhxIS4jrDJOmz6NGjVuZOOOMdgQsCHY1e3bv4+aNmtKWbNmpW+//dbOH5H7bjdSPU4I9H67tz0fsB4X/LSAVq5aSY3faGyHv9niTQJxDLf5r80y9kiLNLv/2S3hxYsXp2LFiok/Kvxcv3GdunfvTnnz5aUCBQtQz1496cbNGx67/uOCHylT5kx08tRJj2kQ8fDRQ/p62NdUomQJKlmqJL3d523auWun1zwaGbYIdOnaxV4LmPfTZ0z3WuGEiRPkXZInbx5q1bpV1CWOcUTQemR5/L906ZKVIUMGHCO06tat6zHduHHjJA3SLV++3GM6b3X5Erdv3z6rS5cuUtcvv/wS4np2795t1a9f39q1a1eIy/Clve7SBIU58qxatUr6mDRpUuvYsWMhauPp06et8ePHSzn9+vWzy/Bn393hoWGB68/bvHjw4IFVrVo1Gcs2bdrYY7ls2TIrRowYEr537147HJiu+2OdlTBhQmvjxo12eP/+/a0PP/zQvvcF+5MnT1qbN28OVh5fyg2NNN4wQ/kdO3a0kidPbpUqVcpKkCCB4FSuXDnr4cOHT/Xn1KlTVpo0aSTNkcNHnop3bO/kyZMlLdbS/fv3rc8++8zCWt25c6fXfI5lqN/ze8dgE9T4mnSLFy+WccNawH+sWLGsLVu2eBwLjFf69OmttWvXWgcOHLDy5MljvfLKK9ad23c85jF1PQ9XR1zJ8cZT5ypWrCgAx4sXz9qzZ49bkAAiCACAj0XhqazQCJ80aZLU9SxEQGi0I6Rl+IL51atXpY/ANaT1IN/BgwelHEci4FnK07xBP7hCilFQ82LFihUyliVLlnSaExUqVJDwhQsXOoWDMK9Zs6ZTWEja1rVrV2v06NHPXE5I6g4qjzfMLly4YDHnw7px44a0HS/2dOnSCVYBAQFP9QdElq9EQL58+aymTZvaZaAOPB/xcgmqzRrv+xryNr6OOGJNLP11qU/Yg9hLliyZ1bp1azv9zz//LPPik08+scMcy3/e/I64ehUHGF5K7FixqUaNGnT79m0aPHiwCbavixYvIt6pUPbs2Sl27NgUM4aYH7Djg/Jcu36NLl2+JMnOXzhPl69cdspy9OhRevDwgR3GlJ7thwcsUIgj3Lm7d++SJ/k36kLdEdHFjBmIIfB0dMDG6EKg/Z5Ym7fv3BY9AFOOYxnwu+u7N6xc8+t9+CPw6quvUqZMmYh3OE46HvXq1ZPGMBHg1Ch+sNEbb7zhFPbIekSHDh9yCsP6gkPcsePHnOLmzJlDzE1yCjM3SL//wH63a8iUee78OY9r05QTVtf9+/fT2LFjKUH8BFLFyy+/TMzNFP/58+edqmUihzD/W7Zs6RTu6SZ69Oj0xx9/0KnTpyQJ7ybl+RiVRC2esAnvcOaGEXN0adPmTT6JZP5Y+wcxh5sKFy5sN5WJZUqSJAnxxtIOiyoen4gAgNG2bVt68cUXCQ+a02dOO+EzfPhw6tK5C2FhGDdv/jwqWKggpU6TmubOmyvB7dq3o7Tp0lL2HNnlnrkK1KJlC3mwjRgxQuTgqVKloowZM9Jnn38mA5rjlRyUMVNGYpEE7dq9yxQvV2Z/Us5cOSlz5syUNm1amjptqh2Pl1zNWjWpWvVq1KBBA2nHrB9mSXzAxgCqV78eZcmShZh6tPNEZA/kjZDvo81jxoyhuvXqEh5qzNIiPKiNw4Os+ZvNKUeOHNS+fXuqU6eOiZKru757w8ops974FYHo0aLLeDKnjWbMmGG35fDhw+LHw9AQwyAWt23bJnMfkffu36OBnw4kZnkSi8Ek/dCvh4qsvGy5sqJjgPmE/1KlS0k5i39ZTP3e60eob8iQIVSocCGCngncd2O+k7kIPaAUKVLInAOhPmz4MCmzTNkysoYxX4sUKSJ5wvunRPESVCB/AadqeadPzK2k0qVL2+F4Do343wjBNFq0aHa4Nw+IKxaTEAiz9RvWE3MFqGHDhlS5cmVv2TQuDBD4cvCXxJwYGjBgABUqVIg6dOxAt27f8ljTuXPnJI5FXHaaGNFjEN49hni1I6KCx5Et4InlUa1qNQuyx969ewvL5O2337ZZJps2bRLZCmQpkKlA7mbK4QeVpJ8+fbodBtkcWG5Ic+jQIWvgwIGSBmFg80NGw0p/VuLEia3y5ctbq1evFrk25Dyvv/665Js6darkeemll4RN2axZM6k3UaJEtrgCctMXXnjBunXrlsj/mICx8ubNK/khx+vUqZOUMfuH2RJm2hweV18wv3nzprSPJ7W0j3c11gcffCBhqVOntpgQsMDCQr9y585t94EfTlbOnDktiBPQl759+0oeIw5w13dvWIUHHlpHIHvUl3mxfft2p3kB7JgItsCe5ueVNX/+fBl3zA9+KdnzAjoFS5YssfhBJ2mRD+IF5EU+6PusWbPGata0mdxj7SIN9AoQ7ygOgPwV6/XixYuSpkePHpJm0KBBUibWL/JgLrJSnsXEqN2O0B5rXzBzrJNf2tJHEwbRZdGiRa1Zs2ZJG9977z1pe1A6AcjfqlUrSYu+Nm7cOMz6aNoaFa++jO/Zs2fl/fTRRx8Jmx/j4Tj3XXGDzhrSYO47xkFHgAlapzDH+OfJ74jrk607oxKUe+edd4RlMnPmTILWLRx2CCxboThx4jyVnV/KT4Xxi9kOy5QxE4ENA8fKftS2TVsqV7YcVapUia5du0Ys06SKFSpSh/YdiF/4dOLECTsvPCNHjqRuXbvRzO9nChvv+vXrNG3aNEnDD0WqXbs2xYsbT6hEfnHS5cuBYobcuXITKwc5lRXRb7JmyUpVq1aVZvbp04c6vdWJ6tSuQ7ly5SJWAJTwHTt30IIFC4QDkDhRYglzZW+667s3rCI6LlGtffnz5SeM199//03Ywa79Yy1hnfEDUKDgl5lc582bR02aNLHhwU7ntRqvCTfPBFapXEV2/uCiYd6UL1eeOr7VUaIPHXIWGZg8uA4bNkyeA/zSp3fefcfePf3++++EMsHJA3dg4sSJNGrkKJowfoJjdr/5V61eRUeOHKExY8fYbWBFSRFjNm3S1A7z1cM6BIInxJNMYNHESRN9zarpQhGBVClTEW9U6dOBnxJvGoULysQwbf17q9tawK2BKABzvFnzZvTLkl+ofYf28n4BpyiquWARAWnTpBV2JFNeNGrUKJEt/vnnn9SrV68Q4wbWHJyjKAFsGdcwyGvA6nZ0Ji/CatWqJVFHjxyVa6+evejjjz+m1m1ay8sT7CLWCJY4/DjmtQMjuMe02VzR3DSp09i48IkCYd1Cbmwcc1SM17465kdgUFjZGdUTIRAA2xkO4i8Q5BB3QdYNQpd383Tw0EGCqMxVFIQ8rvo00BlBGEQNcCC24e7cuSNXdz8QP4DtCpY4/vm0AYG1+s0330hylBU3blxKmCChu+x+Cbtw8QJ169ZN9BsMgYwjz3iOQWQxZOgQ+d+6NfDFgaPDS35d4rGtM76fQSDGoRfAJwUIODJHxOOLx2NBGhGqCIBINgTxX3/95bZszE/mBhBzQOm///6j7777TohDJI6K4pxgEQEAidnK8gKdMGECYScA+WLyZMkR5VeXOVNmqT9xksCXHuwJlClThphVThsDNgq179cGhkPlZ86ckVqgOObqmOHsGmTfR0Ws7M5HQg84byDksHuHHgCzpSlWzFhUvXp1UXgC94dP9EhYWHTv3r17xKIAKlqkqNO/zeWLFha1hrxM6EmAUGIRIFWqWMkuCJwUEEDQaWKtfvkHEQX35ZdfEosxxe/uBxzQsmXLUvZs2alli5ZCAAGXqVOmukuuYeGIABRl+aSGE9fLtXq8syZPmkzb/t5GLN4SIoCPkgqh6Jr2eb/3iQiwiP8eBb5EwE6uUqWKsABZhk/vvvuujRFeNI8ePbLvMRBwfFTHDnNNY0c8owcvMjgsTDiIF8CWfPedJ+2TiEjyY17a5upLs7GjgQNLzNU5jotrXGTHyrU/z/t9hvQZiI9EEbTfsXN/KUPg7t2IfjZs2EDNmzUPVRhw+sc4KOlijq1Zu8YEEURRrH9i30cUDxQiQQBUqFCBevboaTcLu/w3m79J169dd/rH7h6OdQJozuwnCrd2RvaAqOBjZsQ2GOxglMU6R3T0WCAn0o5QT7gjALEU3j2+inwhVgZRC1Ga2UyGe6P9WKFPRAC0KY8cPWI307z4sbgcQQOQOEZojhnhJQyHo0pgUQ4YOICWLl0q8n5YwMMxtmtXA4/ogV1vnGH7s3KcCRI2Nyv52ffwHDp4SO5hvQunFqDxC/YkHLR8IfOB5i4s5LECIyE/5IHQtIfOAVxEPSII2aW073E74YcYBs4RFzzkcH/z1k3RToZMa8eOHTRp8iQ5PoijT3BgD+M4F5xr34PCSjLpT4RCwMj7zRWNg/4MTsrgxEiVqlXcthdzxXEdQU/GkfWP3SwcXo5wSZMllSvEfrCwhtMlbIBH1iMr6ooFvvc/eJ8aNWpkbwiwfjHHHI/1SiHh/IN2QCSC42MQBfb/qD/17ddXLCiCi+mrw7qBZUA8R+DAdcGR6d9++80+jYH1B92cnj2fEBq+lq/pQo4AjofXql2LIL7BGPy28jcRB3z66ac2h9p1/Bxrw6kQpJ0yZQpVrVLVMSrq+B21BF21H2FNDwY0mPVo8dEhJ0tjMM5grIjxYhCLXIyaaF1Co91o3UPr2IS3a9fOYpalaGDykUM5CQBjHohngsFimaLFikRy2gBhOEmA0wHQ/me2nbQDmuwwgGPaxRS+hfp4sVvQEjV94COHoimKfNAUfeutt6QeaD9DSxoa9agDmvQ4+WDyhcfVG+aonxWqLFb4s3GDwRcYfjEGmXjHLycpYPkN1tDQD34oSf+h+cqKXhIG4yXAG/HIi3LRV9e+e8MKWuXhgYnWYVlBzQtHjPjlLZr+RkPfxOEED6zkmXvHa4cOHWQdYU2wSMGCVj8sCmJ+MEEvlj6x5nAPTWnMOSYKrIIFC0o+rDFTHm8ExDgO0uJEED9IJQ5l4pQOwrE2carF5AmLqzfM8NxAO9z9s3Kj23aZEzjHjx+3440hGea02GF8lEyeTzihhHCcjGICwI4Pi75GxTK9jS/wYGVxC6elMMaYd3humnePwct1/GAFF/OV5f/y7oisRudM/0JydcQ1Gm5KFCvJGIadw/l+yFugWAg5XLr06ShRwqdPDgS3BVD2wQ4XRopSpkj5VHYY1QEbM0XyFBIH+wZQpPO327g5gMISc3AHcEYcbNuUKVMKZ6BI4SJeux1RsfLa6OcsMrjzAhytfHnzOaEA4zyY81hroeVgFAhcPtc1hjnzzz//iO0Bf+kFBRezkGICrGFjAYbTHB3whr0APIOMUSLHePU/GwK+jC9sAvDRZ+GCmWe9a62O44f0UBrEN1XSpU3nmjRK3DviGi5EQJRANRiddByAYGTTpM85Ajovgj/AilnwMYtMOXR8w2a0HHH1SScgbJqhpSoCioAioAgoAoqAPxFQIsCf6GvdioAioAgoAoqAHxFQIsCP4GvVioAioAgoAoqAPxFQIsCf6GvdioAioAgoAoqAHxFQIsCP4GvVioAioAgoAoqAPxFQIsCf6GvdioAioAgoAoqAHxFQIsCP4GvVioAioAgoAoqAPxFQIsCf6GvdioAioAgoAoqAHxFQIsCP4GvVioAioAgoAoqAPxFQIsCf6GvdioAioAgoAoqAHxFQIsCP4GvVioAioAgoAoqAPxFQIsCf6GvdioAioAgoAoqAHxFQIsCP4GvVioAioAgoAoqAPxFQIsCf6GvdioAioAgoAoqAHxFQIsCP4GvVioAioAgoAoqAPxFQIsCf6GvdioAioAgoAoqAHxFQIsCP4GvVioAioAgoAoqAPxGIFrBxgxU9Wgx/tkHrVgQUAUVAEVAEFIFwQuCR9ZBKFCsptcXEb7GixcKpaq0GCGzcHGAPgCKiCBgEdF4YJHy/Kma+YxUZU+r4hs2oAVfjVBxgkNCrIqAIKAKKgCIQxRBQIiCKDbh2VxFQBBQBRUARMAgoEWCQ0KsioAgoAoqAIhDFEIi0RMDhI4fpytUrzzRcBw4eeKb8kSXzxUsX6fiJ407NjSp9d+q03gSJgM6LICHSBIrAc4WAVyJg2/Zt1KRpE2rQsIH8b9m6xWPn7z+4T82bN5d0DRs1pJmzZnpM+ywRy1csp4qVKlK2bNlo/fr1IS5qytQpUsa48eNCXEZYZZw2fRo1atzIxh1jsCFgQ7Cr27d/HzVt1pSyZs1K3377rZ0/IvfdbqR63CIwdtxYKlGyBGXOkplq1qpJg74cRK/VfI3u3b/nNn1wAp/HeXH9xnXq3r075c2XlwoULEA9e/WkGzdvOMGyZ88eer3B61S4SGGqXac2TZ4ymW7fue2UxtvNg4cPqNKrlah7j+7ekmlcGCOw4KcFVKp0Kdq+Y7vXmiZNnkT16teT9bNx00aPac27JnuO7FS5SmX6beVvHtNG6ggcEbQeWR7/L126ZGXIkMHiTlp169b1mG7cuHGSBumWL1/uMZ23unyJ27dvn9WlSxep65dffglxPbt377bq169v7dq1K8Rl+NJed2mCwhx5Vq1aJX1MmjSpdezYsRC18fTp09b48eOlnH79+tll+LPv7vDQsMD1F9S8GDBggJUgQQJr7NixFsZ2wYIFVsaMGWV87969a49vSPGMjPMiKMw6duxoJU+e3CpVqpRgh+dTuXLlrIcPHwpeuL7yyitWt27drFu3bllHDh+xeINhNWvazGc8sbZQbrNmvucJ6RhFtXxBjS/wwNzHuyl16tQyDhs3bnQ7docOHbJeffVVK3/+/NbOnTvdpjH4njhxwkqcOLGVJ08eK0uWLFJurFixrGXLlnnNZ/JH9KsjruR446nhFStWFBDixYtnMdXsFgSAhYUAoO7fv+82jafygxs+adIkqetZiIDg1hma6X3B/OrVq9JH4PosdR88eFDKcSQCnqU8zeuZYH5WbIKaF+nTp7eqVavmNB8OHDggD6vQIAKetf3+yO8NswsXLljFixe3bty4IZjhBZ8uXTpZDwEBARI2+4fZco91Ytrfo0cPK0WKFPa9CXd3XffHOos5bVKGEgGhvza8ja/reHz00UcyDu6IgOvXr1vZs2cXAuDmzZtBjm3v3r2tiRMnSroHDx5Y77zzjpRdrarz+nNtQ2S5d8TVqziAX+riYseKTTVq1KDbt2/T4MGDTbB9XbR4ETFQxCBT7NixKWYMMT9gxwfluXb9Gl26fEmSnb9wni5fueyU5ejRowSWm3ExYjgbN4J+AMQR7hw/HMmTnBN1oe6I6GLGDMQQeDo6YGN0IdB+V9amSQt2JvQATDkm3Fzd9d0bViafXv2DwCPrEfFOlf755x/CejAuS+YsVLhwYXMrV8xpsx6OHT9GGFdXZ8o4d/6cnRZp3M0LkxZtQHnu3MNHD+ngoYOhIpZwV35Iwvbv30/MNaEE8RNI9pdffpl4xyj+8+fPyzVa9GhyZU6mXPFz5MgRypEjh33vyYO116FjBxozZgzxBslTMg0PJwR45+6xpk6dOtGZM2eIiT6KHy++x3QmgrlD1K5tO7mNET0G9e3blxIlSvTUu8mkj8xXn4gAdLBt27b04osv0sKFC+n0mdNOfR4+fDh16dyFokd/Uty8+fOoYKGClDpNapo7b66kb9e+HaVNl5YgY4GDLK5FyxaUKVMmGjFihMjBU6VKRczipM8+/4x27tpJOV7JQRkzZSQWSdCu3bskn/nZu3cv5cyVkzJnzkxp06alqdOmmih5mEFmWq16NWrQoIG0Y9YPsyQ+YGOAyISYzUNLf11q54nIHmAB+T7ajIdO3Xp1CQ813h3SnDlz7Kbjgd/8zebyEGvfvj3VqVPHjoPHXd/x4PeElVNmvfEbAtGjRacSJUoQsympdJnSBLmmcZgPIPagswO9HKyf6dOnU5GiRWSOYA1+N+Y7ST5s+DCRj5cpW0bWGOZTkSJF3M6LoV8PlbRly5UlyFsx3/APuashMlAodFigo/PBBx9Qzpw5qXr16tSseTPq3KWzaaJfriWKl6AC+Qs41Z0mTRpibiWVLl1awrG5QZ+GDRtGH3z4AY343wjinSQN/vLpzY5TQXzDIgTpa+VXK7tG6b0fEHB8/zhWv/r31TRz5kxiMZAQsSNHjaRVq1c5JnnK37FDR6cwFilRnDhxniK4nRJF0psnb+0gOgAqiNlddOXKFfr666/t1Jv/2kzMSiOWvdlh8DRq2Ij69OlDZ8+etXcikyZOkhc+s+ckbZy4ceThwXoHxCx+4TasXbtWiA3UwWw5oeRZrk2g3FkmKvnMz8iRI6lr167SLnApkH7vvr0Szexv2rBhAy1dupS2bdsmYYaLAYoRDwNmEZmiIvw1fvz4QuxcvnyZRo0aJVjNnj2b4saNKw9z04FWrVtJf1m+S8uXLSdmH5soubrruzesnDLrjV8RmDp1KrF4iE6ePEkg8EqWKikKozmy5yAQCSAE4saLS5gj/fv3l11vmzZthEv33nvvCdGdL18+WY8gJsBVQHyxYsXI3bwoUKCAcB+OHz8uRMX3339PLCsnZqXbhCe4Dtgl4dkwZ/YceTZAoQq7rkqVKvkVL3eVr1mzRp5NyZImk+hECRPRTz/9RNh8fPnll8QsZfrtt9+oTJky7rLbYfN/nE+sT0RDhgyxw9QTMRFYvXq1NAzzdtq0afJfuXJl2YD62uIN6zcQ648Q66P5miXypHOUDXiSZ0AOAoUIfvhYSZIksZgjYF27dk3kJbzLtviBI34o2EBxyZTDXAORo/CuxA577bXXLH4B2/dbtmyRNJ999pkd9tZbb0mYo/4BcwssflhJGn4YSjwvXjtP586dJez999+XMOYsWC1atBA/5OtQBoFM1bRt1qxZkh4yQRMWXldfMIfcimeRVahQIbt9/ACTsKFDh9ph0NdIliyZ3G/fvl10MnhXY8dD2QvlOOoEuPY9KKzCC5eoXo8v8wLKa5BXYh1iXKGDw8S2Pd78kJNwKA8aPJlQljDeqUtYlSpVROYNOalJg6vrvEAY5hdz2WxFOjMHBw4cKHlHjRwlZSMv0kP+zgSFvVYdyw8Lvy+YmXpXrlwpSl54HpgwXPEsK1q0qPQTmDJnxIJCtGMaR/+pU6cs5j5aWFsmHPpSqhPgX50APPcwfq46AcyZknAWD8l4MbfUYgJXwhYvXmyPoRlLd1cokzo+d92liUxhjuvGZ04Ag0tp06QV9jJ299iNHjp8iP7880/q1asXokPkwJqDc2TlgCp3DeOHns1RkEj+MXlxX6tWLQk+euSoXHv17EUff/wxtW7TmqpWrUrgPoCSM84xrwmL6FfTZnNFe9OkTmPjwicKiJUyhdti+oIdnqtzzI+4oLByza/3/kMgXtx4NHzYcNq8ebNwgzDeYGVPnDRRGmX0ZcwaQiBEBHCHDx+WK7gG4CAlTJBQ7s2P67xAOLgLKBN54F566SW53rlzR64ZXsog13Xr1sk1WrRohH+IGSKSu3DxgrDvwVVMnOjJmrh1+5ZwLAoWLCg7+7JlyxJvTKh169Yem88bDuEcLFmyhIYMHSL/9+7dI+gg4D6i6hl57NBzHsGnq0RnA2JjOOi4QWQFB85zUA5iMayDd/q8E1TSSBkfLCIAPQTrGA+LCRMm0KBBg4iP2VHyZMn93vnMmQIHOHGSwAUOliRYerlz56aNARtFadHvjQzjBoAFC4eHmKtjGt01yL6PiljZnY9Enm7du9mtzZ4tO/265Fd69913JWz+/Pl2nKsnZcqUEvTCCy8ERkVzTRHye4ibmFtAvKOiGd/PoH59+xFzA0UcEfJSQzcn9BegFwTlsEoVKzkVDlEA1gtrfxNEBBAfQkfi999/JxjZcucg/oS4jbmX9j82GH/99Zfcnzp5yl02DfMTAtCRgbiYOUB2C4y4Bwrt3hyU3iEGc9S78pY+Msb5RARYxH+PAl8iuXPlJmYnioYy5PjmIYTO40Xz6NEjGwejMctHdeww1zR2xDN68CKDAyUPB9kNBv/ddwIfkhIYiX7MS9tcfWm62X0ZGZhjHsdxcQyHP7Jj5dqf5/UeL1pzisb0ETJsONeHmdmpI87sdqAPENoOnIm8efMKIQBF36rVqsqzIVfOXKFdVYjKgxElEAAVKlSgnj162mUs+XWJ+P/77z+5gtMIh5ME0HGAvhB0Idy5XTt30fVr153+8ayDXgTCoVmuLuIgYE7PbNq4yW6UIQhA8HlyMA4E3Ro+ik4pkqeQZOAoeTMw5KmsiBzuExFw7tw5OnL0iN0P8+LH4jI7cERevHhRKC5zjAgvYbifeeaOswAAQABJREFUf/5Zjg8NGDhAKG2WwYlCE46xXbsaeETPKAsivTnSxHJx3IoD2xNHpBzdoYOH5BbHk3BqARq/b7zxhoSBJXno0CFav2E9wRLapk2bJP+YsWPk1AHaABdRWXc4piTte9xO+CGGgXPEBQ853N+8dZMaNmwoCo87duwQ7XEcYRo9erTkwUmK/Qf2i9+170FhJZn0x+8IYA1gzTnOWT7LLO1q3LixU/sw340D2xoEYqtWrSQI6wtzwPHYLSJc5wXCoGToSFCA7Q2Hlx0cNK8hGoT2NE6qQMl30aJFdOq0/3fD6CdOx0CBDzv1/h/1p779+lLjNxoLFxPtx6knvMBnzJiBW3FQmIQmuTlZgHUDK414jqiLuAiYeeqq8I33FU6vDPx0oN14vC+gZNukSRMJw8kQWKI1liJBJGKtQTkWx0c/7P8h9ejZQ7jL5nipXVhk9zgqCLgqNsCaHoyTMPvf4mM01ocffmgrUZQsWdJiuaTcszatWORiLMAuEGU2o3AHS04mvF27dhaUNGCIgxefxTsUMeaBeCYYrG+++caCohEU+BAGK1+8qxWFG5ZLSjtYm9mCYQ/TLqbwpT5e7Ba/JO32QdkNCnPIxy9HyygbwhIYPxQtFhNIHXykKdytQHnDHGMAIxW5cuWycatZs6YFi4zGIBM/0C0YTMJ4wBoasOKjTtJ/WGuEIhfCoKxklGKQF+VCwdO1796wgqEM13mh98yf4XEK7f+g5gUUb2H8Boq5mPeYu1AQNIq5aA+zLmXsYT2tdu3akh7zhYkCaS8M4fBJH0mDMoyylLt5gbQJEyaUtPxAFEugWJOYW1ijmJOw4Mn6BxKGcPOPdrHIMNQxcsXcG2ZQ1DPtcb06Ks9i/uOZBAVorBcojUFh2dTFmxgpp2XLlnaYiTNX4GQUkU2YXp99jXgbX0d8+UVvW8/E+E2ePNlprDD/Md/Lly8v7xW8v6DobsqAYijec2wTQwzisejM7dyB9dzn4ZnoiGs03JQoVpLXSNg5nO/HTgGKhWAZpkufjnA051kdWDPY4cJIUcoUgXJPxzJhVAdsUsPKgX0DKNL5223cHEBhiTm4AzgWCdsKkAeDM1CksGe2F/CIqFj5e6zCs/6g5sU///5DEMdhrPgkiOjmgBXvqOiGb3a8+eabNHfuXNn9QOEWejEweBIWDjJTfokSdBLAYgXnAP+QrUNp2JEFGxb1B4WZr3VCbwCigSSJk4jdANd8sNMBNj+UytSFHwKhNb6mxTB8FS9+PEqVMlD53IRjTWGHny1rNhP0XF8dcQ00SxfG3c2bJ69dQ2jKy/ByT1EqUFZjV+DgeSHJY0Wox2ERgQBwaF6YefGgKl6suF1+UAQAEkZVrGyQIoEHBAAcxqpC+Qrid/0xOiTQ6DfsbNc0oXUPYhOa8q+//rooB4uCcKbA0kF4utqoCK16w6KcWDFjUb68nnUmvMWFRXu0zLBBAIah3DmsKddnoLt0z2NYuBABzyNw2idFICIiwGfYpVk4FhXWDlwGWBFlMR6xOEEUBHEyYOvWrcQfvqIVK1aEdRO0fEVAEXhGBHxSDHzGOjS7IqAIhAMCMJuNkwCwi8GGccL8WBO+ERKwIUAIANjpgIIq7A/AOuH6P9fbNvvDoetahSKgCIQQAeUEhBA4zaYIRDQEWrdqTfgPTwd76qxQJ//hWa/WpQgoAqGDgHICQgdHLUURUAQUAUVAEYh0CCgREOmGTBusCCgCioAioAiEDgJKBIQOjlqKIqAIKAKKgCIQ6RBQIiDSDZk2WBFQBBQBRUARCB0ElAgIHRy1FEVAEVAEFAFFINIhoERApBsybbAioAgoAoqAIhA6CCgREDo4aimKgCKgCCgCikCkQ0CJgEg3ZNpgRUARUAQUAUUgdBBQIiB0cNRSFAFFQBFQBBSBSIeAEgGRbsi0wYqAIqAIKAKKQOggoERA6OCopSgCioAioAgoApEOASUCIt2QaYMVAUVAEVAEFIHQQUCJgNDBUUtRBBQBRUARUAQiHQLRAjZusKJHixHpGq4NVgQUAUVAEVAEFIHgI/DIekglipWUjPIp4WJFiwW/FM0RYgQ2bg6wByDEhWjG5w4BnRfBH1LFLPiYRaYcOr5hM1rA1TgVBxgk9KoIKAKKgCKgCEQxBJQIiGIDrt1VBBQBRUARUAQMAkoEGCT0qggoAoqAIqAIRDEEIi0RcPjIYbpy9cozDdeBgweeKX9kyXzx0kU6fuK4U3OjSt+dOq03ioAioAgoAk4IeCUCtm3fRk2aNqEGDRvI/5atW5wyO97cf3CfmjdvLukaNmpIM2fNdIwONf/yFcupYqWKlC1bNlq/fn2Iy50ydYqUMW78uBCXEVYZp02fRo0aN7JxxxhsCNgQ7Or27d9HTZs1paxZs9K3335r54/IfbcbqR63CIwdN5ZKlCxBmbNkppq1atKgLwfRazVfo3v377lNH9UDr9+4Tt27d6e8+fJSgYIFqGevnnTj5g0bFjy3sEbMM87xuvDnhXY6d54JEyfIsyhP3jzUqnUrArGtzn8ILPhpAZUqXYq279juthGrf1/tNM6N32jsdt08ePiAKr1aibr36O5UzqnTp6hFyxYyl8pXKE+zfpjlFB/Ujadyg8oX5vE4Img9sjz+X7p0ycqQIYPFDbHq1q3rMd24ceMkDdItX77cYzpvdfkSt2/fPqtLly5S1y+//BLienbv3m3Vr1/f2rVrV4jL8KW97tIEhTnyrFq1SvqYNGlS69ixYyFq4+nTp63x48dLOf369bPL8Gff3eGhYYHrL6h5MWDAACtBggTW2LFjLYztggULrIwZM8r43r171x7fqIRnUJh17NjRSp48uVWqVCnBDs+ncuXKWQ8fPhS8pk+fLvjFixfPSpkypfwnS5ZMwhYvXuwR088++8xKnz69tXbtWuvAgQNWnjx5rFdeecW6c/uOxzxRaVxCq69BjS/qwdzHuyl16tQybhs3bnQ7BsWLF7dixIhh/9euXdttOjwrMU+aNWtmx2O9ZcmSxWrfvr2Fd+JXX30labAWfe2ru3J9zRva6RxxJccbTxVVrFhROoyFsmfPHredxiIAcLFixbLu37/vNo2n8oMbPmnSJKnrWYiA4NYZmul9wfzq1avSR+D6LHUfPHhQynEkAp6lPM3rmWB+VmyCmhd46VSrVs1pPuAFlDhxYnkQPmv9kTG/N8wuXLhg4cF/48YNwezI4SNWunTpZD0EBARIWKVKlYRQvnXrlo0rCIM0adJ4fI6dOnXKAqHQunVrO8/PP/8s5X7yySd2WGTEM6K12dv4urb1o48+kjFwRwQsWbJECEHXPK736/5YZzHnVMpxJAK6du0qxMPJkyft8S1WrJiVNm1a6/Lly3aYa3nm3lO5Jj68r464ehUH8EtdXOxYsalGjRp0+/ZtGjx4sAm2r4sWL6IHDx5Q9uzZKXbs2BQzhpgfsOOD8ly7fo0uXb4kyc5fOE+Xr1x2ynL06FECK8U4puaMV67QDwBbz51jKpE8yb9RF+qOiC5mzEAMgaejAzZGFwLtd2RtOqa7fee26AGYchzj4HfXd29YuebX+/BF4JH1iPhFRf/88w9hPRiXJXMWKly4sLn1+WrKwLo6dPiQU76bt27S6TOnncJwE9x16lgA5izWIfrh6kxbzp0/53Edu+bx5X7//v3EOzVKED+BJH/55ZeJd4ziP3/+vFwHDhhIHdp3oHhx49lF/vjjj1SlShWPz7E/1v5BvBt0wr1mzZqUJEkS4o2JXY56whcBJoY9VvjFF19Q9OjR6YfZPxDmtzuHZ2mHjh1ozJgxxBtepyTr1q0jJsIpbZq0dnjlypWJCUL6/fff7TB3Hm/luksf3mE+EQFoVNu2benFF1+khQsXPvWAGD58OHXp3EVANh2YN38eFSxUkFKnSU1z582V4Hbt21HadGkpe47scs9cBZGxZMqUiUaMGCFy8FSpUhGzOOmzzz+jnbt2Uo5XclDGTBmJRRK0a/cuU7xc9+7dSzlz5aTMmTMTU2Q0ddpUOx4vOchMq1WvRg0aNJB2GBlOwMYAqle/HjF7h5b+utTOE5E9wAKyS7QZk7RuvbqEhxom5pw5c+ym40Xe/M3mlCNHDmLWFdWpU8eOg8dd371h5ZRZb/yGQPRo0alEiRJ04sQJKl2mNE2aPMluC+YDiD1f1tzo0aNFNl60WFEC8Y61hzmFdYaXcI+ePYh3wbLe2rZrK3U8yzo9cfKEyFeZm0jly5eXtbpy1Uopd9jwYSJfLVO2jKx3tKNIkSJ2v57VU6J4CSqQv4BTMegbcyupdOnSEl6mTBmneLwg8MB/4403nMIdb86dOye3mzdvtoNjRI9BeHYZgsaOUE+4IYCXvDu3avUq2rBhA/3555/Eu3vKly8fQT/A1XXr1o2qV69OlV+t7BpFV65ckbHFfDYO7x24f//91wS5vXor122GcA50j5qbRiRKlEgABBhff/21nWLzX5uJWc7Esjc7DJ5GDRtRnz596OzZs4QXE9ykiZPkocPsObmPEzeOKOeBqmYWv3AbWMYmxAbq6NGjh1DyLNcmUO4sE5V85mfkyJHEbBppF7gUSL93316JZva3DPzSpUtp27ZtEma4GKAY8TC4fv26KSrCX+PHjy8PUGY90ahRowSr2bNnU9y4ceUBajoABSX0l+X+tHzZcmL2sYmSq7u+e8PKKbPe+BWBqVOnEouHiFmSQuCVLFVSFEZzZM9BIBJ8WXO58+SW9Yj1hPJY7k1vv/02sa4NMeucXnjhBfrtt9+oZMmSNGXKFPr3v3/pWdZpo0aNpKxtf28jZtPSnTt3qE2bNnTr9i15GOPZAMIGHA6EM4s1TDFes2aN4JQsaTK39WCTgzXlum4cE4NggnNVTMYzSF3EQ4B1QGj79u0yn+E/dOgQsT6YkwLh/B/nE+uH0ZAhQ9x2AJtQOBYr2PHXrgXNRQ6qXLswf3ocZQOe5BLVqlazli1bZkEewiwvizkCFgMgchDeZVv9+/cXPxRjoLhkyuEFJbIVyNhM2GuvvSbyNnO/ZcsWSQNFGxP21ltvSZij/gHvWCzIYJCGH14S/9NPP9l5OnfuLGHvv/++hDFnwWrRooX4IV/Pnz+/KPKYOmbNmiXpZ/8w2y7DxIX11RfMb968Ke0rVKiQ3T5+gEnY0KFD7TDoa0A+iTbzRBedjGHDhtnxUALk+WU56gS49j0orMIaDy3fN8VA4ATZde/evWUdYlyhg8PEtj3evqw5Zl1bKVKksPNcvHhR5J0NGza0w7777juZN4sWLZKwkKxTZpNKGe3atZM2op1GJs8vUCmX2e7SFibI7bqDMx98WUumvJUrV4pyF54HJsz1Wq9ePSdZv2s87qFUyCIY6VvTpk0tKBCijxiPvHnzeizbXVka5l3HJjjji+cexsCdToDBmcXWVt++fSUd1gHCoePBu3oLz0qTDvpvjjoB8+fPlzxQxOWTVta0adMkD+rD89Tkc7z6Uq5j+vD0O+Iakzvhs4M8BOzlGTNmyG6UF4CwWPhkgM9luCYEaw7OkZUDtpprGORthqMgkfxj8uK+Vq1awiY/eiRQXtqrZy+RQbZu05rAzgT3gRevyeqU1w6M4B7TX3NFc9OkTkOGLcknCoiVMoXbYrriTk7mmB/pgsLKlKVX/yMA2fXwYcOpU6dO1KtXLwKnix9+xAQ4tW/X3qcGQnQQLVo0Oy12xQkTJnRag0wkSLzZ3Zo5E5x1it09HHb4RrfFsNlz5swpceBgYOedMEFCuQ+rnwsXLxDYsuAqJk7kXnYM7gREATNnzvTaDLSZT0DRu+++K1w3Jpjo3r3AI5qQE6uLuAhAbPPV4K/o119/pf/++08ayhtIEeVgl292+hhP6JQMGTpE1lqD1xsQv+xl/oCDVrRoUYJYiDdgIkJw12NfyvU0F92VF1ZhwSIC0AiwjsGGnjBhAh0+fFjYKsmTJQ+r9vlcbuZMgfKZxEkCFzjsCbRq1UpEElOnTJWz1GAJPc/uzJkz0j3etVH9evWdusr0ttO9401UxMqx/5HF3617N/pm9DfS3OzZstOvS36lvv36EnOGiHcqPhMB4dVfKDLCgegoWqSoXS3O7tvKvU9oETs+tD1QGoZeEAinShUreSzeiAJ8eZHjmTd50mQp6+Gjh6KDw0cRhdDwWIFGRBgEXn31VdnAokEQZx85ckREqKaB2DD+9ddfQijUqV2HEr+SmJo2aSr/SDNm7BjZWEIMnvSFpCab09XXcp0y+eHGJ50Ai/jvUeBLJHeu3KI5CwUYyPFBDRuHF82jR0+0f42GJR/VMUnINY0d8YwevMjgypYtK1e2JSAKhu++86R9EhFJfsxL21x9aTYUq+BWr35a6cVxXFzLiuxYufbneb2H/N6cojF95GNR4sXpHLjwXHNSoZcfcCfg0EbH0z14cB4/7mzB0ksxzxQFI0ogACpUqEA9e/S0y1ry6xLbbzwgpKALgN1icBx0k1ikIjtFsxkJTn5NG/4IQD8F+gFwu3buouvXrjv9Yx1BiRDhZh6bVmINYswxV775JpAoN3GO1+CW65g3PP0+EQFgexw5esRul3nxY3E5TnosBLAPjx0/Jmmh5Q/HZ2jp4KGDNGDgAGFfQqECFvBwjO3a1UDlCqMsiPSG7c9ycdyKA5vb7CxM2KGDh8QLShxUPDR+DbsR7M5DrACyfsN6goW8TZs2SX5QcNC0N0odEfWIIChTONNO+KFkCeeICx5yuIdWM8t0ReFxx44doj2OoynQBofDSYr9B/aL35Rp+h4UVpJJf/yOANYA1pwZNzRo4sSJ0q7GjRvL1Zc1h7WGdWqO6+EK9qdh/aMgKPDBGeXZkKxTaFrjAQpFQ5wMgHXD1xu8HnicmDkZcFjrmI+ORIJEhMIPyob4Egpf2Nn1/6i/cE5gKW7QoEFONUAU8Mcff9jPD8dIrBtYacRzxNWN+N8I+vTTT0XprGqVqq7Reh+OCLjOWVP1F4O+EIuOOF0Gq44fffwRsV6IjJtJ4+sVR2dx0oUNExHrpFGsmIHibOT3Nk98Ld8v6RwVBFwVE2BNj6kdUT7i42jWhx9+aCtAsPawxbJouedFLoYYuAOiPAFlNqNwB0tOJhzKM/xgEEUgPnIo1rZgzAPx/PCymKqyRo0cJQp8CIOVL97VioIGLD2xXNJi+aIFAzimXUzhW6iPF7vFL0m7fVB2g8Ic8kHhySgbNmvazILhiNy5c0u9LJsUpUfXvoflvTfMUS8/2K1cuXLZuEGBBRYZjUEm3vFbMJiE8YA1NGDFdhyk/7DWCAMWCINyC/CGH3lRLhQ8XfvuDSso0oQlFlo283p4zPEf1LzgF6oYv4FiLuY95i4UdY1irinH25qDch7yYE4gHR+dsqD4i3usFz4pYPE5ebF+hzDMQ8y9kKxTtIcJUmknysI/5iHWL+L4NI/Fp44kHP1hGayNhelLUFdvmEGxy9TrenVUnkUdUO6CMSZ3890YAmrZsqW0Dxbj+MVvsdhAnj2R1WhZUNhGhHhv4+vYPt6Y2tYzCxQoYE2ePNmeS1CkNeMPq5C8UbT4dIwd71iO8bOOjK1YjjA+Si7Kn3z0Wt4l7hRZXeeJKcvx6lquY1x4+h1xjYabEsVKMkZh50CBQV4GxUIo6aVLn44SJUz0zBVC2Qc7XBgpSpki5VPlwUAJ2KQpkgcqOYGKgyKdv93GzQEUlpiDO4BjgjjWwpOewBkoUriI125HVKy8Nvo5iwxqXvzz7z8EcRzGCvotUNZjbXS3im5hteZCAjk4DVDCwm6cCdBgs9u91RkUZt7yOsbh/DfElq52BUwacA/B1YDhNHANIC/GNznSpU1nkug1DBAIrfEFJxoc05DOvx07d0jv8K5xNCzl2mXHeeIaF5HuHXENFyIgInU+IrTFcQAiQnu0DREDAZ0XwR8HxSz4mEWmHDq+YTNajrj6pBMQNs3QUhUBRUARUAQUAUXAnwgoEeBP9LVuRUARUAQUAUXAjwgoEeBH8LVqRUARUAQUAUXAnwgoEeBP9LVuRUARUAQUAUXAjwgoEeBH8LVqRUARUAQUAUXAnwgoEeBP9LVuRUARUAQUAUXAjwgoEeBH8LVqRUARUAQUAUXAnwgoEeBP9LVuRUARUAQUAUXAjwgoEeBH8LVqRUARUAQUAUXAnwgoEeBP9LVuRUARUAQUAUXAjwgoEeBH8LVqRUARUAQUAUXAnwgoEeBP9LVuRUARUAQUAUXAjwgoEeBH8LVqRUARUAQUAUXAnwgoEeBP9LVuRUARUAQUAUXAjwgoEeBH8LVqRUARUAQUAUXAnwgoEeBP9LVuRUARUAQUAUXAjwgoEeBH8LVqRUARUAQUAUXAnwhEC9i4wYoeLYY/2xDl6n5kPSTFPMoNe5Ad1nkRJERPJVDMnoLkuQrQ8Q2b4QSuJYqVlMJj4rdY0WJhU5OW6haBjZsDFHO3yETtQJ0XwR9/xSz4mEWmHDq+YTNawNU4FQcYJPSqCCgCioAioAhEMQSUCIhiA67dVQQUAUVAEVAEDAJKBBgk9KoIKAKKgCKgCEQxBCItEXD4yGG6cvXKMw3XgYMHnil/ZMl88dJFOn7iuFNzo0rfnTqtN4LAsePH6Nr1a05ouAtzSqA3ioAi8Fwi4JUI2LZ9GzVp2oQaNGwg/1u2bvEIwv0H96l58+aSrmGjhjRz1kyPaZ8lYvmK5VSxUkXKli0brV+/PsRFTZk6RcoYN35ciMsIq4zTpk+jRo0b2bhjDDYEbAh2dfv276OmzZpS1qxZ6dtvv7XzR+S+241UjxMCn3/xuT0fzHp0vLZt19YpvbubtX+spWrVq8l8WL58uSRxF+Yub2QNu37jOnXv3p3y5stLBQoWoJ69etKNmzfs7uC5hTXiiKXxL/x5oZ3OmwcEVOcunalqtarU550+3pJqXBgggDH8etjXVLpMaSpYqCD1/6g/PXz00GNNPy74kTJlzkQnT510myY447lj5w5q1ryZzK8OHTs4zS23hUfEQBwRtB5ZHv8vXbpkZciQweK2W3Xr1vWYbty4cZIG6fgB4zGdt7p8idu3b5/VpUsXqeuXX34JcT27d++26tevb+3atSvEZfjSXndpgsIceVatWiV9TJo0qXXs2LEQtfH06dPW+PHjpZx+/frZZfiz7+7w0LDA9RfUvGBCTsayUqVK1ubNm61NmzZZS39dKushRYoU9vh6wvPgwYNW7969pYy5c+dKendhnvJHxPCgMOvYsaOVPHlyq1SpUlaCBAmk7+XKlbMePnwo/Z8+fbqExYsXz0qZMqX8J0uWTMIWL14cJKbffPONlSZNGuvjjz+27t+/H2T6iIhhRG5TUOOLtvfp08cqXry41axpMytVqlQydt99953bsTh16pSMF95TRw4feSpNcMbzwoULVqZMmWTsb9y4YZUvX17aYeZWZMGVfAG5YsWK9kLZs2fPU8Chs3ny5JE0sWLFCvPFMGnSJKnrWYgAfw6QL5hfvXpV+ghcn6WteMhjwjsSAc9Snub1TDA/KzZBzQvmfMlYNmzY8Kk5gQeQL/XPnDlTyjBEAPK4C/OlrIiQxhtmeEjj5YAHNNqKh366dOmk/wEBARIGggqE8q1bt2z8QBjgxR7US33UyFFS1pQpU+y8EQGT56kN3sYX/Txx4oQFQs/0ee3atTImVatWtcNMHK7VqlXzSAQEdzxr164tRIB56Zv1OXXqVLd1O7bD335HXL2KA/jlIS52rNhUo0YNun37Ng0ePNgE29dFixfRgwcPKHv27BQ7dmyKGUPMD9jxQXkgn7x0+ZIkO3/hPF2+ctkpy9GjR+nBwwd2WIwYzsaNoB8AlpA7d/fuXfIk/0ZdrrJRd2X4IyxmzEAMgaejAzZGFwLtd2RtOqa7fee26AGYchzj4HfXd29YuebX+/BHwNNY3rp9i5YsWeLUIE9j6a4Md2FOhUXSm/3799PYsWMpQfwE0oOXX36ZmJsp/vPnz8t14ICB1KF9B4oXN57dyx9//JGqVKni9Tm2+5/dNGDgAOLdJ7Vu1drOq57wRSBd2nQ0buwTkW6ZMmXohRdeoIIFCz7VkNGjRxPWRcuWLZ+KC+544vm6evVqKly4MBt+C3yNFi5UmHgT7CR6faqiCBjgExGAdrdt25ZefPFFWrhwIZ0+c9qpK8OHD6cunbtQ9OhPips3f57IZ1KnSU1z582V9O3at6O06dJS9hzZ5Z65CtSiZQtilgqNGDFC5ODMzqGMGTPSZ59/Rjt37aQcr+SgjJkyEoskaNfuXU717t27l3LmykmZM2emtGnT0tRpU+14vORq1qopMtAGDRoQ2jHrh1kSH7AxgOrVr0dZsmQhZqfaeSKyB1hAdok2jxkzhurWq0t4qKVPn57mzJljNx2TvPmbzSlHjhzUvn17qlOnjh0Hj7u+e8PKKbPeRDgEMJ4ffvih/aLTsXwyRCWKl6AC+Qs8CWAf7/DlQV26dGkJx0vD0d28dZPWrVtHb7zxhmPwU37oGbCoVNYkdGwmTZ701HPxqUwaEOYIzJs7T94f7733nlNdeNeM+N8ImjFjBkWLFs0pDjfBHc+dO3fSzZs3ZT6ZwuLEiUOpU6emI0eOmKBIcX3y1g6iuYkSJaJmzZrRlStX6Ouvv7ZTb/5rMzHLmZglY4fB06hhI2JZDZ09e1aoL4RNmjhJXvjMnsMtxYkbR5TzsJiYxS/cBmbnCLGBOnr06CGUPLPrCJT7gAEDJJ/5GTlyJHXt2lXaBS4F0u/dt1eimf1NGzZsoKVLl9K2bdskzHAxEidOLIN3/fp1U1SEv8aPH1+IncuXL9OoUaMEq9mzZ1PcuHGFYDIdaNW6lfSX5f60fNlyYvaXiZKru757w8ops95ECAT+/fdf6tW7F3Xq3IlatWpFjx49stulY2lD4dazZs0aeTYlS5rMbTw2OVhTruvGMTG4jjt27JCgoUOHEpQs+/btK7tCPA/VhT8CUOZ77/336K1ObxGelSzesRsBLnLLVi3piy++oPTp0tvhxhOS8TTjz/omphi5ggjAuwonsiKL85kIQIfeeecdSpIkCbEMkaB1CzdkyBBq3bo1gQpydSAcXB1YNcZlypiJatasKbes7Edt27SlcmXLEcvp6Nq1a8TKhlSxQkVh17300kvE8h+TVa4gArp17UYzv58pLB681KdNmyZx+fLlI5bZCJsPRAcGBy9QuNy5chMrB4k/svxkzZKVWM4lzQVx1emtTlSndh3KlSsXsQKghENTdcGCBcIBSJwosYS5sr7c9d0bVpEFn6jUToiIcDoG3B5wgxydjqUjGs7+VatXyS5tzNgxzhEOd/Pnz5d1FiO6s8jRIYkQ2XiWgFuwds1amv3DbMKzCOsQGxF14Y8ANqdgxYPTg81f5cqV7Ub0799fRNVNmzS1wxw92CQGdzyNOAkEh6MzXAbWHHIMjtD+YBEBadOkFfYydvfYjR46fIj+/PNP6tWrV4g7iYGDcxQlQCTgGgbiA6xuR2fyIqxWrVoSdfTIUbn26tmLWGOXWrdpLYsahAArcEgcfhzz2oER3GPabK5obprUaWxc+EQBsTKTcFtMV7Dzd3WO+REXFFau+fXevwjgyGfXLl2pd6/eNGvWLKe1o2PpfmwuXLxA3bp1I3AVDYHsmhK6FRAFNGnSxDXK6R5iSDhHAqxx48ayQQIH7t79e07p9SbsEciXNx999ulnwqGpUKEC/ffffyI+xrF2vKsgRh0ydIj8b926VRqE4+FLfl1CIRlPiMbhHDkOuAdHGiLaFMlT4DZSuGARAegR2I14iUyYMIEGDRpEfMyOkidzZon4o+eZM2WWahMnCXzpwZ4A5H25c+emjQEbhRL0R7vCs84zZ85IdVu2PG3PwRtlGhWxCs9xCcu6UqZISSOGj7Cr0LG0obA9YPdCL6hTp05UqWIlO9zVY0QBjrtI1zS4z5kzpwSDW2kclKf/z951gElRNO0iqQgoUYlKEFGSxCObAYVPQQWRjAnwU5IJRVAJSjZgAJSk8JlBJakkASWqSEbJggTJkiX1X2/d3+Ps3oa5u927vbtqnr2Z6dxvdaiuqm7gf+bMGZ/Nhg3XZ8ogADpASgq3689dBFsAGJLDbq1///7yg0oIbuDAgcQnQZJET9sHsCF2O0gIwHCkJeeJCTDE/y7EizcgToblLCz2ocd/5plnnPZioXHrJ/nsrYTxUZ2gcZyAZL5g8oOrV6+ePKFeKF68OD3z9L/1k4A08scu2vbppdq288Fq1d+56eIfltax8m9Pev22fcE+A7VTaemLCnblYACwO+zWtZsTiB2gv4MqALYAoVQBSAOVC3TBMA5zO0gboaJxnzRwh+t7yiAAiQ5U0VWqVqE2rdvQsaPHfH5Qp8LxkVH69JNPk0TPOrXriErup59+choFuwRsxKpVq+b4pYUXT0zAvn37aPsf25322IUfg8vuwBF48OBBEYcADDgswnBff/01bdm6RY7UwFAPHDRuwMMxi6N/x3PT1lgQ8a3YH9aX1kHM7S962bplqwTjdihw8bD4tVa90M1s3bqVFi1eRLDe5YtVJD30gbC0t1x8rB4RtBamtp5oqOU63bhgksM3rJr5/LjoxGC0AmtlHB/EsRg4iLw2bd4k7zZP2/ZwWEki/ZPqCPClUVIH6D+DuXC0dGjv2sUG8guWf1ryxzyC0zF8IZjsznGT3LM9n6X7W9wvUkx3W7BwLFy40Jk/3GEYNzVr1ZR5BP7YbULPDN3z9BnTJSpu54QqwM6N7vT6Hj0EsNa80PsF+mVFvIgf37gdFSejrigQr1YOV7oXevr3AeQJqTjUDitXrZQiIBmHhKBv377hioytcPelAf4XGOA2PVyuwOJ/w/ovw0eRnEsQatWqJbeWIc3s2bPlRi5umVzUUKVKFcPGMhIXtwxa/4cfftjccccdBreb8ZFDg4sdcJkHwplhMLitCRc2sE5F/HDLF+9qDZ9KMCzSkXo8+OCDBhfg2Hoxh29QHg92w4ukUz8+cmhw8xfS4XKVTp06SZ64VYrPVBtWE8g3E818++23Tjp/DKLxHQpzlDdmzBjDBn9SP2DDxpMGNzLaC5l4x29wYRLogdvQEIfvcZD247ZGPi4pfrgFDXgjHGmRL9rq3/ZQWPH9DymKTTTwTit5huoXfDJGxiBoiZvvWrZsaXB7pn/bQtES49RNez4PLzdT+vv55xnL36Eww7wBvAL9hg8f7oMd21bIvBOov/MmRvJgI1ufNHwiQPBs3ry50OaNN97wCY9l3NJK3ULRF23AhXFYnzDPY47DOhWODr169RJ67ty504deoegZrA9gDmbpj8HlRNWrVzcrVqzwyTNWcXbjmgkfNeNq8TiJnsP5fojPYFgIHU2RokUoV86EJwcSWwMY+2CHi0uKoBv1d7hUB5cYWSMN3G8AQ7rUdkuXL6FoYg7pACxecbcCX4UqxjLVqoYWUcUqVqlNq5QsP1L9IiPRMlKY/bnrT4La0v9eAUt/SA+vu+46kQJYPzxhb4A5Dad0wqkR3On03RsCXui7b/8+UU9jvit4ZUFvGQeJFYqewfoApEi7du2i0teUDpJr7Hm7cU0RJiD2IEjdGrkJkLo10dJjCQHtF4mnhmKWeMzSUgqlb3So5cbVk01AdKqhuSoCioAioAgoAopAaiKgTEBqoq9lKwKKgCKgCCgCqYiAMgGpCL4WrQgoAoqAIqAIpCYCygSkJvpatiKgCCgCioAikIoIKBOQiuBr0YqAIqAIKAKKQGoioExAaqKvZSsCioAioAgoAqmIgDIBqQi+Fq0IKAKKgCKgCKQmAsoEpCb6WrYioAgoAoqAIpCKCCgTkIrga9GKgCKgCCgCikBqIqBMQGqir2UrAoqAIqAIKAKpiIAyAakIvhatCCgCioAioAikJgLKBKQm+lq2IqAIKAKKgCKQiggoE5CK4GvRioAioAgoAopAaiKgTEBqoq9lKwKKgCKgCCgCqYiAMgGpCL4WrQgoAoqAIqAIpCYCygSkJvpatiKgCCgCioAikIoIKBOQiuBr0YqAIqAIKAKKQGoikGnJ0sUmc6YsqVmHDFf2BXOeFPMMR/awDdZ+ERaiBBEUswSQpCsPpW90yAlca8bVksyz4m9c9bjolKS5BkRg6fIlinlAZDK2p/aLxNNfMUs8ZmkphdI3OtQCrtapOsAioU9FQBFQBBQBRSCDIaBMQAYjuDZXEVAEFAFFQBGwCKQJJuDgoYO088+dts76TAYCm7dsTkbqwEmjQR/kiV9KuGjUPyXqnZQyUhLXpNRP0ygCikDKIiA2AcGK3LhpIw0YMIBOnDjhRMmVKxeNGDGCLst1meMXrReU/9JLL9G3335LnTp1okEDB0WrqJjJ94K5QJ07d6aDB/9dAC+77DJ6/fXXKffluaWefV7sQ+vXr5f3bNmyUdeuXal2rdph2zB+wnh66KGHaNSoUdSpY6ew8cNF8EKf9RvW08CBA+nkyZOSXaZMmahWrVr01JNP0dhxY+mbb74hY4yE1a5dW/zxUaNGDfHfsnmLhEXjj5f6R6PcpOTZ48ketGPHDidp69atCf3ivffeo/Pnz4t/9uzZqX///lSieAla/tNy6TNnzpyhLFmy0Isvvkjly5VPEVydSsbYy7nz56hBgwZUrlw5emvEW0Frd+z4Mer1fC+av2C+YHfTTTfRK6+8Qjlz5AyaRgNSDwGv9Bo8ZDBNmTKFME66d+9OTZs0dSr90ccf0eTJk51v+4K4kyZOsp8+z6Sk8ckgVj5wOsBc4Gk4yO/o0aOmatWqmKVN7969g8YLlj45/nv27DE8yUnZPXv2TNGyk1PvcGnDYc6TunnggQek3TfffLM5fvx4grbzwmquuOIKs27dugRhwcpfu3atueeee8yaNWucNLt27TLLly93voOlDeTvlT7MAJjrrrtO2jN+/HinLLSzbNmy5uqrrzbfzPzG8UdZ6GsvvPCCj1+gOiTHz2v9k1NGYtKG6hfnzp0zDRs2FAwffPBBBxdmkA0v8uL/+++/O/4o94eFP5icOXOapUuXOv5JwTU5fSQx7U9K3FCY+eeHOQTzWKtWrRw8/OPgu2PHjiZfvnyGmVKTI0cOSXPjjTca9NdA8dUv+PqRXGy80NcLvZiJM6VLlzYbN24006dPl3HBi75DT2YMhc558+Y1BQoUkB9oz5sRJ45/W5KSxj+P1Pp24xpWHZArZy5i8IRnqVevXoryLgWvLEi33XZbipYZC4VlzpSZ6tatK1VhBoxyXJojQbWwU77qqquo7PVlE4QF8yhXthxNmTxFdoQ2zquvvkrLli2zn4l6eqVP9kuy09VXXS15V6lSxSmjW9du8r548WK64447HH+89O/Xnwb0H+DjF+kPr/WPdLlJyS9L5iz01FNPSdLffvvNyaJhg4Zkx+WGDRscf7xACoNdbI24Go5/UnBNTh9xCk7llx9//DHgTs+/WlCXrFq1iv744w9a9OMiWrd2HRUpUoQWLlxIzCz7R9fvVEbAC72WLV9GgwYNkt1/6WtKU+NGjUUayQwxQfI67/t5xMwybd+2nQ4eOEj7/tonP96cUNOm/0oL3E1NShp3+lh6D8sEoLKZM8dHu+SSSzzV/ey5s7Rj57+iS3eiw0cO05G/j4jX/gP76fiJ4+5g5/3U6VNiB5A1a3CNRSTKcQqMsReIoeCCYQ4R70UXXeRTa0xccOjYwfAH5kePHZV4n376qYiT5cPvD/LYtHmTE9cvmLzQx50mS9b4uygsPbv36E5z5s6h2bNnU+FChd1R5R3lb9221cffa99BvF27d/mk9f/wUv+9f+0liBoDOYs1RMz+9Txx8gTt2bsnULJk+YEhLlGiBP38888+NjJ2ovrqq6988v/666+pRYsWPn6BcLVtCdRvktpHbJ779u8jjNPUdJhjHu34KI0cOVJEwaHqsmnTJlGXWcYbC0GTJk0kyf79+0Ml1bBUQMALvdCHjx075rOhLF++PIFpnjZtGvHOX9SSoLV1q9esJuQNtVsgl5Q0gfKJBT9PTIDXip45e4ZatW5FLMKmNm3aUMFCBWnI0CGSHKC2bNWSSpUqJYOxSdMmBNCLFi1KIJJ1//zzD7Vu05rKlClDjzzyCN199902yHlGohwns3TwMnTYUKpQsQLVu7EeTflyiuAKbGvXqe1MwEuWLqGm9zQV/Fn0TtOmT6Oez/Wks2fP0pAhQ6hK1SoEHTncuyPflXgYAPnz5xd6YLGD80IfiRjkz4ULF2RC/u6772jOnDkJGADQtm+/vsTqA2LVheTite8cOnyIGjRsQCw2p7Zt21L5CuWpxQMtpE/Omj1L8vJS/xkzZ1BcjTjq0KGD6I/r1K1D27Zvk/RvvfUWVapciarHVaep06bKoow+Xea6MoQFr2u3rlSoUCEqVqwYPfTwQ0FQSJo3JEQYD6DZxIkTnUy2bYuvG2xn7IILRujXX3+l++67T+IFwjVcv0lKHxn+2nDpi3Xr1aX+A/pLP6pWrZpT19R4eeKJJ0TSdPttt4ctvmaNmlTphko+8UBP2N7UqVPHx18/Uh8BL/Sy9lOQnFpnF3xWp1KF8hUoT+48NkieH3/8MaHfFitazMfffiQljU0bc0+3biCYfgI6NK64WbBgQVD9CNI2b97csNGX4UlK4nXr1k3SDRs2zDBXZXr16iXfBQsWNMyVG96pmCuvvNJAt2LL5p2Luf76683ff/8tfs8++6ykcdsERKIcW15qPL1gPnbsWGl3ML04aAGdJeo/a9YsU7JkSYnPuxYzf/5806plPM14sZA4sAdgg0OJ88nHn4gfdMagKy9s8o28mDM2POkZNkwUPzY6lDgsEpZvL/QJhGmjRo0kH/QP6LA3rN/glOmOD933jBkzxN6hYsWKEsdr30H/gk7v9KnTks7asqCvQReIcsLVn1Ujog9G30T8nTt3Sh/lHbhhA1kzd+5cx74B9hW80Jonn3xS2la8eHHTp08f0cGzOkf8EmOz4aVfrFy5UvJltYrUD3UE7YEVaPnFF1+IP9rcrFkzJ04gXL30m8T2EeQJ3SvqAqy7dOlimJl36uGmdSTew2H2+eefG2DFBpJSB5awhbUJ8K8XS2BkPPn763f0bAEstuHoa+O5n/70YiZd5gV3HJaaSR999NFHA/ZNlhSYwYMHBwxz5+N+T0oad/qUfHfjSu6PYJXwwgRgssPA512lA9yhQ4cM7yQN7/bFD4sT4gwdOtSJc8sttzgEwgTHHLcZPny4E47FC2ksExCJcoK1M6X8vWCeGCYA9QaOhQsXdoyXLNZ9+/Z1sPzoo48Ey1BMAAwRYcTH+mf5gakA/vXr1zde6BMMQ8sEsH5V8oPBjWX0AqWpUKGCLGw2zLYnWN9BPOb0DdLZNGgD6j516lTx81L/e++9V5ggmweeTz/9tOTz2muvST6NGzeWfm3jgGECY+NedN99912fsm3cUE8v/QLp7YIPRgq43HDDDQaLHdqK+iPOrbfe6jAE7jL9cQ3XbwIxAaH6CMpCX8G4ZxGsQwt3HSL5Hgqz3bt3C4OEOcSWmVgmgKVVBotIqL5q89Zn5JmCUPQNhHcgeqEvYmPjjo85AeMlEBMAw2msQ9gAuNOEek9KmlD5RTvMjWtwhTsjlBgH3S4c7+ydZBCx8C5FDGqgo4VIDc4+8V6oYCHH4IZ3WSLqhN7TOhyDcrtIlOPOL1bfre6cd3ABq4ijXxdffLEThviwE4DIGM6Kvk6fPu3EcePuePq9QLQMsSfv4pwQlkbQ5ZdfTmxVG5Y+TqIgL5999pkY6MAYkRcLglrAHn10J0FboDqwztbdPuHv7jv45tMSBPEejIXy5c1HOI7IFr6iWkK4l/4FfXvu3LkR3XFsGU4szSJmIsQPWCNv6/LmySuGRdZ2Bv5Qo8CdOnVKnpH8w8wGrV69miZ8MIGY0RaRP/TWLGEjZgpoy9YtxCcFAqrS/HH10m/86x6qjyAu+iBsWVL7SN1jjz0mfYIlS4QfHMYNdL1QU+IobqijzgcOHiCoEnAMM1Q8yVj/pDoCweiVJ08enyPXqCifuJL6stQ5Qb15s0TVq1enokWKJggL5pGUNMHySmn/iNgELF22lA4cOCB1xyTqdpiYYXmJRSSc27t3r0TxzwOezGNKWCTKkYxi/A8wg3PfF+CuMqxYYU8RaYdJEmVWr1bd54eF0Qt9wtUH+bDImOLi4oT5w7ltaygaLm24cFYHyOLTtUtXmjxlMsEwDnYN15a+VpKGqz8M4/hIrJzHdxsEWpwxmcSCg60CmCGceYYdQPv27Slb1myi9wZT0K5dO+IdvvhFo76h+oiU9y9/FI3iPee5ZcsWYimA3J2A+xPww50KP/30k7zv3rU7aF6wrYA9BRiFW2+5NWg8DYgNBELRC/p/jAtrEI0a8y5fKs5StAQNgLGgtUdKEBjEIylpgmSV4t7emID49ddZiN21xPGL0aNHU+XKlcUbA8ztMKnCyM/LrgAGVnDz5s1zZyHvdlcYiXISZB6DHjCMgwvEEMF/9pzZxDpovCbbuaUNMGgD/rgoxbpVq1cR22aIkRf8QtHHpvF/WiYOT+z8IdGpWbOmTMiQCODUQnIdLH6BSbny5Wjz5s1ieDh61Ggn23D9CztYSK5wORaOhFmHCQQOx+1iwcFYCRcuYUcLic9VxeINnrD4w+HIZetWga2ak1p/r30kqflHI92a1Wvo2NFjPj+cumH1pvjZMeZfNowowQDAwNkeY0UcGIyqiz0EwtHLSjXd8xYkaXwXhLNu2VatW7+OwDy2bNnSeoV9JiVN2ExTMIInJgBHpeAw6VgHK+uFPyyUXQhEkfhhEoY4dtHiRRINV9SCE8cCAvfXX3/J030DIQiIbxyrgpgTlrg4p4vb5HC0B9bYcBBv4shaJMqRDGP8D87/Y8cHEfTIUSOd2sJKf9DgQbIQQ9xp3eHDh8kt+sduDQ6ToHVgyOAsR5wnb/zOFmeo3x/zPtuHLCG+eENE/qxbpm7du9HzvZ4nNsSkZ555xhN9bFn+T7sLt5IciFehCmAdtTA6whD8/C8DiT5hbxlEXuH6DuKwfo+wWEEUjQGOdi1YuABB4rz0rx49ekhcHCeDZAA/WOJDctHozkYSBlEixPwIg8MTeLtF/5YWOJoUDceXSUm29omPW26+RZgYSC7qN6gfsFh/XMP1m8T2ERSKuQF9zZ4oCViRGPHEnFKzVk3CbZpwqDtOYLCOV6QGvfv0pmd7Pkv3t7ifcF+CuthCwAu9wPRhbfrggw+k8riCfubMmXILpP+pAIj1cZdJkcJFfBrq30/cgcHSuOPE9LvbQMDfGAE3kN11110GxjTcCDF+gpEFblSCIRT88M2EEAMKGFKwLkX8YBwEi2qcDEC+sLqG9STSwNAGhm+wfMfNXPC78847DU/0hhcGMXCDH8rlS2QkHGnHjBkTsXL825qS36Ewd9cDuMLQi8XQ5pprrjG8EAk2uL3MfcsfLPhxMxww4x2MYIiTA/iGUSZLagxulrM3XOH0Bb554TIsWRFa8sTnGMHwgu/QHLdm9evXzwnzQh93G2AwA6NA24dQtjWwY2mA9BHUEz++ktrA6Iy5cKkT+hgzQp77Dl8tLfnY/OyzUqVKjnW4l/rDMJXVFoINjPCAJW4XRLtg/c+qLSmHGVLDu27DF/bIN04m4KQAbiKDcSXKx42IKNONSbB3r/0C6XnxlhMU9hSHzZOZGLnxzn67nzCCAqYWVy/9JrF9BHmCjmg7aImTHe46RPo9MZihbIwTPj7q1AmnQFBXlqKInzWCtn3H/XQbLEe6HZpfYKPCcPT1Si/e3YvRMNYlGMfytcFOH3BjjzC7Zrn9/fuJOyxYGnecWHt34+rpdEBiGwBmYMWKFY6lemLTY/HDVae4rhSTEKsYAhIsueUktl6Riu8mgJc8eVdlYPUKS3DLcHlJ5yUOrkLdt29fAnyxyPBO2vDOPUGYV/p4KT9ScdBPwBx9+eWX0m9gEY76syGiYXWUc0IA5Xmpv40TqP2RqrN/PontFywxS0AbMNIYN/55J+c7KX0kOeUlJm1iMQuUN3CM9LgKVI76BV7oQ+ESCfq688dRYZaGBR0fOHod7CRIsH4SKo277Fh6d+OaCR8142oxw6supRBYunwJKeaRRXvgoIFy6REPciqQv4CTOVRK0O3iYqJApxCciDHwov0i8URQzBKPWVpKofSNDrXcuEbsiGB0qqq5KgLeEGBRPB05ckRuGoTBF4vhaevWrWLHwuqMmGcAvLVSYykCioAiEFkElAmILJ6aWyohgP8aGacMYPDz/fffy5FVGPOxHQnhv9ZVpwgoAoqAIpAQAWUCEmKiPmkUgZIlStITjz8hvzTaBK22IqAIKAIpioCnI4IpWiMtTBFQBBQBRUARUARSBAFlAlIEZi1EEVAEFAFFQBGIPQSUCYg9mmiNFAFFQBFQBBSBFEFAmYAUgVkLUQQUAUVAEVAEYg8BZQJijyZaI0VAEVAEFAFFIEUQUCYgRWDWQhQBRUARUAQUgdhDQJmA2KOJ1kgRUAQUAUVAEUgRBJQJSBGYtRBFQBFQBBQBRSD2EFAmIPZoojVSBBQBRUARUARSBAFlAlIEZi1EEVAEFAFFQBGIPQSUCYg9mmiNFAFFQBFQBBSBFEFAmYAUgVkLUQQUAUVAEVAEYg8BZQJijyZaI0VAEVAEFAFFIEUQUCYgRWDWQhQBRUARUAQUgdhDINOSpYtN5kxZYq9mWiNFQBFQBBQBRUARiDgCF8x5qhlXS/LNir9x1eMiXohmGByBpcuXOAQIHktDMhoC2i8ST3HFLPGYpaUUSt/oUAu4WqfqAIuEPhUBRUARUAQUgQyGgDIBGYzg2lxFQBFQBBQBRcAioEyARUKfioAioAgoAopABkMgTTABBw8dpJ1/7sxgpIlOczdv2RzxjKNBH+SJX0q4aNQ/JeodjTKi0T+iUU/NUxFQBCKDQEgmYOOmjdSufTu6r9l9zq/Dgx3o6LGjkSk9TC4ov2WrlnTNNdfQO++8EyZ2+gi+YC5Qx04dHbyB/YMPPUhH/j7iNLDPi32c8AdaPkCLlyx2wkK9jJ8wnkqXLk2j3xsdKprnMC/0Wb9hPbVt19apb7PmzWj4a8OljLHjxhK+bf+y/gisUaMGxcVF12DVS/09g5FCEUeNHkU1a9WkkqVKUuP/NKZXB75KjRo3ojNnzyS7BpHuH8muUAQyOH/hPA0bPkwwq1W7Fj351JO0es3qkDmfPXdW0tSpW4cqV6lMvfv0JuSjLrYRmPLlFKpdpzatXLUyZEUx7zS9p6mMn6XLljpx3x/zPt1y6y1UvkJ5at+hfaI2ITt27qDH/vsYNWjYgJ56+iknzzTxgiOC5oIJ+jt69KipWrWq4caY3r17B40XKo+khu3Zs8e89957UnbPnj1TtOyk1tlLunCYnz9/3jzwwAPS7ptvvtkcP348QdsHDhxorrjiCrNu3boEYcHqsHbtWnPPPfeYNWvWOGl27dplli9f7nwHSxvI3yt9Tp48aa677jppz/jx452y0M6yZcuaq6++2nwz8xvHH2Whr73wwgs+foHqkBw/r/VPThmJSRuuX7z88ssmR44cZtSoUQZ1nzJliilevLjg+s8//yQbq0D9IzH1T4244TAbN26cKVSokEHbzp49a/r372/y5MljVq9eHRSvp556yjATalq1bCVjDHPfu+++GzR+arQ7o5QZjr7AAX2/SZMmpmDBgjIWli5dGpBWW7duNbfddpu54YYbEtAf/aJo0aJmwYIFZvPmzaZ8+fIyZ50+dTpgXm783377beljL774ovQxd1isvrtxJfdHsArbBem7774LC0iwPJLqv2XLFiFsRmICgBU6FiYfTEiBsJs3b56pVq1awLBA8YP5Pf744yPbtQYAAEAASURBVOatt95Kcj5e6dOwQUNpz6pVq5yynnj8CWECwIgEq1+0/b3WP9r1QP7hxiImqYYNG/pghQnrsssuk4kwJeoYa2WEw6xixYqmZcuWDmZgqLNnzy7MQKC2/Pnnn6Zjx45OfCwKGIcNGjRw/AKlU7/gG8nkYBOOvu68+/TpI7QKxAQcO3bMXHvttcIAnDhxwoeWu3fvNnnz5jUdOnRw/L/++mvJ66WXXnL83GXZ9xFvjpB47s2NDYvlpxvXkOoA7vziMmeOj3bJJZdYr5BPiNMgHgnkDh857Ii29x/YT8dPHA8UjU6dPiV2AFmzylUGAeNEopyAGceAJ09UUotgmGfJkoUuuugin5r+8ccf8g2VQjD8gblV53z66afEkhafPOwH8ti0eZMT1/rbpxf62Lh4ZskafyGVpWf3Ht1pztw5NHv2bCpcqLA7qryj/K3btvr4e+07iLdr9y6ftP4fXuq/96+9dOz4Mf+k8m2xPnf+XIJ6njh5gvbs3RMwXVI9gQdLVIglP2TLRl6lSpYiltT5ZAv6YmzAoR/wTsknHB82j3379zlx4e/uH/iGs3FD9SuIy7ds3RIRtUR8qZH5i7lr4cKFtHvPbsmQmSY6depUUFVTkcJFaPSof9VldevWpdy5c1PlypUjUyHNJWoIMDMcNO/OnTvT3r176ZOPP6FLs1/qE2/hgoV06NAhn3HUuHFjuvzyy2n69Ok+cd0fa9etpZf7vkwsMaIO7Tu4g9LUuycmwGuLoJds1boVsQib2rRpQwULFaQhQ4dIcujhoN8vVaoUjRw5kpo0bUIsBibe3RAWI+swYbVu05rKlClDjzzyCN199902yHlGohwns3TwMnTYUKpQsQLVu7EeQS8GXPGDfswuBkuWLhE9GPBn0TtNmz6Nej7Xk1hESkOGDKEqVasQdORw7458V+jUunVryp8/v9ADix2cF/pIxCB/Lly4QI92fJRYqkRz5sxJwACAtn379SVWHxCrLiQXr33n0OFDopPj3TK1bdtWdHstHmghfXLW7FmSl5f6z5g5g+JqxBHvDKhcuXIE3fC27dskPUtNqFLlSlQ9rjpNnTaVSpQoIViVua4MYUHt2q0rsfiZihUrRg89/FAQFBLvnTlTZqpZsybxTlXqA72mdRhPYK5+/uVnAs1YRUAffvghVateTfoBxiFoCge7C/SVuvXqUv8B/aXuLFFiiaBv/0BcL/0K8T748AOxNenVqxddf/31dMcddwjm0JGmtmvRogWxpIlYDEyLFi8ilgpQs2bN6Pbbb/dUtc8/+1zwfO655zzF10iph4DdrPrXYN738+h///sf3XjjjcIUvzniTZo7b64Tbd++ffLOalHHL0vmLMTqVocBdgJcL126dBHmAesa7GkwJiPN/LuKi96rWywQTHzRqlUrEXlANBYsDvybN29uatWq5ehFunXrJumGDRtmNm3aZHiSkG/obnjiMhC5XHnllYYnWidfHrSGJxLz999/i9+zzz4radzqgEiUE6od0Q7zgvnYsWOl3cH04qBF7dq1BaNZs2aZkiVLSnzoxubPny/6TO41ZuLEiRIHOlHmhiUOc8Pi98PCH+TbrQ6YNm2a6LcOHjwocbp27SpxXn31Vfn2Qp9A+DVq1EjyQf9gKYbZsH6D5Ocf99y5c2bGjBmii4UoF+Fe+w76F8R6Vo9nbVnQ1zZu3Oip/suWLTP58uWTvomyd+7cKX2UF3sDMeLcuXMd+wbYV/z666/mySeflLZBPw+RJMSRvIMUv8TYbITrFzxZia4SdMWPmQKzaNEiB0fU5aGHHpIwjLF+/fqZBx980OTMmdPkypVLMEdfYeNQiQNa8kRmmNkWnbl///DSrzBOYZti+ynsFFC3W265xXz22WdO3fzpHKnvcJihnPbt20udUK/777/fU51Y+mEw5/BuUMZZaqqsIoVVWszHC31tu4YPHy509lcHoG+C9hjXWMtYqiPfvFGVvgA1N8Ixh9q88IT6jTdBPn42/MyZM2JbgnTMXBiMJcw9sD/BHGLjxerTjasnmwAvTAAmOwDCu0oHABaxCIgAE2BgcUKcoUOHOnEwWQA8hK9cudJky5bNgJgWPCxeSGOZgEiUY/NOraebAMHqkBgmAHkAx8KFCxsY2+HbYt23b18Hy48++kiwDMUEsBRHFjnYIuAHpgL4169f3xN9grXHMgFFihSR/GB4ZRm9QGkqVKhgLBPgbk+wvoM4V111lUE6mx/qj7pPnTpV/Lz0r3vvvVcGss0Dz6efflryee211yQfFhX6TA5gmMDY8A7TKRuGZO6y3fkFe/fSL2Bk2aNHD1mckD/Gi9tu5IMPPpByYTxoy4HdB+KCSYIfaInJDXpSGwdP//4Bv3D9yupEkRbxoXOHjQKf7PDJ211OJN+9YIa6YbMBGsGw8v333w9bN9iuwDjVGrRiYxLJemte3mwIvNDXYhmMCWDJlPR/bCYQl6WBplKlSuKHTQ/mTLthgP0I/B5++GEJd88nthw8sdBjTGHxt/7YcMEPc5v1i9WnG9eIqQOg24XjwSZP/MmTOw8xdyUiTOhoecKSMPvER6GChRydJe+yRDwNEat1/nqeSJRj847lp9Wd8844YDWZE6WLL77YCUN82AlAbAzHC6I8T58+LU/8cePuePq9bNu2japUqULcueXHXDRBTMaGiuSFPn7ZJfjk3SFVr16deBARL0aOfYh/RLTF7Wzd7RNh7r6Db4jvoPO19wtkypSJeNIX1RLCvdT/559/Fh0w4lsHMSIcMxHyBNbI27q8efIS77bJLY6EGgUO+udIuuyXZKfXhr8mNLnzzjtlvPDkR2PGjpFiLG7AwjqoCOBAWzj0Edia5MyRU77tHze21i9cvyp2VTGJ+sMPP8gTuOAHtVMsuImTJhIzSWIXwCcFRG3C0i36ZcUvIatXsUJF6t+vPzEzIOrNDRs20Jq1a0Km0cDYRGDHjh0EGyusRXAXZbtIVFZ4Z4mqjAeoJ1lqRqAzM/C0fft2BAdVG/3+++8SDrWrdSxlEjsC3rjGnG2MrWOgZ0SYAJy1PHDggOSPSdTtMBlhgoSRRTgHww04/zzgx3wjHhEpRzKK8T/ADI53mQFrevDAQbGnCBiYDE8wFyizerXqPj8YR3mhT7iikQ+LmcUwC8wFW10HZQTC5eUfDp00FreuXbrS5CmTidVNoiO/tvS1EjVc/WH4xkdiCZOG2yAQditwfLRMnqn154kuTzhFo00zZ8ykZ555Rvy++OILJ8z/pUCBAuIF7MX9y7/4R030N+wvWFpAvHsiLLg9n+0pjBfvohOdVzQSwN6lXr16BLzatW0nzCz6+ITxEzwVhwWjc6fOEnfXn6GNTT1lqJFSHIHibCMDZpwlj07ZMPiEs5usfHnz0bix4+jXFb9KXwYTwOoDeuKJf8eck5hfYPsCh/nCOvQV+KN/sXTBesf80xsTEL/+Oguxu1XLli+j0aNHO9azP/30kztYQIKRn/+uwyfS/3/Y3QMff0sQDIMyOGulm5xyEmQegx4wjIMLxBDBf/ac2YTOHQlnBwLygkEb8J+/YL6T9arVq4htM5zdXSj6OIn8XiwTh2fuy3PLqQAYuoGOkAjAKj25js/2CiblypcTiQAMD92W3uH6F3bI2C2w7l92jrY+sByGu+mmm6xXqjyx0ML40e3YBkE+3TSEh1sChN0OHKtX5BnJP5BMsMhUGIHffvtNDDNxmqDs9WUjWUyS8oJRLB//kk2IzaBN6zZS3z92/GG9wj5PnjpJbFMhxrNhI2uEmEPAnp5ZtnSZUzfLEMAo1t+9+eabshFiNRKVLBEvPfCPg7EEJoHvm/AJYnWYSB4xLtKK88QE4KgUHOtUnHbBynrhDwuJjW6I9cbywySMI0ywwoXDFaQQjWABgfvrr7/kiUnWOliD4xvHqmC1C8tqiOBgaYnjg7DGhoP4BUfWUFZyy7Flx/ITkyis0yGCHjlqpFNVWOkPGjxIFurHHnvM8T98+LDPxA9uFO7Y0X+PuFmu1R4RzJM3fmf7448/Em7LgoU4n5EWETPrxqlb9270fK/niQ0xZcfphT5Ohfxe7C7cSowuy3WZnBDAAgJGRxiCn/9lINEncCTOunB9B/EeffRR4ewhDcAARbsWLIxfABHupf6sb0dUOcECyQB+rOsTyUWjOxtJGAY6dhYIg8MTeLtF/3YRZr27xInEH5zkuO+++3yObY4ZE68GgCjS7aBusY4NLYWBw1iFw9hFX7AnPmw8//4B/3D9CpbXI0aMELwhMQHDxDYYzpE8m3dqPLNlzUZQmUCFaE/JyPHNPXuIjZalSphTcAMjrLvhcKTyhd4vOOoCfOO2UpxUuqLAvyoWiax/YgqBYGMO0jLclIpTR9Z99dVXso7wHTjWS56vv/E6sUEt8bl/alC/gRPm30+w64e0a/HixTR9RvwxQpyuwnpnpXNO4lh/cRsI+Bsx8MJr7rrrLrlcg9shhjUwKGLxorzDD98wtEBaWFKzvlf8YHwEi2qcDEAYDClwCxPS8I7MwPANVpuw2IQfD1bDE72BpSYM3OCHSz2sUQfS8oQXsXL825qS36Ewd9cDuMJQDTec8dXJYmwFbGCN6r7lDxb8sAAHZrxICIY4OYBvGGWypMZ8++23cgoDfjBywjcvXGIpC4MpPorpGLNwJ3ZoDkMqWJnbenmhj42LJ24nhFEgaGnLtgZ2PDlLH4E/frBgh2EijHNQJ/yYEfLcdzp16iT52PzsE0ZAaCvq46X+MDBi0blgA+NEYIkb+pAe1v+wGEfeMJrkScDYi5Bg4IqTApMnT3YMynAjIsp0YxLsPVy/gJEajI5g5AacQEfUBQZsNs9JkyZJ3XA6AGMX8THeMP4QB30FOKP+yMMaSwXqH176FU5d4HSAxdo+US8vBni23kl9hsMMVv6gH4xG27VrJ3TBqSVbnr0UBmHw43PhYmyJvoc5h3W+5o033nDi23T69GbYl1ycwtHX5o85iyWj0g8x3nFTpA3DE/0f/Z2ledIfcErJnviAATvmOD42atgeSvqAOy3e/fuJDcfpNZxuw4m1tNRX3Lh6Oh1gG+z1CWZgxYoVjqW613Q2HhY/HPMAkTB5s8jYh6A2XnLLsfmk9NNNAC9l8w7NsGhbLP4tw+UlnZc4sIzF0TP/uLwDNLyTNrxzTxDmlT7+eUbzG/0EzNGXX34p/QanSlB/HFNjdZRzQgB18FJ/GydQ+6PVjnD9Am1C2aDN999/L+3zP2FhmQC0G0cGYeXOqoIENIxUGzA5YnIFTrh9kaU6BswdmKGUOCEQDjPbTmwwMCfh9IL1s09g5B5XiAsm2zJ+Np4+U2bhd+Pslb7uNKHet2/bLptNdxyWOsrcitsi3f7+7/79xIZj7sE11NEcZ7asSD3duGbCR824WszAq0spBJYuX0KKeWTRHjhooFx6xDtTKpA/3hAOJUClxIuUXEwEW4RYdpHoF5P+N0kuSmJpBN17z71RbS5UeTjJA9XRWyPi1Xa2QFxKBL1rv779rFdUnpHALCoV00wjgoDSNyIwJsjEjWvwO3kTJFMPRSB2EWBRPB05ckRuGoRRJYvhaevWrWLHAh1frDMAkUIWhnBwOOEQbYcjkTgSjOOjrE4Qgzscyfzll1/kJAVOgahTBBSB2EbAk2FgbDdBa6cIEHXq2IlYHE18ORKxPlyOkuK/IoZlfFq+1zsxtJ3wwQRpL45d4mSE+zruxOTjNW7WLFlpyeIlwgD85z//EQNfGGXiit1FPy6iHJfm8JqVxlMEFIFUQkAlAakEvBYbeQRwnIf/Z0L5RT732M8RzE5KMzy4sIoNI+UX+whpDRUBRcAfAZUE+COi34qAIqAIKAKKQAZBQJmADEJobaYioAgoAoqAIuCPgDIB/ojotyKgCCgCioAikEEQUCYggxBam6kIKAKKgCKgCPgjoEyAPyL6rQgoAoqAIqAIZBAElAnIIITWZioCioAioAgoAv4IKBPgj4h+KwKKgCKgCCgCGQQBZQIyCKG1mYqAIqAIKAKKgD8CygT4I6LfioAioAgoAopABkFAmYAMQmhtpiKgCCgCioAi4I+AMgH+iOi3IqAIKAKKgCKQQRBQJiCDEFqbqQgoAoqAIqAI+COgTIA/IvqtCCgCioAioAhkEASUCcgghNZmKgKKgCKgCCgC/ghkWrJ0scmcKYu/v34rAoqAIqAIKAKKQDpE4II5TzXjaknLsuJvXPW4dNjM2G3S0uVLHALEbi21ZimNgPaLxCOumCUes7SUQukbHWoBV+tUHWCR0KcioAgoAoqAIpDBEFAmIIMRXJurCCgCioAioAhYBJQJsEjoUxFQBBQBRUARyGAIpAkm4OChg7Tzz50ZjDTRae7mLZsjnnE06IM88UsJF436p0S9tQxFQBFQBJKLgBgGBstk46aNNGDAADpx4oQTJVeuXDRixAi6LNdljl+0XlD+Sy+9RN9++y116tSJBg0cFK2iYibfC+YCde7cmQ4e/HcBvOyyy+j111+n3Jfnlnr2ebEPrV+/Xt6zZctGXbt2pdq1aodtw/gJ4+mhhx6iUaNGUaeOncLGDxfBC33Wb1hPAwcOpJMnT0p2mTJlolq1atFTTz5FY8eNpW+++YaMMRJWu3Zt8cdHjRo1xH/L5i0SFo0/XuofjXKTk+eo0aNowoQJtG/fPrr++uupTp069OOPP9JXX31FF2W7KDlZp+u0U76cQsOGDaN3332XKt1QKUFb530/j9555x3HP0uWLDRp0qSgmH708Uc0efJkJ759yZ49O02aOMl+6jMFEUgOjZNKz1WrV9HgwYNpzZo1VLNmTZmnc+bImYKtjkBROCJoLvA0HOR39OhRU7VqVczSpnfv3kHjBUufHP89e/aY9957T8ru2bNnipadnHqHSxsO8/Pnz5sHHnhA2n3zzTeb48ePJ2g7L6zmiiuuMOvWrUsQFqz8tWvXmnvuucdwh3XS7Nq1yyxfvtz5DpY2kL9X+jADYK677jppz/jx452y0M6yZcuaq6++2nwz8xvHH2Whr73wwgs+foHqkBw/r/VPThmJSRuuX7z88ssmR44chpk4g7pPmTLFFC9eXHD9559/oopVYtqRknHDYQZcmjRpYgoWLCg4LV26NCBOzHQaXvid31133RUwnm1buXLlJL+8efOaAgUKyA+0QT42jj6DrytesQlHX+QTCRonhZ4HDhwwJUqUMC+++KLM0TfddJPQH/Oa1/alVjw3rmHVAbly5qLSpUsLu1GvXr0IsB3esyh4ZUG67bbbvCdIJzEzZ8pMdevWldYwA0Y5Ls2RoGXYKV911VVU9vqyCcKCeZQrW46mTJ5C5cuVd6K8+uqrtGzZMuc7MS9e6ZP9kux09VVXS9ZVqlRxiujWtZu8L168mO644w7HHy/9+/WnAf0H+PhF+sNr/SNdblLzGzNmjPQLSHFQ93ua3kNz5swhSIrUBUYA0pGvvvyKHn300cAR2HfmNzMJO/9zZ885v6lfTw0aH1KDnDlz0vZt2+nggYO076998mNmlpo2bRo0nQZEB4Hk0jip9HzwwQelQZBWY462c+nEiROj09Ao5RqWCUC5mTPHR7vkkks8VePsubO0Y+eOgHEPHzlMR/4+ImH7D+yn4yeOB4x36vQpsQPImjW4xiIS5QQsPAY8IVaEC4Y5Jq2LLvIV//7xxx+SBiqFYPgD86PHjkq8Tz/9lFjSIu/+f5DHps2bnLj+4V7o406TJWv8hVSWnt17dKc5c+fQ7NmzqXChwu6o8o7yt27b6uPvte8g3q7du3zS+n94qf/ev/bSsePH/JPKt8X63PlzCep54uQJ2rN3T8B0SfUEHlCpsOSHbNnIq1TJUgRGMbHO5pGY+qPfHDp8SIpCPwLOboc8kV8ghzEPexS0w9/Zuuzbv48wpqPhQjFKr7zyisxxH3/yMYF24Rzv/EWNhUXfutVrVtOmTZuodevW1kufKYxAUmmcFHpi/pg3b56MPWza4KpWqUpQz7rVSikMQZKK88QEeM35zNkz1Kp1K2IRNrVp04YKFipIQ4YOkeQYJC1btaRSpUrRyJEjqUnTJoRBVLRoUcJiZB2Ldqh1m9ZUpkwZeuSRR+juu++2Qc4zEuU4maWDl6HDhlKFihWo3o31CHox4Ipf7Tq1nUl1ydIl1PSepoI/i95p2vRp1PO5nnT27FkaMmQIValahaAjh3t35LsSDxNa/vz5hR52cvdCn1CQXrhwgR7t+Ch99913sov1ZwBA2779+hKrD4hVF5KV176DBapBwwbUsGFDatu2LZWvUJ5aPNBC+uSs2bMkLy/1nzFzBsXViKMOHToQiwmpTt06tG37Nkn/1ltvUaXKlah6XHWaOm0qsThQsCpzXRnCIta1W1cqVKgQFStWjB56+KFQUCQqDBMNdI5//vmn1Af2FNZhPIG5+vyLz6lylcoy7j77/DMJfviRh6lwkcJ0bZlr5Tsp9f/tt9+obbu20lbYpjS/vzmxKopYFUH9B/Qn0AftL16iuLR7zdo1tmr0564/6dbbbqVbbrmFWFxKJUuWFOYPEYa/Nlz6bd16dSUfzA3VqlVz0kbyxW5k/POcO28uQRIFu4pWrVpRxYoVCTvDUK5C+QqUJ3cenygff/yx1L1Y0WI+/vqRcggklcZJoefq1avFVg5j3bqLL76YWO1E27dvt15p4+nWDQTTT/DgEP3XggULQuo6mjdvbtjoy/DCIvG6desm6dggxzCXbHr16iXf0M/xxGW+/vprc+WVVxroY2zZLVq0MGzwZP7++2/xe/bZZyWN2yYgEuXY8lLj6QXzsWPHSruD6cVBCzakE4xmzZpleHKV+NB/zp8/37RqGU8zFk1JHNgDsMGhxPnk40/E74eFP8g3LwzyDSymTZtmuGMbNkwUPzY6lDgs6pJvL/QJhGmjRo0kH/QP6F43rN/glOmOf+7cOTNjxgyxd+AJWeJ47TvoX9DRnj51WtJZWxb0tY0bN3qqP6tGTL58+aRvol47d+6UPgrdHxvImrlz5zr2DbCv+PXXX82TTz4pbYN+vk+fPgZ6Z1bniF9ibDbC9Qs2BjTly5eXfHl2McwUmEWLFvngCHoj7MMPP3T80U9AU7QnKfXfunWr6du3r+SLfNA30f9YTWh492WgC+VdkdjvgLb33nuvUzbqCLqg7B07dgiWzPgLlui3yAP1Rb/q0qWLYcbfSYs04X7hMLPphw8fLuX42wScOXPGrFy50sBW5cYbb5Q4aBPoatN6eYIubCCWqDRe8s3ocbzSFzhFksbh6Dl69GjpK7DTcdOoevXq4g97Abd/rL27cSX3R7CKemECMNlhMPOu0mn8oUOHDO8kDQY98sbihDhDhw514vAOQSZuhGMwsjhFiGnrgsULaSwTEIlybN6p9fSCeWKYALQDOBYuXNhYoxSLNSZv286PPvpIsAzFBMAQEUZ8Tz31lPzAVAD/+vXre6KPLcv/aZmAIkWKSH4woLKMnn9cfFeoUMFYJgDftj3B+g7isI2EpLP5oQ2o+9SpUwUDL/0LC5hdMG0+Tz/9tOTz2muvST6NGzeWfm3DwTBh8WvWrJmDNVuh+5Rt44Z6eukXMLLs0aOHufzyyyV/jBe00+bLpwTE380EAHt3m5JS/59//lny7d+/v1MWn9gRP5YUOH5gluLi4uT7+++/l/CHH37Y6U+W/pZ5Qb/CHHHs2DEnD9sWL08vmCGfYAuEuwwwoHbTAYzcYaHeYWgLOoBhDBVPw8Izdf4YeaUv0kWKxl7oyafmpG+71zvUAX0fc87+/ftjui+4cY2YOgC6XTje2csTfyAyg/gPIkzoaKEvgbNPvBcqWIggooXjXYqIpyFitc5fzxOJcmzesfy0unOemAJWk3cwBPGTdYgPOwGrn4LRINzp06dtFB/cHU+/l23bthGM93hnJj+WRBCfHqC3337bE338skvw+dlnnxFzy2KMyAuAYx/iHxFtcTvbZ+wTYe6+g2+IqDdv3uzcL4DjiGyxLaolhHvpX7zYUe7c8UcxkQaOd4jyZCZCnsAaeVuXN09eMRRziyOhRoE7deqUjRaRJ4wsXxv+mtDkzjvvlPHCkx+NGTvGc/5Jqb/F3d1G4A3n9mPmxBnPsF+AgwGV7U9ffvml1B1idzj0V9i9xMKxqiyZs9DgQYOJd4G0YcMGqZ+XP8xcS58uWqSol+gaJxUR8EJjL/S065w9+mybhPEOFXf+fPHj3/rH8jMiTMDSZUuJxR/STkyiboeJApa0mBzCub1790oU/zzgyTykhEWiHMkoxv8AMzj3fQHuKsMqGZ0t0g7MBcqsXq26zw8Loxf6hKsP8mExMDHHLItBgwYNgjIC4fLyD2exsywoXbt0pclTJhOrm8RQ69rS8frwcPWH0RofiSUWW/sYBFqc8+Tx1QP7lx/t7ye6POEUgTbNnDGTnnnmGfH74osvnLBYebETJJgOd3+CvYfD5P3LS8VKteVEUmJozSo0x34lZhqhFQmJAE6dBaOxF3rijg64v/76y6cclgCIjZCPZ4x/eGMC4tdfZyF2t2nZ8mXE+hGqXLmyeP/000/uYJlUYeTnhdOHYRAcrC79HQzK4CJRjn/esfiNiRIuEEME/9lzZhProPGabOeWNsCgDfjPXzDfyRcXYrCY1OncoejjJPJ7sUwcnrj0CBIdGLqhv0AiAGvz5Drs4IBJufLlRCKA43OjR412sg3Xv7ArheQKl2MtXLjQScdqLXmHYVtqOkxO1jrf1oNtEOTV0tCeKrHMMgKBuR0/Nl1KPG0fRh2tYSnK7dixI7HoPCWqkKQy2G7Akf6Ey2Dd+nW0ZcsWatmyZbioGh5DCASjsVd61qldR47Ou9c7nMjCRiNaxq3Rgs8TE4CjUnA4AmMdRPgLf1hI7du3J9Ybyw+TMESAixYvkmg4EsQ6fVlA4GG5JvcNhLAGxzeO5rBOVSyrV61aJbfJ4fggrJnhfv/9dzmyhrKSW45kGON/cP4f1ukQQY8cNdKpLSbTQYMHyUL92GOPOf6HDx/2Ef1jRw937Oi/R9ywy4WzRwTz5I3f2cIy+v0x77N9yBKZoHFigHXj1K17N3q+1/PEhpiy4/RCHykgwB+7C7eLE26cxAkB1v0LoyMMwc//MpDoE3YniezC9R3EwVlwLIYQL7Nxn1h8L1i4AEHivNSf9e0SFxb3kAzgh3O/kFw0urORhPHlTSLmt8fd8ATebtG/VcOwrju+8Aj8BV3uu+8+h37IEncHwN1///3ytIwhpCBbtm6hl/u+LMfZQPvFSxYTjjYlpf5H/47vO0hrnVXjuccz6mjphrsfwAiA4QMD9erAV+ne++4VGlnpDPJA3dxMgs0/ks9g9Hjl1VeofYf2hBMNuD4at3GyrQr169fPKR5HZWvWqkm4cdPfQXQM9VmRwkX8g/Q7hRFIDo1tVYPRM1AfYDs1URutXBWvJsQ9AZAQsB2WzS5tPN0GAv5GGbzwGtycxbsLyALE+AlGPLghC4ZQ8MM3D2QxgoBhDKwj4QeDHxgJ4WQA8oXVNS/ekoZ3ZGJhDMt3WGIjH9ZvGp7oDS8MYuAGP5TLE4mEIy1PeBErx7+tKfkdCnN3PYArDNVYbGWuueYaMTqB8R+smN23/MGCn9UHghMvEoIhLMKBIYwyYcnKVy/LKQz44fQFvnnhMixZEVryUUzHkIVFzA7NcQsaT4hOmBf6uNsAIxsYptk+hLKtgR0vDtJHUCf8+EpqA8NE3lVJndDHmBHy3HesoZrNzz4rVaokbUW9vNQfBkasthBsYJwILHFDH9LD+t8a5cFoko+XmYYNGkr9cTIBJwX4OlnnBAFuRESZbkyCvYfrF7ygyo1kOFEDnIAl6uJ/k6c15kT7YZSHMYQxyVdGi4FeYuuP/gNDTuTHTIZh+xAz4s0R0rfgB3xwOgAGxKAZ2w8YtgOQNjNDL/W0tMA45p2zhKHfguYIQ3twCiQYNsH8w2GGdOjPqDfKQV8YN26cUw6MLG3dMK/hlIK/URdOMSFOu3btnHS2PjBgtXOc9dMny54Y90j8vNAX5SSXxrauwegZrA9gDWNJt2G1pqx9K1asiEi7bX2i9XTj6ul0QGIrAmYAYFhL9cSmx+KHozy40hYLFYtcAgKb3HISW69IxXcTwEuevFMyLNoWC3nLcHlJ5yUOaISjZ/5xWbJgWEJgeOeeIMwrffzzjOY3+gmYIzY8k36DUyWoPxsiyiC1JwRQBy/1t3ECtT9a7QjXL9AmlA3awPIe7Qt2woLPMQsOiI/jmOhD0ap3uHzRx1B3MAQsqYloPcJhFq5uCGdj0rB1Q90DjT0clQxGAy9la5zQzEIk6OuVxogXip7B+gBLwpwjyGmFnm5cM+GjZlwtZnTVpRQCS5cvIcU8smgPHDRQLj3i+wCoQP4CTuZQKfEuUy4msv8BkxMYYy/aLxJPEMUs8ZilpRRK3+hQy41r8Dt5o1O25qoIRAUBFsXTkSNHRAcNPTSL4Wnr1q1ixwL9bqwzAFEBRTNVBBQBRSAMAsoEhAFIg9MGAvhPdXDKYObMmcSicjmyCmM+GM6VKF4ibTRCa6kIKAKKQAojoExACgOuxUUPgZIlStITjz8hv+iVojkrAoqAIpB+EPB0RDD9NFdboggoAoqAIqAIKAIWAWUCLBL6VAQUAUVAEVAEMhgCygRkMIJrcxUBRUARUAQUAYuAMgEWCX0qAoqAIqAIKAIZDAFlAjIYwbW5ioAioAgoAoqARUCZAIuEPhUBRUARUAQUgQyGgDIBGYzg2lxFQBFQBBQBRcAioEyARUKfioAioAgoAopABkNAmYAMRnBtriKgCCgCioAiYBFQJsAioU9FQBFQBBQBRSCDIaBMQAYjuDZXEVAEFAFFQBGwCCgTYJHQpyKgCCgCioAikMEQUCYggxFcm6sIKAKKgCKgCFgEMi1ZuthkzpTFfutTEVAEFAFFQBFQBNIxAhfMeaoZV0taKP+VcFz1uHTc3Nhr2tLlSxwCxF7ttEaphYD2i8Qjr5glHrO0lELpGx1qAVfrVB1gkdCnIqAIKAKKgCKQwRBQJiCDEVybqwgoAoqAIqAIWASUCbBI6FMRUAQUAUVAEchgCKQJJuDgoYO088+dGYw00Wnu5i2bI55xNOiDPPFLCReN+qdEvZNaxo6dO+josaM+yQP5+UTQD0VAEUiXCIRkAjZu2kjt2rej+5rd5/w6PNghwQQSLWRQfstWLemaa66hd955J1rFxFS+F8wF6tipo4M3sH/woQfpyN9HnHr2ebGPE/5Aywdo8ZLFTliol/ETxlPp0qVp9HujQ0XzHOaFPus3rKe27do69W3WvBkNf224lDF23FjCt+1f1h+BNWrUoLi46Bqseqm/ZzCiHHHAKwMcnCxe7udDDz8UtgYLFi6ghnc0lPH03XffSfxAfmEzSoMRpnw5hWrXqU0rV60MWPvBQwZTjZo16OZbbqavvv4qYJxgnufOn6Nbb7uVunTtEiyK+kcRgWPHj1GXLl2oQsUKVKlyJerWvRsdP3E8QYl79u4RGrXv0D5B2PkL52nY8GFUs1ZNqlW7Fj351JO0es3qBPECefz38f/6jM0PJ34YKFrs+uGIoLlggv6OHj1qqlatargFpnfv3kHjhcojqWF79uwx7733npTds2fPFC07qXX2ki4c5ufPnzcPPPCAtPvmm282x48fT9D2gQMHmiuuuMKsW7cuQViwOqxdu9bcc889Zs2aNU6aXbt2meXLlzvfwdIG8vdKn5MnT5rrrrtO2jN+/HinLLSzbNmy5uqrrzbfzPzG8UdZ6GsvvPCCj1+gOiTHz2v9k1NGYtKG6xfMCAuGt956q9Bs2bJlgtt///tfkz9//rBYbdmyxfTo0UPy+OyzzyR+IL/E1Dm144bD7J9//jFNmjQxBQsWlHYvXbo0AU6vvPKKYebYbNy40UyfPt3kzJnTTJ48OUG8YG3F3IT5sVWrVp7TBMtL/X3XonD0BV4dO3Y0+fLlM7Vr1zY5cuQQWtx4440G84vFc+LEiaZ69eoS1rBhQ8ffho8bN84UKlTIYI48e/as6d+/v8mTJ49ZvXp1grg2DZ7Tpk2TPLNkyWLwy5Ytm/n5559DpnGnT613N64hJQFgXXLlzCW7R7zXq1cPjxRzBa8sSLfddluKlRcrBWXOlJnq1q0r1WEGjHJcmiNB1bBTvuqqq6js9WUThAXzKFe2HE2ZPIXKlyvvRHn11VeJFxPnOzEvXumT/ZLsdPVVV0vWVapUcYro1rWbvC9evJjuuOMOxx8v/fv1pwH9B/j4RfrDa/0jXW5S86tUqZIkzZs3L1WvVp1wtBe4vfP2O1SuXLmw2ZYsUZKqVavmEy+Qn0+ENP5xUbaL6Ksvv6JHH300YEuWLV9GgwYNou7du1Ppa0pT40aNqVatWsRMKEEqF879+OOPxAxDuGgaHiUEoMpbtWoV/fHHH7Tox0W0bu06KlKkCC1cuJB4c+OU2qZ1G1qyZAnxwu74uV/eeOMN4g0XYY7MmiUrMbNMp0+fpq+//todLcE75k/ewNC5s+fkd+afM1S1StUE8WLZIywTgMpnzhwf7ZJLLvHUlrPnzhJ0jIHc4SOHHdH2/gP7A4ptkO7U6VNiB5A1q1xlECgrikQ5ATOOAc/s2bNLLYJhzlwnXXTRRT41xUCAw+QVDH9gbvXBn376KbGkxScP+4E8Nm3e5MS1/vbphT42Lp5ZssZfSGXp2b1Hd5ozdw7Nnj2bChcq7I4q7yh/67atPv5e+w7i7dq9yyet/4eX+u/9ay9B1BjIWawhCvav54mTJwiix0g7i51/vidPnaQZM2b4ePMOmALZfwTKI5CfT2bp4OOyyy4L2AqMgWPHjvlsNsqXL08bNmwg3uUFTGM9IXJ+tOOjNHLkSLLj1YbpM2UQ2LRpE40aNcrZKLFUkVjyI4Xv37/fpxJZMmehYPMp1jgwDrv37JY0mzdvplOnToVUSX777bfEUlUCI+lVdeBToRj58MQEeK3rmbNnqFXrVsJRtWnThgoWKkhDhg6R5AAJ+v1SpUrJoGnStAmBYEWLFiUMROswebVu05rKlClDjzzyCN199902yHlGohwns3TwMnTYUNGH1buxHkH3CVzxgw4UjBLckqVLqOk9TQV/cK7Tpk+jns/1JBZ90ZAhQ6hK1SoEHTncuyPflXitW7cmFjMLPbDYwXmhj0QM8ufChQsycUInPWfOnAQMAGjbt19fYvUBsepCcvHadw4dPkQNGjYgFvdR27ZtqXyF8tTigRbSJ2fNniV5ean/jJkzKK5GHHXo0EF22HXq1qFt27dJ+rfeekv0jtXjqtPUaVOpRIkSglWZ68rQvv37qGu3rsRiRSpWrBh50dMHgcmzN+jKahNnEgST1/g/jUX3f99998kY/Ojjjzznl14j2o2Mf/vWr18vXpCqWYexA8eqNusV8PnEE0+IJOb2224PGK6e0UegZo2aVOmGeAmZLQ3jj8XyVKdOHevlPIP1gxYtWhCrRoUZXLR4EbVs2ZKaNWtGt98enLYDBw0kVtXSyy+/TJBwgiEEQ57WXESZACz827dvpwULFtDCBQuJ9drE+jIxBLv00kupZMmSdPjwYRoxYgTdeeed9Mknnwhn1n9Afwc3GG38+uuvxLoZ+u7b72RCdwL//yUS5fjnmZa/ISZmvTvt3LmTPvzwQ5o0aRK1atlKxF+WwcJOCIMDux64u/5zF02aOEnen332WVrxywq6tvS1NH3GdBowYAD98ssvtHzZcnrsscfoo48+oqFDh0pcL/SRiEH+sP6O2C6AvpzyJRUpXCRBLEg4WHdHf//9txPmte8MHz5c6v3Dwh9o3tx50rdY902sH5TFGhmGq//yn5ZT+/btRRz87TffElQVrDeXyQEDvFz5csIIYZcxYcIE2S0++eSTxPpkMWbMnTu3SDcgUkY7YRgZaYeFC5KUzo91lrqCsbIO4w11/uabb2QcwR/ibnWBEcCOD+oVqKysK168uLxiLgvmvpj8hewCwUCriy0E5s+fT82bNae8efJ6rthzPZ+TsfTbb7+JKrZChQr0+WefE1Szwdznn39OkAb06dOHLr/8chozZozkESx+rPoHb2Eia4zJDqBg9wadCtxLL70kO0noW64pdQ01aNBA/J966inq3Kkz3X3X3cSGYcQGWuK/avUqmjJlikgALssVL75r166dhNk/kSjH5pVenvVvry87/8KFCwt+N914k5wwQPu2bo0XqUPXhcUwnMNCig4NXdfTzzwtujak+f7778kLfcLlv2PHDmKDHQp2ygQiu0Z3NqIrr7zSycpL30FkMD/QB1588cWSFjo+OPhB3+ul/oMHDxY1C/omXNEiRUWqsG3bNho9ejTdesutsvOHhAT2FdiFYCcO5gX69n59+1GNuBrERmKSHgxEpB3UQDjlAWmZ3bXaMipWrEh33XWXLGrYpbBBnDDeNlyfvgiA2bT9xYYE2y3acKh6wGyB4c6WNZv11mcMIDB33lzZiI4cNTLRtYEEEfMOxjLUa2PGjgmZxxUFrqCGDRrKmJ83b56Mxy+++IJ+WfFLyHSxFhgxJgC6XTj35J0ndx7Z/f/555+io4WIBs4+8V6oYCHZWeF97ty5Ip6GiNU6f11eJMqxecfy0+ppz52LF8P71/XMmTM+kxfio/NaztWKN2HcYp0bd+vn/8RiB9EWxGP4YYGDgc3bb7/tiT7++fl/Y2eOnT6MEevXr+/Yh/jHQ1vcztbdPhHm7jv45tMShJ2dvV8gU6ZMxNbCMjgR7qV/sWUvYTfvdpZ5WrlypXgDa+RtHXYcbFHu2M7AH0wCHPSKkXY4Mvv4fx+nHt17iJTGvWh179adXnzxRWGywHSDEQDTpS4wAjAUg4rI7YAZ3PXXX+/2dt4hHUNfw0IBdSd+GI/QT+Pd2tw4CfQlRRA4cPAAQUUDOye7ifRa8MRJEwmbU9gF8EkBwhjv2rWr5wX9hoo3iEQA5f30009ei42JeBFhApYuW0oHDhyQBmESdTsMFkyQ2F2Gc3v37pUo/nnAkw+OSFgkypGMYvwPMIM7ePBgwJoePHBQ7CkCBibDE5MZyoT1ufuHhdELfcIVjXxmzZolBjdgLrBQue9ACJc+VHivXr1EBdC1S1eaPGWyWPbCrgFqDrhw9YcxIh+JJUgr3AaBsFuBC2ZZLIGp9KdA/gL0+muvO6V/N+s7EWfitMDSJUvp2mvj2+5E0BcfBCBJOXTokM/CDbUa3A033OAT135AugN1JR8jc35gtDD5w2/3rt02qj5TCAHYPsEGpnPnziKtS2yxUOvg9BvminZt28mmB3PhhPETPGfVtGlTMRB1b4Q9J07FiN6YgPj111mI3fWFZSTEpJUrVxZvfy4IkyrEljlzxC9q7rT+7zAahINoxd9ZvWckyvHPOxa/YRgHF4ghgv/sObPJ6i7xnRznljbAoA34z18w38kSYnTYDXihj5PI78UycXjmvjxeb16zZk2ZOCERgEFbch2suoEJ9PaQCMDwcPSofy9GCld/SFFgt3LixAnZEdj6YJGAu+mmm6xXqjzdGAarAN8ZIBg88/QzwaKovwsBSLvg3HMOnw0nPnfuzGmu6PK6ZvUaOnb0mM8PpwOgAoK/Hbv+6fQ7OgjAmBgMANR/9tgxSoKBrxcHBmL37t2yWbXxcaQQdgF/7PjDeoV9QmWKfmAlh2ETxEgET0wAjkrBQdxlHURoC39YKIYQOJKBHyZhWNTCuhIOR5TAMWMBgfvrr7/kiUnWOhAQ3zhWBWtMGK/h3Cduk8MRHFhjw/3+++9yZC0S5diyY/mJ8/8dOnQgiKDd+i1Y6Q8aPEgmLYglrYPBpVv0Dy4WDpOSdWDI4Ky4Mk/ePPKNs87vj3lfThDAcA8nBu699165eev5Xs9T8+bN6ZlnnvFEH8kwwB+7C7eSHIjrcEIAAw2MjjAEP/8rRkOfgLGjdeH6DuLhLDgYGhwDwiSOduFGPOu89C+cD4bDsS9IBvDji0ZEcgFbBTiIiyHmRxgcnsDbLfq3tLCGmBIxmX8goYA7cuRI0JygpoAdCMYgboiE2gU4og/hlIXTB/6/LyCjQH5BC0ijAcHogYUb89YHH3wgLcP15DNnziS+QIigzoTDUVncJAc81cUWAliHcIIMR/Ugjendpzc92/NZur/F/WLX5F9bjFP3vIJw2HXAUB2qZnuaSo75sq1at27dJAv/PoDTQv+56z9y+yriYlMGA8F+/fpRvrz5/IuN7W/3zUH+txfxwmvYyMgwdwNZgNyIhJvJChQoIO/wwzcTQm5IYjGa3MoEP97dGdbtm2HDhkkYbjfjwSb58I7MjB07Vm6Ew01PyIeJYHiiN7wwGDZwEz+Uy5ehyDvSsvVlxMrxb2tKfofC3F0P4MqLsdxcxXpgw9foCjbMafrc8se6K7nlDDgyRywY4vYsfLMo27CkxrAVq2ERsfixrlO+eUAYlqwILXkgCbYonxd8h+a4gYs7thPmhT7uNuB2wkaNGjn5oezXXntN8uNBJ30E9cQvV65chrl5w8dzpE5sF2CYETJe+06nTp0kH5ufffLpCYO2ol5e6s/GkYbVFoING9rJTWS4XRDpeaAbVm1JOcyQGrbEN2wcJN9sZW74pIDcNmdvSMSNiCjTjUmw91D9go8hGRZdSzmgCTDCDXf+eb3++usG9QB2zPQYiwmfFjHA290HcCse20kk8PPPM5a/Q2Fm643+zBIiwQ59AbfD2TA8cWsiM6MyZ+HJFwf5hPOFMZKWjZR9/N154JZBPpYaNNwdV99ZpsW4e/mFoy9uabTj3P+JcWzLWLRokWncuLHExTyDdCzhc8L53g8Z52xLZUBnjF9mAJxw/z7Adm7OLZTID+P8k48/ceLbcmP16caVd3+hrw1OSiPADKxYscLn2sbE5IPFD9d74kpbTN6sYggIbnLLSUydIhk3sZjzTs2waNvw0ReH4YpUfZh7Nvv27UuAL0sWDO+kDe/cE4R5pU+k6uglH/QTMEdffvml9Btc/4n643pcVkeZqVOnOu3wUn8bJ1D7vdQnKXES2y+ClQHa8RFGp70s6nTeg6VJq/6RwgztB1PFEqiAWLF0MuJjL61inpL1jiR9vdQbG1GsXSztS9AP/PsA+go2KO6x5qWMWIjjxjUTPmrG1WImSl1KIbB0+RJSzCOLNi7ugHEPzuvDWM46qJSgK4R9AGwRYtlpv0g8dRSzxGOWllIofaNDLTeu8Qf6o1OO5qoIpBgCuPAFunIYZeGH+ye2sm4cdizQ08U6A5BiQGlBioAioAi4EFAmwAWGvqZdBDp17CT3DsCoC1a6MEDEf0WMW7xKFC+RdhumNVcEFAFFIIoIKBMQRXA165RFAP8j3hOPPyG/lC1ZS1MEFAFFIG0i4OmIYNpsmtZaEVAEFAFFQBFQBEIhoExAKHQ0TBFQBBQBRUARSMcIKBOQjomrTVMEFAFFQBFQBEIhoExAKHQ0TBFQBBQBRUARSMcIKBOQjomrTVMEFAFFQBFQBEIhoExAKHQ0TBFQBBQBRUARSMcIKBOQjomrTVMEFAFFQBFQBEIhoExAKHQ0TBFQBBQBRUARSMcIKBOQjomrTVMEFAFFQBFQBEIhoExAKHQ0TBFQBBQBRUARSMcIKBOQjomrTVMEFAFFQBFQBEIhoExAKHQ0TBFQBBQBRUARSMcIKBOQjomrTVMEFAFFQBFQBEIhoExAKHQ0TBFQBBQBRUARSMcIZFqydLHJnClLOm5i7DXtgjlPinns0SW1a6T9IvEUUMwSj1laSqH0jQ61gGvNuFqSeVb8jaseF52SNNeACCxdvkQxD4hMxvbUfpF4+itmiccsLaVQ+kaHWsDVOlUHWCT0qQgoAoqAIqAIZDAElAnIYATX5ioCioAioAgoAhYBZQIsEvpUBBQBRUARUAQyGAIpzgQcPHSQ8FOnCCgCKY+Ajr+Ux1xLVARiGQExDPRSwbPnztLMmTNp9uzZ9OOPP1LWrFmpZs2adOutt9K4cePo888/p+yXZA+bVY0aNcgYQ1s2bwkbN6NGeP2N1wXjUO3v2bOnGheGAiidhfV4sgft2LHDaVXr1q3psssuo/fee4/Onz8v/tmzZ6f+/ftTieIlaPlPy+n111+nM2fOUJYsWejFF1+k8uXKU0Ydf1O+nELDhg2jd999lyrdUMnBES8//fyT+C9dupSuvupqGjR4UII4Pgn8Pnbs3EEDBw6kLVu2UIUKFWj4sOF+MfQzJRAIRWN3+WPHjaVp06bR2bNnqU+fPlSzRk13sM/7vO/n0TvvvOP4YSxNmjSJLsp2keOX5l9wRNBc4GU5xI/BMnfddZfJly+feeuttwxPRmbXrl1m+PDh5rrrrjMMgviFysOG9e7d27zwwgshy7Nx0+vTC+afffaZ4Fq9enWzfPly+fEkZaZMmWLKly9vPvjggxTHEDRHXdIrXVK7XaH6xblz50zDhg2lTzz44IMODb799lvDE5P4//77744/2vLDwh9Mzpw5DfqNbVtSxl8s0z0UZmjzP//8Y5o0aWIKFiwoGLmxQDjadu2115pWLVsZjDXMZSVLljTMWDmYWewCPd9++21TqFAhw0yWwTwZKI76hV5fQuETjr5IG47GNv+tW7ea2267zdxwww1m9erVnmjFTLOML4wx/LAO2vzS8tONK7k/AjUKg6FFixYyOD788MMEAIAhKFy4sPn1118ThAXKT/2MCYc5MNq8ebNgzpKWBLh+9NFHZuTIkQn8o43t448/LkxgtMvJqPmH6xezZs2SPlGrVi0f2t98883i/9VXX/n4jx492jRu3NjHLynYxjLdw2Fm28s7PsHInwno1auX+fnnnx2MMN7ACCxeHH5zNOLNERJ3/PjxTnpbnj6TvvC7sfNKX6QJRmOEHTt2TJg9MAAnTpzwRK8ZM2aY2rVre4rrrnNaeHfjGtYmYPLkyfTpp59So0aNqG2btgkkH8WKFqN27drRwYO+ev6df+6kI38fSRD/grlAW7dt9fE/fOSwxEXY7j27fcKghoC4LaO5rFkCa2pOnjpJvCOkRx55xAeS8xfO05atW+jM2TM+/l4/jh47SsAaDngzd+2TFH0Aomd1qYcA72KoRIkSxIsWYXxZ17RpU3llJsB6yfPrr78mZuB9/AKNvz/++EPiIMx/rIWiO+Jv2ryJ0Hf8nc1z3/59Tr/yj5OS31CdBHKvDHiFqlap6gTxpE/58+en66+/3vEL9LJ23Vp6ue/LxBIE6tC+Q6Ao6pfCCASjMarRuXNn2rt3L33y8Sd0afZLPdXslVdeocyZM9PHn3xMJ06e8JQmLUYKywR8//330q5KlXz1aO7GMjdNLEoTr3dHvks1atagRx99lEqXLk233narAIjFqW+/vsTqA7rnnnsk7pq1awi6zVKlStHgwYOpXLlydNVVVwnoiN+qdSviXQ61adOGChYqSEOGDnEXmyHfodOEPsvNJHzw4QeCNeiAyeuOO+4Q7B7772OCP7DDr8+LfQSzU6dPSRz4Pf3M00KD4sWLE0t6qFr1anT11VdLfNASbtr0adTzuZ6iQxsyZAhVqVqFNm7aKGH6J+UQyJwpM919991Ch4kTJzoFb9u2Td5ZNeAsuGCsWTpH9913n4QFGn9Dhw2lChUrUL0b6xH0qaA7frXr1JZ8QtEdfQPjFuMXi2brNq3p3PlzNPy14ZJn3Xp1qf+A/hKnWrVqTl1T6wWTeTiHccHSFnr11Vcp9+W5Q0bv0qULHTp0iFq2aknjJ4wn6Jn37N0TMo0GRheBYDSGXv9///sf3XjjjcLkvjniTZo7b27IyiCcpUFim9WqVSuqWLEiIZ906dxigUBijMqVK4vICyLoQOFuv+3btptcuXIZNlqTuDyYnLRoA9LmAABAAElEQVTQaUK8csUVVxgGVMI3btzoiHDy5Mlj3njjDdF7Llq0yDRv3txA7Gn1bN26dZO82LgnbD3cdYrF93CYo87AkjucYUbKPPvss/LjCVdULxMmTHAw+PvvvwVTa2cBmwGku+WWWwzsCk6ePGmYMTA5cuQwPGk56aAbbtmypahxHnroIUkDvWm/fv0MdM7QJYOWG9ZvkDTQLyNf2ITEIqbpoU5e+sXKlSuFDlWqVHHoAB02xhTo88UXX4g/1EXNmjVz4gQaf1AvIC3SQW8+f/580Y3jm5kMSRuI7syEih6cpX8Sp2vXrpIHxjvyRJ9FHlAj8mJpWGrl1CPSdPKCGcqE/RLq5K8OsPXBWGFDZ+nzUKNY/0BPNrY0mK+QHy8s0s68efMKJsuWLQuZNlB+6hdcdeCVvsAwGI0xN4JWsGnjBd3YNY03l0FpBRpjrEHVAxojPUsa0o3a241rWPbYWiSz3p9xCO0uz3058eQkqgPE5AVfEkAMkyVzFmp0ZyO68sornUxKX1NadqTw6NSpE3Xr2o2+/eZbyp07t5w2gMTA7nhfeukl2XEwo+Ckzwgv2bJlE4tjWB1jR8WTjU+zP5jwAe3bt0+kKAho0KCBWI2z3ouaN2suJzYgIcA3L+BOWp70iCdvsYK+6aabxP/ll1+mPr370Lix46h9+/bEejSaOOnfHaeTWF9SDYEbKt4gu5IVK1bQb7/9RgsWLiBm1sTKGZViZl3qhtM6DzzwgFPPQOOv/u31ZeePsc3MI910403UsVNHSbN1q6/KzsmIX3iypcsvv1x2zJAkWdE/pIbIE1IlSAfGjBlDrDen99973508Jt+hzixZoiRduHBB5qIPJ34YtJ6QsBw+fFhULQvmLxAR85tvvkl79uyRMRU0oQakCgK//PKLlMsMIP1v0v8IT0i2YeU/fcb0gHXKljUbYaxB1TNv3jzijRgdPXqUePMUMH5a9gzLBPDuUNq3bt26sO2ECA2AsZWyiBQhgoGzR5jwjiMWbmdFOJZhQBiOIcK5GYY8ufMQ71rozz//pF27d0l4RvgD/Nu0biO/7t26E5ghN4bFriomMPzwww/yzJQpE+EHUa11EGdBDQOdPmwKZn4zUxYOezTG5uemAcS8cFbUbPPSZ+ojwDt8qcSEDyaImBMif97JE/oK7+bFNgRjEKoDf2dpbf1x1Bd+UDXAQR0Hd/r0aXkG+oM+AWYf9gb48U6L+NQIsaW8REdel1xyCeXMkTNQ8pj069yps2AJ5hiMN5iiYA7YwkF1Yt39998vjNHatWuTbJdj89JnZBHARhbHZ7F+wOF4H1SmcAsWLJBnqD9goAcPGkx8Kos2bNgQKmqaDAtsfeZqCnagYABWrVrl8k34Cn0gzl1i9wHQMYgOHDhAcXGh/3MiLFj+DungYADVrm07JxiLFIupZbA5nhns5d5775UWQ8eLCRxGgiz6FzsBVp/Q8mXLiUX/PhwrJmVWp9Bjjz0mZ15Z3UKsAgiJXIECBSQcUhl1sYVAhw4d5D4AjDEs1ri3AzsXTGwTJkwQQ130CfhFw+HuAeycq1eLtwOyZcAIUFzCIW2jxPwT0krY1ezfvz9oXa3RIHaG1mFhgT92nbLpiQ70tjh9JgIBSKbWr19PrDolbCbh6tatK09Wk8nTyx8Y5mKspTcXVhLw/PPPCxeFCWflqpUB2w9DC0w+MCybOnWqc2GJjcwaH/vq6ck6G4n3008/+cTHoCtTpkya2mH4NCARH7C8DuSwoOPHNhMEkS0uaAKjhkkf4uEGDRuIeLbs9WV9kj/88MOEwYALZIArxP3+zr37sxwyDGLcLjGDxp1O3yOHAE7kgOHbtGmT7NyvKha/e8cpHTgYNLVuFS/JiVSpbroXK1ZMJH7zF8x3sl+1epWITB2PNPyCkzH+/d7dHISxfpn4rLnbm44fPy7zk5dL03wS6kdUEahaNf70x7Kly5xywBDAJcZoFWoEGBemNxeWCahYoaIs6qdOnSLsQhctXkR2gcJgGTZ8GEEU/cjDj4gYGgCxcRLB8t/qT7A4DR4yWLCDbpqN1RwckS8c9NrWQbQJ0QskECgPbvOWzQRRG3QzGcHZI5fQy7sdsO/Xv5+oRa4pdY1YrI4YMUImpaJFi4rFMhgx/6OW2BX+97//Fb3lf/7zH8pxaQ53tvLORk2OHxtxikrBMgt58sZz0OCE3x/zPt8v8e9/Rekk0pcUQ8Dq++0TBd9y8y0i8kQ/qN+gfsC6+I8/6LbdzB92+XDHjsb3u0B079ixo0j9MB90696Nnu/1vDClzzzzjKTFvACGHdLBWHG2jf7jadz4cYSTDjgZgLH1zrvvyI7Rzl2oP45B1qxVU04B4Bu7foSD2bI6ZZyWwfxkMUA8dSmLQDAagyY4qYbTadbhOC3WGDt+er3Qi2659RbpB4jzyquvUPsO7WUdw1XbOFkFxoENp20W6efpthIMZaXKZ44NH+EzrFuR27dwuxZzWHISwFrww1IdlzEwOoYnIoPLhWBFixu1YPHPxwad25dYpGl4t2nYQEPis/7fDBo0yLHW3Llzp9zgxQZGpn79+obPR5v0cDIAGIfDnHfrcisgcMTvmmuuMWXLljUsBTEsphc/vh5WsMIJC1aTiJ+Njycbbpn333/fwRPl8k5FrJ/9b8tiAxlJj9MBuBELt2SxTYFxWzrDWhZWtaw/Nqxr9sk3VL/RsOCWz/7YhOsX7vi8eAvdrYW+DevRo4fhRTogffzHH6z6cQoE/YXtCsx3330nl6PgG+MXVvLB6M4Tq8wFiIuTJzhVgjogT5wqgT8f7zUsrQhYF1vf5D69YIa6shRM6oT5hq85d+qEy2BQV8xROCmBy4JwMsddL8x9iMOSFh9/nNrBnIiTTGwfIKeb3On03XvfD4aVF/oibSgaIxxzGfojG0FLH8fJM9wWacvFesa2IIaNXMUP4wg0xw9zLk66sIrIiW/TpdWnG9ewNwb6N5I5fMNWwGb37t1BAdm6davBkSSkBXC8Mwga1z9//28wA2wJ7fkaT//0sfjtJkBy64cJCp2b7SgM310ut5+xYaV58sknDdtj+OA+ffp0U6dOHR8/lG+ZAByTws2PbP/h0M9dP9weyRKbBOndcfQ96RNfYvsF6OSP919//eUzufmHJ+U7GN3BiLBkSPpeUvKNRJrEYuZfJpgc3sFLn8e7f7j9BtaB5jGkAVNt5zsbX59JHwdu7JJLX3deeAeDhzHi74++jA2V2x+3tgabC93x0uK7G9ewhoHMCfm4XDlz0c033ezj5/+B/8DEuvz58tvXJD2LFilK+KlLiACMA2HsB7Fsvrz55Ef/Dz13XjEaxC2AUMfgtABOFjz33HMJMuLhKn6wEvf/z1XckWGLUCB/vMGg21/fUwcBqOr83RUF4o/l+vsn5zsY3XEaqE7tOsnJOtXTQk1Wrmy5sPUIhDUSIX2F8hXCptcIsYGA+0SHu0boy/4XRJUq+e8JK3fc9PaeaCYgvQGQltuD45U4RomjWbgtDgaCOBkAC2VWw8jtZ0899ZTcD4BjTzhK1uy++ONl7nazVEc+7Z0Q7jB9VwQUAUVAEUi/CCgTkIZpi4uUlixeQrDSBhOAYzCwWsZu3x6txJXL27dvlyMx/B/BJGgtzprjJAAuGZozZw4VKlgowX3zCRKphyKgCCgCikC6QECZgDROxosvvpgaNmgov0BNiaseR1O/nhooSPxwI5b+ByhB4dEARUARUATSNQJhjwim69Zr4xQBRUARUAQUgQyMgDIBGZj42nRFQBFQBBSBjI2AMgEZm/7aekVAEVAEFIEMjIAyARmY+Np0RUARUAQUgYyNgDIBGZv+2npFQBFQBBSBDIyAMgEZmPjadEVAEVAEFIGMjYAyAf/X3nWASVEs4SIpOaNkiSI5wxGUoIAiKEqSjASV8AiKZJCgIkgSlZxBgiBPCQdKjgcoSEYJBxKVnEFSv/4Le99s3hN2ubup+r7Zmek0PX/1dFdXVffam//y9oKAICAICAI2RkCEABszX15dEBAEBAFBwN4IiBBgb/7L2wsCgoAgIAjYGAERAmzMfHl1QUAQEAQEAXsjIEKAvfkvby8ICAKCgCBgYwRECLAx8+XVBQFBQBAQBOyNgAgB9ua/vL0gIAgIAoKAjREQIcDGzJdXFwQEAUFAELA3AnEiNm9ScePEszcKIX77++oeCeYhBj0GPE7aRdSZJJhFHbOYlEP4GxxuAdewUmW48Pj4xX/OC4UOgc1bIwTz0MEdY54k7SLqrBLMoo5ZTMoh/A0Ot4CrITEHGCTkLAgIAoKAICAI2AwBEQJsxnB5XUFAEBAEBAFBwCAQciHg/IXzhENIEBAEoh8Chw4fin6VkhoJAoJA0BBgn4BASr9z9w6Fh4fT8uXLacOGDRQ/fnwKCwujypUr0+TJk2nevHmUKGEiv0WVLl2alFJ0+NBhv2ntmmDEyBGMsa/379atm/gV+AIolsaNHTeWpk6dSmfOnKG8efNSuXLluK18//339ESCJx7qradMnUItWrSgsWPH0rvvvPtQZUWXzFevXaWePXrSmrVrKF68eFShQgX65JNPKGmSpE5VHDxkMC1YsIASJUpEnTp1olqv13KKd72ZNXsWfffdd67BnH/mjJlu4RIQGgSOHT9GgwYNosOHD1PBggVp2NBhPh/ctl1b+uuvvxxpXn/9dWrapKnj3hYXWB2g7uth2cdx584dVbNmTZUmTRr15ZdfqmPHjqmTJ0+qYcOGqeeee05poDjMVxkmrnfv3qpXr14+n2fSxtZzIJh/++23jGvJkiXV1q1b+di8ebPSHZUqUKCAmjZtWsgxBM9Rl9jKl8f9Xv7aRb9+/VSSJEmUHqTV6dOnuS1ky5aN28nff//90HzZs2ePeuONN9Tu3bsfuqxQYekPs3feeYf7rbJlyzJ26KteeOEFde/ePcc7aqFA5c6dWx04cEAtXrxYJU2aVOkB3hHv6V3y58/PuKdOnVqlS5eOD/BGT3J85vNUloR5H3/88deK3VdffaUyZMig+vbtqzBmWeM8XS9atIh5qIVDhSNBggTql19+8ZvPU1kxLcyKK1lvPL0IPpb69eszWNOnT3cDCAJBxowZ1a+//uoW56k8CVPKH+bA6NChQ4y51rS44Tpr1iw1ZswYt/BgY9uuXTsWAoP9HLuW769dZM6cWVWrVs2J72gnyZMnV49CCIiJuPvC7Ny5czwoX7t2jTE7euSoypQpE39XERERHAbBOlmyZOrrr7924FqlShWltSxOgoIVm5UrV3K5KM8ani9fPqVnoU5h1ni59j7Ye8PGF3+teUZ9MYr5OmXKlIDxL1OmjFoavjTg9NbnxfRrK65+fQKg8po7dy5Vr16dmjRu4qYdyZI5CzVt2pTOn3e28x8/cZwuXb7klv6+uk+RRyKdwi9eushpEXfq9CmnOJghoOKxG8WP59lSc+PmDdIDAbVq1coJknv379HhyMN0+85tp/BAb65cvULAGgS89aDilBVtYPz48U5hchM6BPBt3Lhxg/bu3Ut//PGH48E5c+Sk4sWLO+5x4Y+XSGPKOHP2jIPvCD977iznx7UhkxZ18PYtPmz7M896lOeDBw+yaSNJ4iRc7DPPPENQ94LOnj3LZ7Trq1ev0osvvsj3+NGaNtq/fz/pmaIjzHqhZ/60dOlSQnmGdu3eRXheo0aNTJCcQ4TAnr17qF//ftSwQUNq3qx5QE9dtmwZaY0Xbdm6hcA7O5NfIWD16tWMT5EiRbzi1LNnT9Jqa44fPWY0lQ4rTa1btyatYqPKL1am6zeu8+DUf0B/0uYD0ipHTrt7z27+aHLmzEmDBw8mrWKjrFmz0uw5szl9w0YNqWLFitS4cWNKnyE9Dfl8iNc62CVi9OjR3DlZhYRp06cx1uAD7MQvv/wyAbs2bdsw/sAOR5++fRimm7duchqEdfmwC/NAq5VJa3qoRMkS3LkhDrwELVq8iLp170ZaxUZDhgyhYsWL0YGDBzhOfkKDQNw4cdkH58SJE1SufDmaNHmS48FaK8Q+Or9s+8UvL4cNH0YFCxWk8s+Xp4EfDyR8eyVKlNAawQiq9UYtvtezIy7786Gfc9rnX3ieFvx3AbcLDHxly5V1Ehx8tT9HJR/DRVjpMCpS2Lnf0upi0mpf9qVAlfbt28c1Q79jyAzuELg8UcECBSlVylROUbNnz2YcMSkSCi0C//nPf+jChQvUoGEDgl8Lvo3Tf572WYlBnw0irSEibWKjYsWKUet3WhMmWLYkq1rAk4qjaNGirGaBCtpTvDUM6jGo1rTTGqf99NNPHXnv3r2rlixZop566ilVqFAhjocNrk+fPpwmVapUauTIkazu3Lhxo6pbt66CusbYdjp27Mjphg4d6rce1jpFx2t/mKPOwFI3SLZVdu3aVeHQsww2vWjHMAcGly9fZkyNnwV8BpCvUqVKCn4FevbIqk3YK/WH4sgH34wGDRqwGUc7g3Ge9OnTqwEDBqi3336b7aLg5f59+znP+nXrOQ18QqIjprGhTv7ahXYGZH8Q8BeHdsxV+FbMu8Mk54+XP/30E7cp5IeZT3egSmuVFPwB3nvvPS53zuw5XCbS5siRg8P0DFqtWbNG6dkW38+YMYPT+Gt/pm7BOvvDzPW5esbP72DCtRCkYNc39zhrJ0t+Rz2RcQq3pnG9hp+OnsgEnN41v9x7NhX44+/t27cVxg60Z/h6oE2Dn/AN2LJli1d+aGdApbUBPP4gPfLXqVPHa/rYxh8rrn59AuAMCIDQAfgD4uLFi0p736q1a9dy2okTJ3Le4cOHO/Jqj02HEIDy0Imh/O7duzvSaAmcw/Ss0xGGASxt2rQKdlF/9Yju8VYGeKurEQJgZ0SHi2PEiBE8CFiFAGMLM0Ia7J+wEZcqVcqBE/IC4/79+zvCnn32WWXsonAyRDwczkx9YP9HmNYucJgIAZ47KYPXozgH0i4g1HXu3FmlSJGC+QNnpg8++MDBt0B4CZs3viWtBnfkQ/3RhsBzIwQgDMIkfH6MIx36AWtbCqT9PQpsvJURCGYm74oVKxQGfQguJgw4YMAw9zgvXLiQ3zFQIQCOlODD8ePHncqxlinX/+778cdfDPRojxj8DcamvwvUSXPHjh0qT548XI4dHQP9mgP07FBjTGyL5AsfPylTpKRVq1bR77//zirDb775hlPrDsSRC8t0rBQ37oMqaA2BIxjLEEFPP/20IwzqNz0rIahDT5466QiP7RfAv3Gjxnx06tiJPvroI17qZN47S9YH6sf169dzUJw4cQgH1LyGGjZsyGYY2PSh8gpfGk56lk9Ql4IMT6w8MLbNI0eOmGLkHA0QwDLc4cOGk16lQa+88gqbaPQqHZo4aSLXLhBewrSQMGFCt2VyUJO7EpYCo0zkARm1+a1bt/g+kPbHCR/zz7nz56h9+/bs15I8WXJHbfQs0s3/BWpiEExrgZAWntgcmjlT5kCSS5pHiADGGpAx4eC6Xr16pIVk0tqtgHykChcqTFojjaz0888/89lOP36FAKy1BO3cudMnLnfv3SXYmmHvh90aAgDs/P4IA5Yraa9eDtJSmVMUBim9fIcZ7BRho5s333yTMKjDARCOWnAS1LM19hOYMXMGdevajbTqn7S634EKOnBtTiG9xI+0FzR3hFgP7ovg/ARKmTKlr2QSF0IE2v+nveNpz+Z+lsKXhNOHH37IYfPnz3fEuV648dL9k3PNEvB9IO0v4MKClBAOr7Vr1yZt7qDKlSo7PQWDB+zJcKY0pGf0fFm4cGET5PMMB0Lj5+QzoUQ+cgSMoHblyv/5h/0yEK5NBWSdgPp6eK1atXiPB+vE01f62BTnVwjo0aMHg4ONNHbs3OHx3b8Y9QVpFTU7lmlVGg0cOJCyZ8vuSKsVQY7rQC60HwInc5XKwGittnGbwQRSZkxLgwHeE2FAx6F9JigyMpI3aIKgBkHgt99+o6rVqrLnd768+Zyyt2zZkrJly0bapMDSbrNmzZzicWNmd7jWJh2cSPtv8Nn8aN8OcynnECOAwebCxQtOTzUzGFe+BMJLp4L+5Q00E4G0v39Z/ENng7AMAQAOxh07dHSUtyR8CV9rNTKfocE0tGvXLtJmUDL9kAn3dN67by9vTKP9azxFS1iQEUD/BF6BZ1aCNgdjRSAb2CEfHOCxUZT2K7AWY4trv0JAoYKFeFC/efMmYRa6cdNGnoECHSwjGzpsKEEV3aplK1ZDIxyzEnj+m9koBifsyAW6fv06L3XiG/2DckHYAc0QlvFgmQ68c/E8ELYzhXpHO8iZZLH6bJZcYvmSlSAcDBg4gM0iuXLmolWrV9GoUaP4Q9D+EjyrgSDmutQyQfwE1LZtW9KbzFCNGjXILJuylq3ta45b7cTJJgUjLKRK/cAbGrtFTpg4gb3JHYnlIiQIYHUGBjTrrFX73fCzoQK1ki9e4ruFQA3tnZXMbMpavvbzcRIOMbsCXb3yoF0G2v6szwnVNd7ztdde46VgmBH27tObunbrSvXq1yPttMzVgFYNfY32peB7LG3GzqjYVdCsADh46CCFlQljz3PXusMUAO/yTBkzuUbJfQgQwKwf48ymTZto8ZLF/ESsXMJYYbRkrvw7cvQI1ahZg8aNH8cr15avWM7mAO0UTWlSpwlBraPZI/w5Xhhnix9++EFhlywtLSl4kWMnO70+mVcCGA9+ONxoFRo7WMCBD5sLwXMTjjdwAISjjbYv8tG8eXN2INRLDzm9VsOozz77zOHcAScbPAOOO3Bkyp49u4oNKwOApz/MjQOgbiqMTa5cuRQcBOG8gt3JEK61LYwVVlhgxYVJa85wHJswYYIDTzwXToPw+NdSs1P4zJkzOT/4ip0h4VADByqrdy28cLFSBPzTHatTftNG5PzvnJ8Mbv7aBXbnBG/wreiZLa/6AJ+x0sOU4Y+XHTp04DaAdoIy9Np2zgtPabMLnlalsuc00mL3PKTVwof68ccfFXbewz2+73HjxvEue4G2P1PHR3n2hZke4N2+C/N9YLdTUw+9xayCwzL6GZz1tsGOOKRB34d8ej8Up3DEIX1s6ZcMHtHp7Iu/1npi9RTaL1aVaRMPrzQz8a78035lPIaBp+gP0bdanWFNvth8tuLqd3WAKxB6tqC06kSdOnXK7YMwaSMjIxWWBOJeb8rxULuZQRjYvn27wzvZPCMmn60MeNj3QANHZ47d0dCZwbtVO1aq999/32mFAJ6DLVH1XvNufDMDB5YUYpmZ9v9w8M9aP3iIY5maNUyuH27gt+Lnr11gGR/SYxUOvkGtlXHydEdcoLy0PvdhrqPS/h7mOd7y+sPMWz5P4RCotabSY/vGN6E1C25xWAllXW3gqVwJ+/ffSFT4i4kKJjhm7LHi7so/8BmTHIxP1nR2ubbi6nlbOi0ieaNkSZNRxQoVvUVzuNUfIG2atD7T+ouEx6143XpGCfbONm3asJkGaixWZf3jigFHTjhtwSkK5hisFsDKAr0U060w47MBL3DXzVWsieGLkC7tA4dBa7hchwaB/Pny84OwCsfbNxgoLx9FjQNpf4/iOaEqI3eu3F4fBbOoJ3rhefvZkD3hEB3CYPLERk6eyJV/iRMllj9g+weoKAsBngCWsMeDAJZXwptV/3EGYRtMOGhhZcC2bdsIS5/0Zi+k15CT3uCHd0mDPblO7TpuldVaHQ7T/wPhFicBMQuBUPIykPYXs9CT2goC9kPAr2Og/SCJOW+MrYMjNkWwAABnPzhdYv03ZvsbN2xk5z9suazt/PTxxx+TcSKzvuHUaVN5JUDVqlVJb6bC/xNhjZfrmINAqHkZSPuLOehJTQUBeyIQB7aBsFJl7Pn2j+mtN2+NIMH8MYEfjR8r7SLqzBHMoo5ZTMoh/A0Ot6y4iiYgOBhLqYKAICAICAKCQLRHQISAaM8iqaAgIAgIAoKAIBAcBEQICA6uUqogIAgIAoKAIBDtERAhINqzSCooCAgCgoAgIAgEBwERAoKDq5QqCAgCgoAgIAhEewRECIj2LJIKCgKCgCAgCAgCwUFAhIDg4CqlCgKCgCAgCAgC0R4BEQKiPYukgoKAICAICAKCQHAQECEgOLhKqYKAICAICAKCQLRHQISAaM8iqaAgIAgIAoKAIBAcBEQICA6uUqogIAgIAoKAIBDtERAhINqzSCooCAgCgoAgIAgEBwERAoKDq5QqCAgCgoAgIAhEewRECIj2LJIKCgKCgCAgCAgCwUGA/0o4bpx4wSldShUEBAFBQBAQBASBaIXAfXXP8Xf28VGzUiVLRasKxvbKWP/LOba/q7xf4AhIuwgcK5NSMDNIxM6z8Dc4fAWuhsQcYJCQsyAgCAgCgoAgYDMERAiwGcPldQUBQUAQEAQEAYOACAEGCTkLAoKAICAICAI2QyDkQsD5C+cJh5AgIAgIAoKAICAIPF4E2DEwkCrcuXuHwsPDafny5bRhwwaKHz8+hYWFUeXKlWny5Mk0b948SpQwkd+iSpcuTUopOnzosN+0dk0wYuQIxtjX+3fr1k0cOn0BFEvjxo4bS1OnTqUzZ85Q3rx5qVy5ctxWvv/+e3oiwROx9K3//WtdvXaVevboSWvWrqF48eJRhQoV6JNPPqGkSZJyoejXmjZtSrdv33Z7SJMmTajW67XcwhEwa/Ys+u6779ziEiVKRDNnzHQLl4DgIrBz104aPHgw7d69m8elESNGOHjs68kL/ruAhg4dSqNHj6YihYv4Shpr4wISAu7eu0u1a9emTZs2Ub9+/QgDED6oOXPmUK9evei3336jc+fOUZbMWfwC1aBBAxYC/Ca0cYLOnTpT5syZqV69elSyZEn6+uuvGY379+/TqVOnqG/fvox5qFd1nDp9ik6ePEklS5S0MXce36v3H9CfPv/8cxo2bBi9/vrrFBERQe+//z4dPXr08VUqmj+5S5cuPFjnyZOHdu7cyceOHTto9erVFDdOXO7D0I9h8E6a9IFgcO/ePbpw4QK9/fbbXt/u008/pb1791Lq1Km5L0TCGzduUIECBbzmkYjgIADN8htvvEEQ2iZMmECvvvoqvfTSSzxegcee6Pad29y/btmyhf7880/6+++/PSWzR1jE5k1K3ddzcy+H/iBU/fr1lUZDTZ8+3S3dsWPHVMaMGdWvv/7qFuetTLuH+8Mc+Bw6dIgx15oWN1xnzZqlxowZ4xYebFzbtWunvvzyy5A/N9jvFV3K99cutGCoqlWr5oQ/2kny5MmV7sScwqPLOwW7Hr4w0xMTpTWP6tq1a4zN0SNHVaZMmfi70gIUh+H7Gj9+vNIDuAM/9HMZMmRQd+7ccYRZ32PlypVcLsqzhufLl08NGjTIKcwaL9fexxlv2Pjir8lTs2ZNlT17doWxCmEbN25kHmuNmV9e9OnTh9Nu3rzZb1rzvNhwtuLqWUyyyD9Qec2dO5eqV69OTRo3scQ8uMTsH+q08+ed7fzHTxynS5cvuaW/r+5T5JFIp/CLly5yWsRhtmklqOuOHT9mDbLFdfx4npU0N27eID0QUKtWrZxwuHf/Hh2OPEyQcP8NXbl6hYA1CHi7SsZoA7qz/DdFS55HgAC+Dcw0Mfv8448/HCXmzJGTihcv7rgP9MKUAS2f6/d4/cZ1Ov3nabei0EYuXLzA4WfPnSV8t1ZCmSjPE6EvOHT4EOE9XMnU5czZM4426Jrm39wfPHiQxo4dS0kSJ+HszzzzDGtQcHP27FkO69+vP7Vu1drJlIk+r0qVKuTtG0yXLh0tXbqUUJ6hXbt3EZ7XqFEjEyTnECBw89ZNWrVqFX8DZtZfvFhxSpAggUOD6qsaWoD2FW2LOL9CANRmoCJFvNtLevbsyWprpBs9ZjSVDitNrVu3pty5c1PlFysTOhUMTlBnPvfcc6y6Qdrde3bzR5MzZ0625+TPn5+yZs1Ks+fM5vQNGzWkihUrUuPGjSl9hvQ05PMhyGZrgu1q0aJFTh3UtOnTGGvwAXbil19+mYBdm7ZtGH9gh6NP3z6MHT4cpEFYlw+7MA+yZctGegZEJUqW4M4NceAlaNHiRdStezfSMyMaMmQIFStejA4cPMBx8hMaBNDBwQfnxIkTVK58OZo0eZLjwVorxD468+bPo6LFijJfv533Lce3bNWSMmbKSM/meZbvtSaHihQtQiVLlaSFixaSnkERvr88z+UhDMIdOnYgPQumLFmyUIuWLTgPzH1NmjbhtLC11q1Xl5566ilCmxn48UDCAIj82bJn43z4rg2dOHmC22ClSpXYHp8jRw5asXIFRw8bPowKFipI5Z8vz+WgHiVKlDBZH/ocVjrMzc6Ld8MAAV8KUPny5Z2eg75q/fr1pLWfTuHWm4IFClKqlKmsQTR79myueyAmUaeMcvNQCOzatYuuX7/ObdYU9OSTT1L69OkDMpPFjet3CDTFxtqzXwS0moRf3petK1nSZJQ8WXKeoXTv3p3wwS9buoztlRAiFi5cyHYz2LcvX77sADNhwoSUM1dOunjxIo0bN47ee+89tuVAwsbAD1vn2rVrad3adfTWW2+xLwI6DjvR8ePHeQDGINy4SWNCJ2wlzM66du1KDRs2pLlz5rKTy48//ch2LjhtLlmyhO2WWiXK/EBeOHBiEEA8cE6YKCHzoHfv3jxTgi307t27BF5iAKhZo6bD2QnP2r5tOz2b+8GgYq2LXAcXATgE4juEXwY0QWXKlqFNEZsoz7N52L5dt05d+uCDD+ivv/5yaHImTZzEgzf4D8pfID/HYSaM8iBQwq/gwIEDBKfdlClTsvNvmTJlaMqUKbRv/z56MuGTLGTCTj5p0iR65ZVX+Lt8+umnub116NCBZ9zQFKFc+A0Zqlu3LqGsX7f/SuhLbt26xbZ2aLQKFSrEdYFgAw0H2l2pUsHdvXTNmjUEnFKnSm2q6HSGgyX6JWjbokKLFy+mWrU8OxFGpRxJGzUE4OcBSpMmjVNGCAFoi7ISzQkWjzd+hQBt8+eM2u7vsQBrYIqUKahYsWJsOkA4ZgsgOF7EixuPqr9SndBxGMqdKzfPSHH/7rvvUscOHVl4QEeE1QZw9jAquY8++ojSpk1LI0eONNltccaspWDBgnxglgRHJCtNmzqNPcWhRQFVrVqVoOKCdIzODgM+NAS4xyzQ0LfffkvovOERC49pEDrvPr370ORJk6lZs2Z09epVmjFzhski58eMQLq06Wjr1q3UuXNnSpEiBQ+q0JRBm2MoWbJk5tJxxvdkqHKlyjzzx7e04LsFzH8498LRF+1rQP8BVLpUaRYqkefw4cOUPVt2drbCfdu2banF2y3ohedfYCHyypUrLMBXqliJ1erQ5GFQB8EjHwM/hBLU8YsvvmCNBeLhnFflpSqsTUBdJk6cSKO+GEUTxk/gvMH4WblqJU8sxowd47X4+fPn8zeE/ipQ2rN3D/3+++8OzALNJ+keHgFj1kmcOLFTYXHixOF7rEQT8o2AXyEAEhUIkro/SpkiJdtn8EGULVeWvvnmG84Cb1tD6GysZNQxRmBAHJYhgqwCA9RvUCWiAzl56iTH2+EH+Ddu1JiPTh07EYQhK4ZZsmZhGKDCBKHx44Bq1RC0BDDDYKaGGVj40nDCYAF1KciUZ+WBsW0eOXLEFCPnaIAAhLrhw4azMIAZOUw0WC0wcdLEgGuH5b2mk0QmzIrhGW++RYRhYAbdvHmTzxBGQdY0pr1YwyCcGH8S02dghg/1Oo7//ve/XHdoAbg8bebAzNss2ePAIPycO3+O2rdvz98AtJaeCN8GviNoHaNC2lGXzaGZM2WOSjZJ+wgQMGME/GWshHaLFVZp0zxox9Y4uXZGwK8QgFkoyKhdnLP//w4OQbA1Y/YOuzUEAKzb9EfWzsikxXJD0C+//GKC+IxOB50VOhq70ptvvskzDvhYwMkKakuYX6DWxay9W9dulCRJEoJq3xDsyR07dmQ1MpYbQhho0aKFifZ4hvMTyDqL9JhQAkOGQPv/tHc8C+aY8CXh9OGHH3IYZrDRjUzHDKEDy0rNAYHUCJ70YMIW1KrD4RVLnGFuhCbEGxlTAJaXRYXw7aHfEwo9AvCBAkHbZCVoCKwTIWucXDsj4FcI6NGjB6+hXbBgAe3YucM59z93X4z6gqZq+yIcy2D/HzhwIKsQTeKoqmSKFi3KWX/++WdTBJ+hesR632DPGpwe+phuPHlRoyoY0HHA1hoZGcnqfghqEARgv69arSr7ZuTLm8+p5i1btmTVK3wKgCvU/a4Ee60h+GKAzIzNhMNXQOjxIIDBxnjnmxroJU58afiC9e4gI0jjGt8f9pgINWGwB6GO1lUD77zzDsHXJRQEYRkCAMwmMDcaWhK+xFw6zhCkIFRHxRSwd99eNplg/xOh0CNQrmw59lexjhVY3QQT9KN0Mg39m4XuiX6FgEIFC/GgDvUKZqEbN210LPOB2m/osKGsQmvVspVDxYiPCR7CZjaKwWnwkAdaAdimzQwBr2nUjdgBzRA2QoEDFNSJeB4Iy4v27NnDTnAmXWw+myWXsMtbCcLBgIED2CySK2cuWrV6FY0aNYodY6D+gvMWBDHXpZYJ4idge+7p06epRo0ajmVT1rKxcYYhOBRCkjbCQqrUqTgKu0VOmDiBIjZHmKRyDhECUP1jQIMzqCHY0kHYWAqULVs2Pv/www+8ZLRf/368nA0CNJwIoa2DkyC+OyNo4owd88y3iAKMQGja35XLD55pHAyRxqj98U0bQh3N940VKBAEYN6D38mngz6lN2u/yU6nxrEUZaBuViHBlPWwZ5T92muv8S5yMEn27tObunbrSvXq1yNs9mMlmALWrVvncVXAwUMHKaxMGE2ZOsWaha9hCoAfVKaMmdziJCA0CGDzuv379zsmqeAtNAT9+/fnCvjin2s7D02No9lTrJsG+NoEQXcqSjufKT3TUNpOrbSnv9Lrk5VmgGNTDe35rwoXLgxPDIWNTbDpRqpUqXjjDWzgoJcNKq0G5KN58+ZKzzaVXnrI6bVtR3322WeODRv0TIGfoW2TSq/Z5c0g9PaOjnhfdY3ucf4w17N1pYUgxgVY5sqVS2EjEq0FUVpNz+Fa28JYaK9upc0kjrRIj0ObTJTePcsJL92BK+0LoPSyGqfwmTNnch7wFRtvYIMVLQAoLRQ40ulBQmkNDfNOd6yO8OiOdUyqn792oQdU5g2+FT2zVbqjYz5rYduJH1qIdrQHrQFSejBW+I60CUjp1QOcB20E6fQuoKpa1WqcXjudKr1SQOl18grPQhq0O71yh5+Ley1kqK+++kppJz7+xhFWtmxZpddqK+17wu1D+w8o7QfAddJmRK4n0uFAu9bOhhynHVO5PSIc76PX2Tu9RyC884UZ6mOe63rWfhROz8IGXOiztEbFKRx1QN+H/Ho/FLc4rYVTsaVfCgTvUKfxxV9rXbRzK/eP2jGax43t27c7eOWNf9qUxu0ZvMU4pLe/d+Sxlh0br6246hmd7x0DXQHQUrvSy/6U3r7WK2CRkZGOj0nbZh5qNzMIA2Co2Q3KtT4x8T6qmPt6RzRwdKDYHQ2dq/ajUHrmxZ25Xm7lxCO9jEnp9dFOYSjbCAF6xQDv/IiO21NnCB5ojY1bfl/1k7jAd0nz1y60Joyx10tq+RvUWhkFwdsTxhD09FJCjtu/b7/Cd+spXSjC0G5Qd2/t6mHq4A+zQMtGP+Nr11PUXWsW3DDERMYbDwJ9tqTz/o1Ehb9aI6UwKfKEpzf+eUprhzArrvG1FBQlwp4AFStU9Jkne7bsjviH9c6Ex6143TrgdLqAvbNNmzZspkmTOg3hoH+g142e7ZtwioI5Bqp9rCzA2n9XMj4bcNby9Sca8EXAMjWhx4NA/nwPloFiFY6/bxAb2hgytnlzH+oz2o2pe6ifHejz/PUzMIt6IiyVFIoeCCROlJiw7NwTeeOfp7R2C4uyEGA3gKLz+2JpFpbIaPUsLVu2jPcSwMqAbdu2kTbD0E8//cSbx2B/ACzxgj25Tu06bq+EPyUCmT0h3BJIgCAgCAgCgkCsRECEgBjMVmykFLEpgjdlgRCwb98+dhDEbL9pk6b8ZmbnRWyPqv8AyO1tp06byru/YZOhFStWUIb0GTw6R7lllABBQBAQBASBGI+ACAExnIXYJ1s7dvHh6VXwd8MLf1joKYrDmjdrTjiEBAFBQBAQBOyHgN8lgvaDRN5YEBAEBAFBQBCwBwIiBNiDz/KWgoAgIAgIAoKAGwIiBLhBIgGCgCAgCAgCgoA9EBAhwB58lrcUBAQBQUAQEATcEBAhwA0SCRAEBAFBQBAQBOyBgAgB9uCzvKUgIAgIAoKAIOCGgAgBbpBIgCAgCAgCgoAgYA8ERAiwB5/lLQUBQUAQEAQEATcERAhwg0QCBAFBQBAQBAQBeyAgQoA9+CxvKQgIAoKAICAIuCEgQoAbJBIgCAgCgoAgIAjYAwERAuzBZ3lLQUAQEAQEAUHADQERAtwgkQBBQBAQBAQBQcAeCIgQYA8+y1sKAoKAICAICAJuCMSJ2LxJxY0Tzy1CAoKHwH11jwTz4OEbU0uWdhF1zglmUccsJuUQ/gaHW8A1rFQZLjw+fvGf80KhQ2Dz1gjBPHRwx5gnSbuIOqsEs6hjFpNyCH+Dwy3gakjMAQYJOQsCgoAgIAgIAjZDQIQAmzFcXlcQEAQEAUFAEDAIiBBgkJCzICAICAKCgCBgMwRCLgScv3CecAgJAoLA40Hg2PFjdOXqFaeHewpzSiA3goAgECsRYMfAQN7szt07FB4eTsuXL6cNGzZQ/PjxKSwsjCpXrkyTJ0+mefPmUaKEifwWVbp0aVJK0eFDh/2mtWuCESNHMMa+3r9bt27iXOgLoFgW9/EnH9Ovv/7q9a1SpEhBkydN9hqPiLXr1tKnn35Kq1evpm+++Ybq1qnrMcxnITEs8uq1q9SzR09as3YNxYsXjypUqECffPIJJU2S1PEmP/70I3322Wd08uRJypo1K+HbqvJSFUe8p4tAyvWUT8KCi8Dde3epatWqlD9/fvpy1Jd+H9a2XVv666+/HOlef/11atqkqePeDhcBCQEAtnbt2rRp0ybq168ffyT4oObMmUO9evWi3377jc6dO0dZMmfxi1mDBg1YCPCb0MYJOnfqTJkzZ6Z69epRyZIl6euvv2Y07t+/T6dOnaK+ffsy5qFe1XHq9CnuKEuWKGlj7jyeV+/dqzeNHjOa2rVrx4I3Bi0I0xfOX6BFixfRt99+67diWbJk4c7xp59+cqT1FOaIjAUXXbp0oe+++47y5MlDO3fu5GPHjh0sCMWNE5dOnjrJ3xkGf3xfK1eupHXr1tGiRYuoWtVqXhHwV67XjBIRVAR69+7NvM2QIYPf5yxespjGjBnDwiESx40bl3r27Ok3X2xL4FcIuK/uU+PGjfmjmD59OjVp3MSBwfud36e6deuyRuD8+fMBCQEDBwx05JcL7wgUK1aMI5MlS0aug+6tW7fo8uXL3jMHKQazyOeee86tPkF6nBTrgkCRIkU4JHXq1E48ePnll2nv3r0uqd1vc2TPQSVKlHCK8BTmlCAG38DsiIH/jz/+oCSJk/C5XPlyPMhv3bqVwkqH0bBhw2j48OHUskVLunf/HnXv3p2GDh1KI4aP8CoEBFJuDIYtxlYdGmoIfIES+rOl4UsJ34+dya9PAECdO3cuVa9e3UkAMKBh9t+0aVOCEGCl4yeO06XLl6xBfA2hIvJIpFP4xUsXOS3iMNu0EswQsFfajeLH8yyf3bh5g6pVq0atWrVyggQd2OHIw3T7zm2n8EBvYCMG1iDg/ffffztlRRsYP368U5jchBYBmOA8EdrEkiVLnKLAv0OHDzmF4cZTGZ7C3DLGwICDBw/S2LFjWQBA9Z955hmCuhd09uxZPkOohQAAihc3HnXt2pUgeKNP8kaBlOstr4QHB4Fr169R63da88w+USL/Zully5bR7t27acvWLbRr967gVCqGlOpXCID9EGRmIZ7eCyoUqK1BUFmWDitNrVu3pty5c1PlFyvT9RvXeXDqP6A/zyTfeOMNTrt7z25q1KgR5cyZkwYPHsyqSqjlZs+ZzekbNmpIFStWZE1E+gzpacjnQzifnX9Gjx7NWhmrkDBt+jTGGnzImzcvS7bArk3bNow/sMPRp28fhu7mrZucBmFdPuzCPMiWLRtB01OiZAnuLBEHXoKgbu7WvRvduXOHhgwZQsWKF6MDBw9wnPw8XgQiNkewSQ4zXdDZc2fp1RqvUrWXq7EJD3ycNXvW463kY3o6ZvpFCj/QnpgqQE2cIEECKleuHAe90/odE8XnNGnS0JNPPknFixd3CrfeBFKuNb1cBx+B9u3bc5/20osvBfSwQZ8NomvXrrF5G1pXCBAQpu1IfoWAzZs3My4FChTwik+ypMkoebLkrG6DOq1SpUq0bOkyev/999k+s3DhQra7QFCwqrETJkxIOXPlpIsXL9K4cePovffeo5deeokHIZggjh49SmvXrqV1a9fRW2+9xb4Iw4YP81qP2Bhx/PhxHoAxCDdu0phGjBjh9JqYwWP20rBhQ5o7Zy6rMuHo9Oeff7LtGDNEqI/R4MEPEBw4S5YqyfHAOWGihMwD2NMwU3r77bfp7t27rBqFv0fNGjVp5oyZnBfP2r5tOz2b+1m+l5/QI7Bv3z7q1LkTvdfmPWrWrBnbsk0t4NQG352lS5c6HAnhPyD0AIE1a9awQ2TqVKk9QrJp4ya6d+8etW3b1mO8t0B/5XrLJ+EPj8D87+bzrB4TlEAJjuzQBvTp04fgVDtx4kT+lgLNH5vS+RUCjh07xu+bMWNGv++dImUKglQF0wHoqaee4jMGJKjaqr9SnZ5++mkOw0/uXLkd9ph3332XOnboyMJDypQpebUBNAZmxvvRRx9R2rRpaeTIkY78drjArKVgwYJ8wJ6LAd1K06ZOozNnzrAWBeHwjE2ePDldv36dOzsM+NAQ4P7LL//vLQtHsg4dOvBMCR7TIDh99undh73MMbhcvXqVZsycwXHyE30QeOKJJ1jzA2c3qLitVKhQIapZsyYLehD80qdPzwKeNY1dr1euWskTizFjx3iFoFfvXvy9FMjvfdLjmjmQcl3zyP2jQeD0n6d5cggtZoL4CQIu9Kl0T7HPx4D+A2jVqlXsODp//nzatn1bwGXEloR+hQB0IqBAHI9SpkjJgP7+++9UtlxZXoaEvJCsDWFVgZXgkQkyAgOusQwRZBUYUqVMRTly5KATJ06wRy8nsMEP8G/cqDEfnTp2IghDVgyzZH2wImP9+vWMRpw4cQgHTCyGoCWA7RM2fai8wpeGs90Tak2QKc/KA5hpQEeOHOGz/EQfBHLlykXt2rYjrCKZNWsWezWb2qGNYPVI87ebs0AIQcD6/Zl0djufO3+OoDLGNwCtpSf6fOjn7DPR5YMunqI9hgVSrseMEvhIEGjTpg2PHdB4wlyM4/bt2wS/DVy77ofh6aGFCxVmjQDifv75Z09JYnWYZ08jyytjFgoBAF62vgjLCGEzhtoe2oMFCxbwssFSpXz/OREGLFfCckPQL7/84rRmE4NU0qRJWX3jmscu92+++Sa/KhwA4dAFJ0GYX7CkqUyZMrR1y1ZKkiQJQbVvCEuhOnbsSPhgsNxw48aN1KJFCxPt8ZwuXToOh1ZGKPoikC5tOvZkNzWEKQhanA8++ICmTplK1V+tTlgSZ2eCwyuWOMPcWLlSZY9QLFy0kGbOnMlLBD0m8BAYSLkesknQI0Tg8OHDrN3Zs2ePo1QIvRjM9+/fT6/VfI2SP+dZ6HNk0Be1atUiOBRaJ57W+Nh8/WAa7uMNe/ToweBgUN+x03Nn8sWoL2jq1KnsWAb7/8CBAyl7tuyOUrGeOSpUtGhRTu4qlV25coXVNtaNPqJSbkxKi5USnggDOg4szYyMjGS1LwQ1CAKw31etVpV9M/LlzeeUvWXLlpRNO//BpwC4YqBwJSw9NARfDBDUy1aCr4DQ40HAfEfm7KkWsGWDzx92+dBTtO3CICxDAICDMcyNhpaE/381xfIVy1loXrx4MaVNk5aTYIa/ecsDfyiTx3oOpFxrerkODgK7d+2mq1euOh0YzKH9RDg0oIEQHOCR74UXXggkeaxK41cIKFSwEA/qN2/eJMxCN27aSGaAwjKkocOGElTRrVq2YjU00IFtBZ7/ZjaKwWnwkMEMHGzTN2783wsT5YJg1zYE5zQ4IkIDgeeBsNwJ0h4c0+xAZskl7PJWAvYDBg5gs0iunLlo1epVNGrUKIJXMzYYunDhAkEQc11qCXsZBojTp09TjRo1HMumrGVv2bLFcQv1GkwKRlhIlToVx2Et7oSJEwhe6UKhRcD451y6dMnrg6FZg3CI72bK1CkEnuJ7gx0cS6EgSIPM2XptDeNEMfwH/dNrr73GTmOYHfbu05u6dutK9erX450T8XoQBiAkYPUTnJPhE9ChYwcqX768YxnhwUMHKaxMGOOJPIGUi3RC0QMBV/4dOXqEatSsQePGj+OVaxAC4SA4YMAASpM6TfSodChrEbF5k1L39dzCz/HDDz8ovRWj0tKS0nZqpT39lV5Go7Q3stJmAM6vPf9V4cKFMe1XekBS2llDpUqVSullOUqroJVeNqi0/ZmP5s2bKz3bVPrj4/RaDaO0F7OjHtornp+hnQFVlSpVVPbs2ZXexMMR76++0TneH+Z6tq60EMS4AEttA1b58uVT2hFMaTU9h2ttC2Nx4MABpc0kjrRIj0N7vKoJEyY44aXtw0qvgVa7du1yCtdqUM4DvmqnMqW3dlZaAFB6AHGk03Y2pTU0zDvdsTrCozPOMa1uvtqFdtpU2gmQ+aTNPUrvvKnAe9d3RNvRzqPMpzp16ijtcMt5GjZoqLSvDX/DaB96KanSe4AovUOeW5hrmdH53hdmejbI726+CetZbxKk9OREaXOXxzR6J0WltV6ML/o+5NX7ofC9v3KjM14xrW6++OvtXbTJWDVp0sTxbbjyT/uV8RgGnqI/RN86Z/YcR3pv5camcCuucXATVqqMxiMwwp7Z27ZtY7V8hvSet2aEpIX1/lgRALUavNWfSPBEYA9wSXXi5AmWyLVwwWpwl+gYebt5awRFBXNfLwlbJlT80L5g+SWWW+LAEjHM2rdstszu9axn0KBBtGH9Bqciv5n1De/FgBUD2NsBzprYexv8sxK0ENBQwA4t9OgReFTtApt0wWxjVNvwoPb2rT76twhtiY8KM3+1hhYFquV/24/5K1/iPSPwqPjryj84SEOzDGdz8514rkHsDLXi6tcx0BUC7AlQsUJF12Cne6s/wMMCnDlTZsIh5I4A7JJw9oOZBmosVmX944oBR044DcJ5CeYYqPaxsgD7OLiSsTFjlYDr5irWtPBFEAHAikj0vMYqHSvFVgHA+o7BvoZZVCjmIuDKv8SJEssfsP3DzigLATG3GcS+mmPGDm/Wr776ije+gIMgVgZAU6PNMIQ/ioGXOPYHwH4DsH3WqV3HDQj8KRHI2JzdEkiAICAICAKCQKxEQISAGMxWbKQUsSmC/yYVu19hJzk4CGK2b/4O0+y8CEcn/AOdK02dNpV3ZcQmQytWrGC1cf369V2Tyb0gIAgIAoJALERAhIAYzlTsc46/PPX2t6f4u+GFPyz0+pbNmzUnHEKCgCAgCAgC9kPA7xJB+0EibywICAKCgCAgCNgDAREC7MFneUtBQBAQBAQBQcANAREC3CCRAEFAEBAEBAFBwB4IiBBgDz7LWwoCgoAgIAgIAm4IiBDgBokECAKCgCAgCAgC9kBAhAB78FneUhAQBAQBQUAQcENAhAA3SCRAEBAEBAFBQBCwBwIiBNiDz/KWgoAgIAgIAoKAGwIiBLhBIgGCgCAgCAgCgoA9EBAhwB58lrcUBAQBQUAQEATcEBAhwA0SCRAEpLilqQAAAF9JREFUBAFBQBAQBOyBgAgB9uCzvKUgIAgIAoKAIOCGgAgBbpBIgCAgCAgCgoAgYA8ERAiwB5/lLQUBQUAQEAQEATcE4mzZskW5hUqAICAICAKCgCAgCMRaBPA386D/ATeT7QT5kh/sAAAAAElFTkSuQmCC)\n"
      ],
      "metadata": {
        "id": "G6SEARKAP5r5"
      }
    },
    {
      "cell_type": "markdown",
      "source": [
        "###**Answer 8**\n",
        "\n",
        "The SQL queries for the above tasks would be as follows, assuming your table name is \"Weather\":\n",
        "\n",
        "a) All the temperature data.\n",
        "\n",
        "\n",
        "```\n",
        "SELECT Temperature FROM Weather;\n",
        "```\n",
        "b) All the cities, but without repetition.\n",
        "\n",
        "\n",
        "```\n",
        "SELECT DISTINCT City FROM Weather;\n",
        "```\n",
        "c) All the records for India.\n",
        "\n",
        "\n",
        "```\n",
        "SELECT * FROM Weather WHERE Country = 'India';\n",
        "```\n",
        "d) All the Fall records.\n",
        "\n",
        "\n",
        "```\n",
        "SELECT * FROM Weather WHERE Season = 'Fall';\n",
        "```\n",
        "e) The city, country, and season for which the average rainfall is between 200 and 400 millimeters.\n",
        "\n",
        "\n",
        "```\n",
        "SELECT City, Country, Season FROM Weather\n",
        "WHERE Rainfall BETWEEN 200 AND 400;\n",
        "```\n",
        "f) The city and country for which the average Fall temperature is above 20 degrees, in increasing temperature order.\n",
        "\n",
        "```\n",
        "SELECT City, Country FROM Weather\n",
        "WHERE Season = 'Fall' AND Temperature > 20\n",
        "ORDER BY Temperature;\n",
        "```\n",
        "g) The total annual rainfall for Cairo.\n",
        "\n",
        "\n",
        "\n",
        "```\n",
        "SELECT SUM(Rainfall) as AnnualRainfall FROM Weather\n",
        "WHERE City = 'Cairo';\n",
        "```\n",
        "h) The total rainfall for each season.\n",
        "\n",
        "\n",
        "```\n",
        "SELECT Season, SUM(Rainfall) as TotalRainfall FROM Weather\n",
        "GROUP BY Season;\n",
        "```\n",
        "\n",
        "\n",
        "\n",
        "\n",
        "\n",
        "\n",
        "\n",
        "\n",
        "\n",
        "\n",
        "\n",
        "\n",
        "\n",
        "\n",
        "\n",
        "\n"
      ],
      "metadata": {
        "id": "oItKcKL-SD6E"
      }
    },
    {
      "cell_type": "markdown",
      "source": [
        "###**Question 9**\n",
        "\n",
        ". Suppose list words is defined as follows:\n",
        "\n",
        "\n",
        "```\n",
        ">>> words = ['The', 'quick', 'brown', 'fox', 'jumps', 'over',\n",
        "'the', 'lazy', 'dog']\n",
        "```\n",
        "\n",
        "Write list comprehension expressions that use list words and generate the following lists:\n",
        "\n",
        "a) ['THE', 'QUICK', 'BROWN', 'FOX', 'JUMPS', 'OVER', 'THE',\n",
        "'LAZY', 'DOG']\n",
        "\n",
        "b) ['the', 'quick', 'brown', 'fox', 'jumps', 'over', 'the',\n",
        "'lazy', 'dog']\n",
        "\n",
        "c) [3, 5, 5, 3, 5, 4, 3, 4, 3] (the list of lengths of words in list words).\n",
        "\n",
        "d) [['THE', 'the', 3], ['QUICK', 'quick', 5], ['BROWN',\n",
        "'brown', 5], ['FOX', 'fox', 3], ['JUMPS', 'jumps', 5],\n",
        "['OVER', 'over', 4], ['THE', 'the', 3], ['LAZY', 'lazy',\n",
        "4], ['DOG', 'dog', 3]] (the list containing a list for every word of list\n",
        "words, where each list contains the word in uppercase and lowercase and the\n",
        "length of the word.)\n",
        "\n",
        "e) ['The', 'quick', 'brown', 'fox', 'jumps', 'over', 'the',\n",
        "'lazy', 'dog'] (the list of words in list words containing 4 or more\n",
        "characters.)"
      ],
      "metadata": {
        "id": "Tzlf6Sy7UklL"
      }
    },
    {
      "cell_type": "markdown",
      "source": [
        "###**Answer 9**\n",
        "\n",
        "Here are the list comprehension expressions for each part of the question:\n"
      ],
      "metadata": {
        "id": "fQy1m0sNVjLF"
      }
    },
    {
      "cell_type": "code",
      "source": [
        "words = ['The', 'quick', 'brown', 'fox', 'jumps', 'over', 'the', 'lazy', 'dog']\n",
        "\n",
        "# a)\n",
        "upper_case_words = [word.upper() for word in words]\n",
        "print(upper_case_words)\n",
        "\n",
        "# b)\n",
        "lower_case_words = [word.lower() for word in words]\n",
        "print(lower_case_words)\n",
        "\n",
        "# c)\n",
        "length_of_words = [len(word) for word in words]\n",
        "print(length_of_words)\n",
        "\n",
        "# d)\n",
        "words_details = [[word.upper(), word.lower(), len(word)] for word in words]\n",
        "print(words_details)\n",
        "\n",
        "# e)\n",
        "four_or_more_chars = [word for word in words if len(word) >= 4]\n",
        "print(four_or_more_chars)"
      ],
      "metadata": {
        "colab": {
          "base_uri": "https://localhost:8080/"
        },
        "id": "c1h_ZBGJWhT_",
        "outputId": "40191b2f-ddce-40e0-dc9f-fdaf18b9c88e"
      },
      "execution_count": 26,
      "outputs": [
        {
          "output_type": "stream",
          "name": "stdout",
          "text": [
            "['THE', 'QUICK', 'BROWN', 'FOX', 'JUMPS', 'OVER', 'THE', 'LAZY', 'DOG']\n",
            "['the', 'quick', 'brown', 'fox', 'jumps', 'over', 'the', 'lazy', 'dog']\n",
            "[3, 5, 5, 3, 5, 4, 3, 4, 3]\n",
            "[['THE', 'the', 3], ['QUICK', 'quick', 5], ['BROWN', 'brown', 5], ['FOX', 'fox', 3], ['JUMPS', 'jumps', 5], ['OVER', 'over', 4], ['THE', 'the', 3], ['LAZY', 'lazy', 4], ['DOG', 'dog', 3]]\n",
            "['quick', 'brown', 'jumps', 'over', 'lazy']\n"
          ]
        }
      ]
    },
    {
      "cell_type": "code",
      "source": [],
      "metadata": {
        "id": "Jp5BsLYDWk27"
      },
      "execution_count": null,
      "outputs": []
    }
  ]
}